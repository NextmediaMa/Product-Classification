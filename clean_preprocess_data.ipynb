{
 "cells": [
  {
   "cell_type": "markdown",
   "id": "3730a9aa",
   "metadata": {},
   "source": [
    "\n",
    "In order to better understand our data, we start by visualising and exploring our data which are the first steps in data anlysis. \n"
   ]
  },
  {
   "cell_type": "markdown",
   "id": "12b3a008",
   "metadata": {},
   "source": [
    "# Data"
   ]
  },
  {
   "cell_type": "code",
   "execution_count": 86,
   "id": "3dd9ed90",
   "metadata": {},
   "outputs": [],
   "source": [
    "import pandas as pd \n",
    "import warnings\n",
    "warnings.filterwarnings(\"ignore\")"
   ]
  },
  {
   "cell_type": "code",
   "execution_count": 87,
   "id": "5b64b719",
   "metadata": {},
   "outputs": [
    {
     "data": {
      "text/html": [
       "<div>\n",
       "<style scoped>\n",
       "    .dataframe tbody tr th:only-of-type {\n",
       "        vertical-align: middle;\n",
       "    }\n",
       "\n",
       "    .dataframe tbody tr th {\n",
       "        vertical-align: top;\n",
       "    }\n",
       "\n",
       "    .dataframe thead th {\n",
       "        text-align: right;\n",
       "    }\n",
       "</style>\n",
       "<table border=\"1\" class=\"dataframe\">\n",
       "  <thead>\n",
       "    <tr style=\"text-align: right;\">\n",
       "      <th></th>\n",
       "      <th>ImgId</th>\n",
       "      <th>title</th>\n",
       "      <th>description</th>\n",
       "      <th>categories</th>\n",
       "    </tr>\n",
       "  </thead>\n",
       "  <tbody>\n",
       "    <tr>\n",
       "      <th>0</th>\n",
       "      <td>B000HYL1V6</td>\n",
       "      <td>TUNGSTEN SOLDER PICK WITH HANDLE</td>\n",
       "      <td>Solder Pick for picking up molten solder when ...</td>\n",
       "      <td>Arts, Crafts &amp; Sewing</td>\n",
       "    </tr>\n",
       "    <tr>\n",
       "      <th>1</th>\n",
       "      <td>B00006HXWY</td>\n",
       "      <td>Write Right 98167 Screen Protector for Sony T615C</td>\n",
       "      <td>We all screen. And we all need to protect thos...</td>\n",
       "      <td>Cell Phones &amp; Accessories</td>\n",
       "    </tr>\n",
       "    <tr>\n",
       "      <th>2</th>\n",
       "      <td>B000GAWSBS</td>\n",
       "      <td>Casio Mens DBC310-1 Databank 300 Digital Watch...</td>\n",
       "      <td>Bringing you precision at a glance, the Casio ...</td>\n",
       "      <td>Clothing, Shoes &amp; Jewelry</td>\n",
       "    </tr>\n",
       "    <tr>\n",
       "      <th>3</th>\n",
       "      <td>B000040JOL</td>\n",
       "      <td>Factory-Reconditioned DEWALT DW260KR Heavy-Dut...</td>\n",
       "      <td>Factory-Reconditioned DEWALT DW260KR Heavy-Dut...</td>\n",
       "      <td>Tools &amp; Home Improvement</td>\n",
       "    </tr>\n",
       "    <tr>\n",
       "      <th>4</th>\n",
       "      <td>B00006IB78</td>\n",
       "      <td>Energizer 2 in 1 Light</td>\n",
       "      <td>This twoway light features a bright flashlight...</td>\n",
       "      <td>Health &amp; Personal Care</td>\n",
       "    </tr>\n",
       "    <tr>\n",
       "      <th>...</th>\n",
       "      <td>...</td>\n",
       "      <td>...</td>\n",
       "      <td>...</td>\n",
       "      <td>...</td>\n",
       "    </tr>\n",
       "    <tr>\n",
       "      <th>46224</th>\n",
       "      <td>B0000AV1J7</td>\n",
       "      <td>Berkley Trilene XL 1000 - yard Fishing Line, C...</td>\n",
       "      <td>Smooth - casting Berkley Trilene XL Fishing Li...</td>\n",
       "      <td>Sports &amp; Outdoors</td>\n",
       "    </tr>\n",
       "    <tr>\n",
       "      <th>46225</th>\n",
       "      <td>B0006MZPLG</td>\n",
       "      <td>Badger Air-Brush Company Basic Spray Gun Set</td>\n",
       "      <td>An easy to use, top quality spray gun for the ...</td>\n",
       "      <td>Arts, Crafts &amp; Sewing</td>\n",
       "    </tr>\n",
       "    <tr>\n",
       "      <th>46226</th>\n",
       "      <td>B000GBO8SS</td>\n",
       "      <td>Fimo Soft Polymer Clay 2 Ounces-8020-53 Tropic...</td>\n",
       "      <td>Fimo Soft Polymer Clay is easier to use than b...</td>\n",
       "      <td>Arts, Crafts &amp; Sewing</td>\n",
       "    </tr>\n",
       "    <tr>\n",
       "      <th>46227</th>\n",
       "      <td>B0000VMA16</td>\n",
       "      <td>Wilton Icing Colors 1 Oz: Rose Petal</td>\n",
       "      <td>Icing Colors. This plastic bottle contains 1 o...</td>\n",
       "      <td>Grocery &amp; Gourmet Food</td>\n",
       "    </tr>\n",
       "    <tr>\n",
       "      <th>46228</th>\n",
       "      <td>B000H6UOSK</td>\n",
       "      <td>Polyform Sculpey III Polymer Clay 2 Oz: French...</td>\n",
       "      <td>Sculpey 3 Polymer Clay is America's original o...</td>\n",
       "      <td>Arts, Crafts &amp; Sewing</td>\n",
       "    </tr>\n",
       "  </tbody>\n",
       "</table>\n",
       "<p>46229 rows × 4 columns</p>\n",
       "</div>"
      ],
      "text/plain": [
       "            ImgId                                              title  \\\n",
       "0      B000HYL1V6                   TUNGSTEN SOLDER PICK WITH HANDLE   \n",
       "1      B00006HXWY  Write Right 98167 Screen Protector for Sony T615C   \n",
       "2      B000GAWSBS  Casio Mens DBC310-1 Databank 300 Digital Watch...   \n",
       "3      B000040JOL  Factory-Reconditioned DEWALT DW260KR Heavy-Dut...   \n",
       "4      B00006IB78                             Energizer 2 in 1 Light   \n",
       "...           ...                                                ...   \n",
       "46224  B0000AV1J7  Berkley Trilene XL 1000 - yard Fishing Line, C...   \n",
       "46225  B0006MZPLG       Badger Air-Brush Company Basic Spray Gun Set   \n",
       "46226  B000GBO8SS  Fimo Soft Polymer Clay 2 Ounces-8020-53 Tropic...   \n",
       "46227  B0000VMA16               Wilton Icing Colors 1 Oz: Rose Petal   \n",
       "46228  B000H6UOSK  Polyform Sculpey III Polymer Clay 2 Oz: French...   \n",
       "\n",
       "                                             description  \\\n",
       "0      Solder Pick for picking up molten solder when ...   \n",
       "1      We all screen. And we all need to protect thos...   \n",
       "2      Bringing you precision at a glance, the Casio ...   \n",
       "3      Factory-Reconditioned DEWALT DW260KR Heavy-Dut...   \n",
       "4      This twoway light features a bright flashlight...   \n",
       "...                                                  ...   \n",
       "46224  Smooth - casting Berkley Trilene XL Fishing Li...   \n",
       "46225  An easy to use, top quality spray gun for the ...   \n",
       "46226  Fimo Soft Polymer Clay is easier to use than b...   \n",
       "46227  Icing Colors. This plastic bottle contains 1 o...   \n",
       "46228  Sculpey 3 Polymer Clay is America's original o...   \n",
       "\n",
       "                      categories  \n",
       "0          Arts, Crafts & Sewing  \n",
       "1      Cell Phones & Accessories  \n",
       "2      Clothing, Shoes & Jewelry  \n",
       "3       Tools & Home Improvement  \n",
       "4         Health & Personal Care  \n",
       "...                          ...  \n",
       "46224          Sports & Outdoors  \n",
       "46225      Arts, Crafts & Sewing  \n",
       "46226      Arts, Crafts & Sewing  \n",
       "46227     Grocery & Gourmet Food  \n",
       "46228      Arts, Crafts & Sewing  \n",
       "\n",
       "[46229 rows x 4 columns]"
      ]
     },
     "execution_count": 87,
     "metadata": {},
     "output_type": "execute_result"
    }
   ],
   "source": [
    "DATA = pd.read_csv('train.csv')\n",
    "DATA"
   ]
  },
  {
   "cell_type": "markdown",
   "id": "ccecc7f7",
   "metadata": {},
   "source": [
    "### Construct dataframe that contain just the features that we need(product name, product description and category that belongs to)"
   ]
  },
  {
   "cell_type": "code",
   "execution_count": 88,
   "id": "34c1b2c6",
   "metadata": {},
   "outputs": [],
   "source": [
    "#Create dataframe\n",
    "column_names = ['name','description','categories']\n",
    "df = pd.DataFrame(columns = column_names)"
   ]
  },
  {
   "cell_type": "code",
   "execution_count": 89,
   "id": "bdead734",
   "metadata": {},
   "outputs": [
    {
     "data": {
      "text/html": [
       "<div>\n",
       "<style scoped>\n",
       "    .dataframe tbody tr th:only-of-type {\n",
       "        vertical-align: middle;\n",
       "    }\n",
       "\n",
       "    .dataframe tbody tr th {\n",
       "        vertical-align: top;\n",
       "    }\n",
       "\n",
       "    .dataframe thead th {\n",
       "        text-align: right;\n",
       "    }\n",
       "</style>\n",
       "<table border=\"1\" class=\"dataframe\">\n",
       "  <thead>\n",
       "    <tr style=\"text-align: right;\">\n",
       "      <th></th>\n",
       "      <th>name</th>\n",
       "      <th>description</th>\n",
       "      <th>categories</th>\n",
       "    </tr>\n",
       "  </thead>\n",
       "  <tbody>\n",
       "  </tbody>\n",
       "</table>\n",
       "</div>"
      ],
      "text/plain": [
       "Empty DataFrame\n",
       "Columns: [name, description, categories]\n",
       "Index: []"
      ]
     },
     "execution_count": 89,
     "metadata": {},
     "output_type": "execute_result"
    }
   ],
   "source": [
    "df"
   ]
  },
  {
   "cell_type": "code",
   "execution_count": 90,
   "id": "d7d5a3b5",
   "metadata": {},
   "outputs": [],
   "source": [
    "df.name = DATA.title\n",
    "df.description = DATA.description \n",
    "df.categories = DATA.categories"
   ]
  },
  {
   "cell_type": "code",
   "execution_count": 91,
   "id": "5821b5bf",
   "metadata": {},
   "outputs": [
    {
     "data": {
      "text/html": [
       "<div>\n",
       "<style scoped>\n",
       "    .dataframe tbody tr th:only-of-type {\n",
       "        vertical-align: middle;\n",
       "    }\n",
       "\n",
       "    .dataframe tbody tr th {\n",
       "        vertical-align: top;\n",
       "    }\n",
       "\n",
       "    .dataframe thead th {\n",
       "        text-align: right;\n",
       "    }\n",
       "</style>\n",
       "<table border=\"1\" class=\"dataframe\">\n",
       "  <thead>\n",
       "    <tr style=\"text-align: right;\">\n",
       "      <th></th>\n",
       "      <th>name</th>\n",
       "      <th>description</th>\n",
       "      <th>categories</th>\n",
       "    </tr>\n",
       "  </thead>\n",
       "  <tbody>\n",
       "    <tr>\n",
       "      <th>0</th>\n",
       "      <td>TUNGSTEN SOLDER PICK WITH HANDLE</td>\n",
       "      <td>Solder Pick for picking up molten solder when ...</td>\n",
       "      <td>Arts, Crafts &amp; Sewing</td>\n",
       "    </tr>\n",
       "    <tr>\n",
       "      <th>1</th>\n",
       "      <td>Write Right 98167 Screen Protector for Sony T615C</td>\n",
       "      <td>We all screen. And we all need to protect thos...</td>\n",
       "      <td>Cell Phones &amp; Accessories</td>\n",
       "    </tr>\n",
       "    <tr>\n",
       "      <th>2</th>\n",
       "      <td>Casio Mens DBC310-1 Databank 300 Digital Watch...</td>\n",
       "      <td>Bringing you precision at a glance, the Casio ...</td>\n",
       "      <td>Clothing, Shoes &amp; Jewelry</td>\n",
       "    </tr>\n",
       "    <tr>\n",
       "      <th>3</th>\n",
       "      <td>Factory-Reconditioned DEWALT DW260KR Heavy-Dut...</td>\n",
       "      <td>Factory-Reconditioned DEWALT DW260KR Heavy-Dut...</td>\n",
       "      <td>Tools &amp; Home Improvement</td>\n",
       "    </tr>\n",
       "    <tr>\n",
       "      <th>4</th>\n",
       "      <td>Energizer 2 in 1 Light</td>\n",
       "      <td>This twoway light features a bright flashlight...</td>\n",
       "      <td>Health &amp; Personal Care</td>\n",
       "    </tr>\n",
       "    <tr>\n",
       "      <th>...</th>\n",
       "      <td>...</td>\n",
       "      <td>...</td>\n",
       "      <td>...</td>\n",
       "    </tr>\n",
       "    <tr>\n",
       "      <th>46224</th>\n",
       "      <td>Berkley Trilene XL 1000 - yard Fishing Line, C...</td>\n",
       "      <td>Smooth - casting Berkley Trilene XL Fishing Li...</td>\n",
       "      <td>Sports &amp; Outdoors</td>\n",
       "    </tr>\n",
       "    <tr>\n",
       "      <th>46225</th>\n",
       "      <td>Badger Air-Brush Company Basic Spray Gun Set</td>\n",
       "      <td>An easy to use, top quality spray gun for the ...</td>\n",
       "      <td>Arts, Crafts &amp; Sewing</td>\n",
       "    </tr>\n",
       "    <tr>\n",
       "      <th>46226</th>\n",
       "      <td>Fimo Soft Polymer Clay 2 Ounces-8020-53 Tropic...</td>\n",
       "      <td>Fimo Soft Polymer Clay is easier to use than b...</td>\n",
       "      <td>Arts, Crafts &amp; Sewing</td>\n",
       "    </tr>\n",
       "    <tr>\n",
       "      <th>46227</th>\n",
       "      <td>Wilton Icing Colors 1 Oz: Rose Petal</td>\n",
       "      <td>Icing Colors. This plastic bottle contains 1 o...</td>\n",
       "      <td>Grocery &amp; Gourmet Food</td>\n",
       "    </tr>\n",
       "    <tr>\n",
       "      <th>46228</th>\n",
       "      <td>Polyform Sculpey III Polymer Clay 2 Oz: French...</td>\n",
       "      <td>Sculpey 3 Polymer Clay is America's original o...</td>\n",
       "      <td>Arts, Crafts &amp; Sewing</td>\n",
       "    </tr>\n",
       "  </tbody>\n",
       "</table>\n",
       "<p>46229 rows × 3 columns</p>\n",
       "</div>"
      ],
      "text/plain": [
       "                                                    name  \\\n",
       "0                       TUNGSTEN SOLDER PICK WITH HANDLE   \n",
       "1      Write Right 98167 Screen Protector for Sony T615C   \n",
       "2      Casio Mens DBC310-1 Databank 300 Digital Watch...   \n",
       "3      Factory-Reconditioned DEWALT DW260KR Heavy-Dut...   \n",
       "4                                 Energizer 2 in 1 Light   \n",
       "...                                                  ...   \n",
       "46224  Berkley Trilene XL 1000 - yard Fishing Line, C...   \n",
       "46225       Badger Air-Brush Company Basic Spray Gun Set   \n",
       "46226  Fimo Soft Polymer Clay 2 Ounces-8020-53 Tropic...   \n",
       "46227               Wilton Icing Colors 1 Oz: Rose Petal   \n",
       "46228  Polyform Sculpey III Polymer Clay 2 Oz: French...   \n",
       "\n",
       "                                             description  \\\n",
       "0      Solder Pick for picking up molten solder when ...   \n",
       "1      We all screen. And we all need to protect thos...   \n",
       "2      Bringing you precision at a glance, the Casio ...   \n",
       "3      Factory-Reconditioned DEWALT DW260KR Heavy-Dut...   \n",
       "4      This twoway light features a bright flashlight...   \n",
       "...                                                  ...   \n",
       "46224  Smooth - casting Berkley Trilene XL Fishing Li...   \n",
       "46225  An easy to use, top quality spray gun for the ...   \n",
       "46226  Fimo Soft Polymer Clay is easier to use than b...   \n",
       "46227  Icing Colors. This plastic bottle contains 1 o...   \n",
       "46228  Sculpey 3 Polymer Clay is America's original o...   \n",
       "\n",
       "                      categories  \n",
       "0          Arts, Crafts & Sewing  \n",
       "1      Cell Phones & Accessories  \n",
       "2      Clothing, Shoes & Jewelry  \n",
       "3       Tools & Home Improvement  \n",
       "4         Health & Personal Care  \n",
       "...                          ...  \n",
       "46224          Sports & Outdoors  \n",
       "46225      Arts, Crafts & Sewing  \n",
       "46226      Arts, Crafts & Sewing  \n",
       "46227     Grocery & Gourmet Food  \n",
       "46228      Arts, Crafts & Sewing  \n",
       "\n",
       "[46229 rows x 3 columns]"
      ]
     },
     "execution_count": 91,
     "metadata": {},
     "output_type": "execute_result"
    }
   ],
   "source": [
    "df"
   ]
  },
  {
   "cell_type": "markdown",
   "id": "d4458058",
   "metadata": {},
   "source": [
    "### Save the new dataframe as .csv file"
   ]
  },
  {
   "cell_type": "code",
   "execution_count": 92,
   "id": "8f0ab933",
   "metadata": {},
   "outputs": [],
   "source": [
    "df.to_csv(r'products_data.csv', index=False)"
   ]
  },
  {
   "cell_type": "code",
   "execution_count": 93,
   "id": "2b6e627b",
   "metadata": {},
   "outputs": [],
   "source": [
    "# read csv file\n",
    "products_data=pd.read_csv('products_data.csv')"
   ]
  },
  {
   "cell_type": "code",
   "execution_count": 94,
   "id": "41cb835f",
   "metadata": {},
   "outputs": [
    {
     "data": {
      "text/html": [
       "<div>\n",
       "<style scoped>\n",
       "    .dataframe tbody tr th:only-of-type {\n",
       "        vertical-align: middle;\n",
       "    }\n",
       "\n",
       "    .dataframe tbody tr th {\n",
       "        vertical-align: top;\n",
       "    }\n",
       "\n",
       "    .dataframe thead th {\n",
       "        text-align: right;\n",
       "    }\n",
       "</style>\n",
       "<table border=\"1\" class=\"dataframe\">\n",
       "  <thead>\n",
       "    <tr style=\"text-align: right;\">\n",
       "      <th></th>\n",
       "      <th>name</th>\n",
       "      <th>description</th>\n",
       "      <th>categories</th>\n",
       "    </tr>\n",
       "  </thead>\n",
       "  <tbody>\n",
       "    <tr>\n",
       "      <th>0</th>\n",
       "      <td>TUNGSTEN SOLDER PICK WITH HANDLE</td>\n",
       "      <td>Solder Pick for picking up molten solder when ...</td>\n",
       "      <td>Arts, Crafts &amp; Sewing</td>\n",
       "    </tr>\n",
       "    <tr>\n",
       "      <th>1</th>\n",
       "      <td>Write Right 98167 Screen Protector for Sony T615C</td>\n",
       "      <td>We all screen. And we all need to protect thos...</td>\n",
       "      <td>Cell Phones &amp; Accessories</td>\n",
       "    </tr>\n",
       "    <tr>\n",
       "      <th>2</th>\n",
       "      <td>Casio Mens DBC310-1 Databank 300 Digital Watch...</td>\n",
       "      <td>Bringing you precision at a glance, the Casio ...</td>\n",
       "      <td>Clothing, Shoes &amp; Jewelry</td>\n",
       "    </tr>\n",
       "    <tr>\n",
       "      <th>3</th>\n",
       "      <td>Factory-Reconditioned DEWALT DW260KR Heavy-Dut...</td>\n",
       "      <td>Factory-Reconditioned DEWALT DW260KR Heavy-Dut...</td>\n",
       "      <td>Tools &amp; Home Improvement</td>\n",
       "    </tr>\n",
       "    <tr>\n",
       "      <th>4</th>\n",
       "      <td>Energizer 2 in 1 Light</td>\n",
       "      <td>This twoway light features a bright flashlight...</td>\n",
       "      <td>Health &amp; Personal Care</td>\n",
       "    </tr>\n",
       "    <tr>\n",
       "      <th>...</th>\n",
       "      <td>...</td>\n",
       "      <td>...</td>\n",
       "      <td>...</td>\n",
       "    </tr>\n",
       "    <tr>\n",
       "      <th>46224</th>\n",
       "      <td>Berkley Trilene XL 1000 - yard Fishing Line, C...</td>\n",
       "      <td>Smooth - casting Berkley Trilene XL Fishing Li...</td>\n",
       "      <td>Sports &amp; Outdoors</td>\n",
       "    </tr>\n",
       "    <tr>\n",
       "      <th>46225</th>\n",
       "      <td>Badger Air-Brush Company Basic Spray Gun Set</td>\n",
       "      <td>An easy to use, top quality spray gun for the ...</td>\n",
       "      <td>Arts, Crafts &amp; Sewing</td>\n",
       "    </tr>\n",
       "    <tr>\n",
       "      <th>46226</th>\n",
       "      <td>Fimo Soft Polymer Clay 2 Ounces-8020-53 Tropic...</td>\n",
       "      <td>Fimo Soft Polymer Clay is easier to use than b...</td>\n",
       "      <td>Arts, Crafts &amp; Sewing</td>\n",
       "    </tr>\n",
       "    <tr>\n",
       "      <th>46227</th>\n",
       "      <td>Wilton Icing Colors 1 Oz: Rose Petal</td>\n",
       "      <td>Icing Colors. This plastic bottle contains 1 o...</td>\n",
       "      <td>Grocery &amp; Gourmet Food</td>\n",
       "    </tr>\n",
       "    <tr>\n",
       "      <th>46228</th>\n",
       "      <td>Polyform Sculpey III Polymer Clay 2 Oz: French...</td>\n",
       "      <td>Sculpey 3 Polymer Clay is America's original o...</td>\n",
       "      <td>Arts, Crafts &amp; Sewing</td>\n",
       "    </tr>\n",
       "  </tbody>\n",
       "</table>\n",
       "<p>46229 rows × 3 columns</p>\n",
       "</div>"
      ],
      "text/plain": [
       "                                                    name  \\\n",
       "0                       TUNGSTEN SOLDER PICK WITH HANDLE   \n",
       "1      Write Right 98167 Screen Protector for Sony T615C   \n",
       "2      Casio Mens DBC310-1 Databank 300 Digital Watch...   \n",
       "3      Factory-Reconditioned DEWALT DW260KR Heavy-Dut...   \n",
       "4                                 Energizer 2 in 1 Light   \n",
       "...                                                  ...   \n",
       "46224  Berkley Trilene XL 1000 - yard Fishing Line, C...   \n",
       "46225       Badger Air-Brush Company Basic Spray Gun Set   \n",
       "46226  Fimo Soft Polymer Clay 2 Ounces-8020-53 Tropic...   \n",
       "46227               Wilton Icing Colors 1 Oz: Rose Petal   \n",
       "46228  Polyform Sculpey III Polymer Clay 2 Oz: French...   \n",
       "\n",
       "                                             description  \\\n",
       "0      Solder Pick for picking up molten solder when ...   \n",
       "1      We all screen. And we all need to protect thos...   \n",
       "2      Bringing you precision at a glance, the Casio ...   \n",
       "3      Factory-Reconditioned DEWALT DW260KR Heavy-Dut...   \n",
       "4      This twoway light features a bright flashlight...   \n",
       "...                                                  ...   \n",
       "46224  Smooth - casting Berkley Trilene XL Fishing Li...   \n",
       "46225  An easy to use, top quality spray gun for the ...   \n",
       "46226  Fimo Soft Polymer Clay is easier to use than b...   \n",
       "46227  Icing Colors. This plastic bottle contains 1 o...   \n",
       "46228  Sculpey 3 Polymer Clay is America's original o...   \n",
       "\n",
       "                      categories  \n",
       "0          Arts, Crafts & Sewing  \n",
       "1      Cell Phones & Accessories  \n",
       "2      Clothing, Shoes & Jewelry  \n",
       "3       Tools & Home Improvement  \n",
       "4         Health & Personal Care  \n",
       "...                          ...  \n",
       "46224          Sports & Outdoors  \n",
       "46225      Arts, Crafts & Sewing  \n",
       "46226      Arts, Crafts & Sewing  \n",
       "46227     Grocery & Gourmet Food  \n",
       "46228      Arts, Crafts & Sewing  \n",
       "\n",
       "[46229 rows x 3 columns]"
      ]
     },
     "execution_count": 94,
     "metadata": {},
     "output_type": "execute_result"
    }
   ],
   "source": [
    "products_data"
   ]
  },
  {
   "cell_type": "code",
   "execution_count": 95,
   "id": "632b97f4",
   "metadata": {},
   "outputs": [
    {
     "data": {
      "text/plain": [
       "(46229, 3)"
      ]
     },
     "execution_count": 95,
     "metadata": {},
     "output_type": "execute_result"
    }
   ],
   "source": [
    "products_data.shape"
   ]
  },
  {
   "cell_type": "markdown",
   "id": "4c16012a",
   "metadata": {},
   "source": [
    "#### Our data contain 46229 products and  3 features "
   ]
  },
  {
   "cell_type": "code",
   "execution_count": 96,
   "id": "42f962ac",
   "metadata": {},
   "outputs": [
    {
     "data": {
      "text/plain": [
       "(21, 1)"
      ]
     },
     "execution_count": 96,
     "metadata": {},
     "output_type": "execute_result"
    }
   ],
   "source": [
    "#Number of labels\n",
    "cat = pd.DataFrame(products_data['categories'].unique())\n",
    "cat.shape"
   ]
  },
  {
   "cell_type": "code",
   "execution_count": 97,
   "id": "4be2d088",
   "metadata": {},
   "outputs": [
    {
     "data": {
      "text/html": [
       "<div>\n",
       "<style scoped>\n",
       "    .dataframe tbody tr th:only-of-type {\n",
       "        vertical-align: middle;\n",
       "    }\n",
       "\n",
       "    .dataframe tbody tr th {\n",
       "        vertical-align: top;\n",
       "    }\n",
       "\n",
       "    .dataframe thead th {\n",
       "        text-align: right;\n",
       "    }\n",
       "</style>\n",
       "<table border=\"1\" class=\"dataframe\">\n",
       "  <thead>\n",
       "    <tr style=\"text-align: right;\">\n",
       "      <th></th>\n",
       "      <th>0</th>\n",
       "    </tr>\n",
       "  </thead>\n",
       "  <tbody>\n",
       "    <tr>\n",
       "      <th>0</th>\n",
       "      <td>Arts, Crafts &amp; Sewing</td>\n",
       "    </tr>\n",
       "    <tr>\n",
       "      <th>1</th>\n",
       "      <td>Cell Phones &amp; Accessories</td>\n",
       "    </tr>\n",
       "    <tr>\n",
       "      <th>2</th>\n",
       "      <td>Clothing, Shoes &amp; Jewelry</td>\n",
       "    </tr>\n",
       "    <tr>\n",
       "      <th>3</th>\n",
       "      <td>Tools &amp; Home Improvement</td>\n",
       "    </tr>\n",
       "    <tr>\n",
       "      <th>4</th>\n",
       "      <td>Health &amp; Personal Care</td>\n",
       "    </tr>\n",
       "    <tr>\n",
       "      <th>5</th>\n",
       "      <td>Baby Products</td>\n",
       "    </tr>\n",
       "    <tr>\n",
       "      <th>6</th>\n",
       "      <td>Baby</td>\n",
       "    </tr>\n",
       "    <tr>\n",
       "      <th>7</th>\n",
       "      <td>Patio, Lawn &amp; Garden</td>\n",
       "    </tr>\n",
       "    <tr>\n",
       "      <th>8</th>\n",
       "      <td>Beauty</td>\n",
       "    </tr>\n",
       "    <tr>\n",
       "      <th>9</th>\n",
       "      <td>Sports &amp; Outdoors</td>\n",
       "    </tr>\n",
       "    <tr>\n",
       "      <th>10</th>\n",
       "      <td>Electronics</td>\n",
       "    </tr>\n",
       "    <tr>\n",
       "      <th>11</th>\n",
       "      <td>All Electronics</td>\n",
       "    </tr>\n",
       "    <tr>\n",
       "      <th>12</th>\n",
       "      <td>Automotive</td>\n",
       "    </tr>\n",
       "    <tr>\n",
       "      <th>13</th>\n",
       "      <td>Toys &amp; Games</td>\n",
       "    </tr>\n",
       "    <tr>\n",
       "      <th>14</th>\n",
       "      <td>All Beauty</td>\n",
       "    </tr>\n",
       "    <tr>\n",
       "      <th>15</th>\n",
       "      <td>Office Products</td>\n",
       "    </tr>\n",
       "    <tr>\n",
       "      <th>16</th>\n",
       "      <td>Appliances</td>\n",
       "    </tr>\n",
       "    <tr>\n",
       "      <th>17</th>\n",
       "      <td>Musical Instruments</td>\n",
       "    </tr>\n",
       "    <tr>\n",
       "      <th>18</th>\n",
       "      <td>Industrial &amp; Scientific</td>\n",
       "    </tr>\n",
       "    <tr>\n",
       "      <th>19</th>\n",
       "      <td>Grocery &amp; Gourmet Food</td>\n",
       "    </tr>\n",
       "    <tr>\n",
       "      <th>20</th>\n",
       "      <td>Pet Supplies</td>\n",
       "    </tr>\n",
       "  </tbody>\n",
       "</table>\n",
       "</div>"
      ],
      "text/plain": [
       "                            0\n",
       "0       Arts, Crafts & Sewing\n",
       "1   Cell Phones & Accessories\n",
       "2   Clothing, Shoes & Jewelry\n",
       "3    Tools & Home Improvement\n",
       "4      Health & Personal Care\n",
       "5               Baby Products\n",
       "6                        Baby\n",
       "7        Patio, Lawn & Garden\n",
       "8                      Beauty\n",
       "9           Sports & Outdoors\n",
       "10                Electronics\n",
       "11            All Electronics\n",
       "12                 Automotive\n",
       "13               Toys & Games\n",
       "14                 All Beauty\n",
       "15            Office Products\n",
       "16                 Appliances\n",
       "17        Musical Instruments\n",
       "18    Industrial & Scientific\n",
       "19     Grocery & Gourmet Food\n",
       "20               Pet Supplies"
      ]
     },
     "execution_count": 97,
     "metadata": {},
     "output_type": "execute_result"
    }
   ],
   "source": [
    "cat"
   ]
  },
  {
   "cell_type": "markdown",
   "id": "c4842ff3",
   "metadata": {},
   "source": [
    "We have 21 categories in this dataset : \n",
    "\n",
    "- Arts, Crafts & Sewing\n",
    "- Cell Phones & Accessories\n",
    "- Clothing, Shoes & Jewelry\n",
    "- Tools & Home Improvement\n",
    "- Health & Personal Care\n",
    "- Baby Products\n",
    "- Baby\n",
    "- Patio, Lawn & Garden\n",
    "- Beauty\n",
    "- Sports & Outdoors\n",
    "- Electronics\n",
    "- All Electronics\n",
    "- Automotive\n",
    "- Toys & Games\n",
    "- All Beauty\n",
    "- Office Products\n",
    "- Appliances\n",
    "- Musical Instruments\n",
    "- Industrial & Scientific\n",
    "- Grocery & Gourmet Food\n",
    "- Pet Supplies"
   ]
  },
  {
   "cell_type": "code",
   "execution_count": 98,
   "id": "ab106563",
   "metadata": {},
   "outputs": [
    {
     "data": {
      "text/plain": [
       "Arts, Crafts & Sewing        2225\n",
       "Beauty                       2202\n",
       "Grocery & Gourmet Food       2201\n",
       "Sports & Outdoors            2201\n",
       "Automotive                   2200\n",
       "Industrial & Scientific      2200\n",
       "Musical Instruments          2200\n",
       "Appliances                   2200\n",
       "Office Products              2200\n",
       "All Beauty                   2200\n",
       "Toys & Games                 2200\n",
       "Electronics                  2200\n",
       "All Electronics              2200\n",
       "Cell Phones & Accessories    2200\n",
       "Patio, Lawn & Garden         2200\n",
       "Baby                         2200\n",
       "Baby Products                2200\n",
       "Health & Personal Care       2200\n",
       "Tools & Home Improvement     2200\n",
       "Clothing, Shoes & Jewelry    2200\n",
       "Pet Supplies                 2200\n",
       "Name: categories, dtype: int64"
      ]
     },
     "execution_count": 98,
     "metadata": {},
     "output_type": "execute_result"
    }
   ],
   "source": [
    "products_data['categories'].value_counts()"
   ]
  },
  {
   "cell_type": "markdown",
   "id": "18093820",
   "metadata": {},
   "source": [
    "We observes that our data is balanced because we have almost all categories with the same number of products(2200)."
   ]
  },
  {
   "cell_type": "markdown",
   "id": "67ca2a91",
   "metadata": {},
   "source": [
    "# Data cleaning "
   ]
  },
  {
   "cell_type": "code",
   "execution_count": 99,
   "id": "a5b063d9",
   "metadata": {},
   "outputs": [
    {
     "name": "stdout",
     "output_type": "stream",
     "text": [
      "<class 'pandas.core.frame.DataFrame'>\n",
      "RangeIndex: 46229 entries, 0 to 46228\n",
      "Data columns (total 3 columns):\n",
      " #   Column       Non-Null Count  Dtype \n",
      "---  ------       --------------  ----- \n",
      " 0   name         46228 non-null  object\n",
      " 1   description  45187 non-null  object\n",
      " 2   categories   46229 non-null  object\n",
      "dtypes: object(3)\n",
      "memory usage: 1.1+ MB\n"
     ]
    }
   ],
   "source": [
    "products_data.info()"
   ]
  },
  {
   "cell_type": "code",
   "execution_count": 100,
   "id": "f1252d5c",
   "metadata": {},
   "outputs": [
    {
     "data": {
      "text/plain": [
       "description    1042\n",
       "name              1\n",
       "categories        0\n",
       "dtype: int64"
      ]
     },
     "execution_count": 100,
     "metadata": {},
     "output_type": "execute_result"
    }
   ],
   "source": [
    "# check missing values for each column \n",
    "products_data.isnull().sum().sort_values(ascending=False)"
   ]
  },
  {
   "cell_type": "markdown",
   "id": "e7c88b5d",
   "metadata": {},
   "source": [
    "#### We observe that there is missing data in columns, we have 1042 product description and one product name are missing"
   ]
  },
  {
   "cell_type": "code",
   "execution_count": 101,
   "id": "590b61f6",
   "metadata": {},
   "outputs": [
    {
     "data": {
      "text/html": [
       "<div>\n",
       "<style scoped>\n",
       "    .dataframe tbody tr th:only-of-type {\n",
       "        vertical-align: middle;\n",
       "    }\n",
       "\n",
       "    .dataframe tbody tr th {\n",
       "        vertical-align: top;\n",
       "    }\n",
       "\n",
       "    .dataframe thead th {\n",
       "        text-align: right;\n",
       "    }\n",
       "</style>\n",
       "<table border=\"1\" class=\"dataframe\">\n",
       "  <thead>\n",
       "    <tr style=\"text-align: right;\">\n",
       "      <th></th>\n",
       "      <th>name</th>\n",
       "      <th>description</th>\n",
       "      <th>categories</th>\n",
       "    </tr>\n",
       "  </thead>\n",
       "  <tbody>\n",
       "    <tr>\n",
       "      <th>68</th>\n",
       "      <td>Accentus: Transcriptions</td>\n",
       "      <td>NaN</td>\n",
       "      <td>Beauty</td>\n",
       "    </tr>\n",
       "    <tr>\n",
       "      <th>233</th>\n",
       "      <td>Nurtured by Nature Environmentally-Sensitive D...</td>\n",
       "      <td>NaN</td>\n",
       "      <td>Baby Products</td>\n",
       "    </tr>\n",
       "    <tr>\n",
       "      <th>250</th>\n",
       "      <td>HP Photosmart C5580 All-in-One Printer</td>\n",
       "      <td>NaN</td>\n",
       "      <td>All Electronics</td>\n",
       "    </tr>\n",
       "    <tr>\n",
       "      <th>257</th>\n",
       "      <td>Bounty Hunter QD2 Quick Draw II Metal Detector</td>\n",
       "      <td>NaN</td>\n",
       "      <td>Patio, Lawn &amp; Garden</td>\n",
       "    </tr>\n",
       "    <tr>\n",
       "      <th>269</th>\n",
       "      <td>Shure WH20XLR Dynamic Microphone - Cardioid</td>\n",
       "      <td>NaN</td>\n",
       "      <td>Musical Instruments</td>\n",
       "    </tr>\n",
       "  </tbody>\n",
       "</table>\n",
       "</div>"
      ],
      "text/plain": [
       "                                                  name description  \\\n",
       "68                            Accentus: Transcriptions         NaN   \n",
       "233  Nurtured by Nature Environmentally-Sensitive D...         NaN   \n",
       "250             HP Photosmart C5580 All-in-One Printer         NaN   \n",
       "257     Bounty Hunter QD2 Quick Draw II Metal Detector         NaN   \n",
       "269        Shure WH20XLR Dynamic Microphone - Cardioid         NaN   \n",
       "\n",
       "               categories  \n",
       "68                 Beauty  \n",
       "233         Baby Products  \n",
       "250       All Electronics  \n",
       "257  Patio, Lawn & Garden  \n",
       "269   Musical Instruments  "
      ]
     },
     "execution_count": 101,
     "metadata": {},
     "output_type": "execute_result"
    }
   ],
   "source": [
    "# check out the rows with missing values\n",
    "products_data[products_data.isnull().any(axis=1)].head()"
   ]
  },
  {
   "cell_type": "markdown",
   "id": "0a88dfc9",
   "metadata": {},
   "source": [
    "### Delet the rows that contain missing value"
   ]
  },
  {
   "cell_type": "code",
   "execution_count": 102,
   "id": "5698f34e",
   "metadata": {},
   "outputs": [
    {
     "data": {
      "text/html": [
       "<div>\n",
       "<style scoped>\n",
       "    .dataframe tbody tr th:only-of-type {\n",
       "        vertical-align: middle;\n",
       "    }\n",
       "\n",
       "    .dataframe tbody tr th {\n",
       "        vertical-align: top;\n",
       "    }\n",
       "\n",
       "    .dataframe thead th {\n",
       "        text-align: right;\n",
       "    }\n",
       "</style>\n",
       "<table border=\"1\" class=\"dataframe\">\n",
       "  <thead>\n",
       "    <tr style=\"text-align: right;\">\n",
       "      <th></th>\n",
       "      <th>name</th>\n",
       "      <th>description</th>\n",
       "      <th>categories</th>\n",
       "    </tr>\n",
       "  </thead>\n",
       "  <tbody>\n",
       "    <tr>\n",
       "      <th>0</th>\n",
       "      <td>TUNGSTEN SOLDER PICK WITH HANDLE</td>\n",
       "      <td>Solder Pick for picking up molten solder when ...</td>\n",
       "      <td>Arts, Crafts &amp; Sewing</td>\n",
       "    </tr>\n",
       "    <tr>\n",
       "      <th>1</th>\n",
       "      <td>Write Right 98167 Screen Protector for Sony T615C</td>\n",
       "      <td>We all screen. And we all need to protect thos...</td>\n",
       "      <td>Cell Phones &amp; Accessories</td>\n",
       "    </tr>\n",
       "    <tr>\n",
       "      <th>2</th>\n",
       "      <td>Casio Mens DBC310-1 Databank 300 Digital Watch...</td>\n",
       "      <td>Bringing you precision at a glance, the Casio ...</td>\n",
       "      <td>Clothing, Shoes &amp; Jewelry</td>\n",
       "    </tr>\n",
       "    <tr>\n",
       "      <th>3</th>\n",
       "      <td>Factory-Reconditioned DEWALT DW260KR Heavy-Dut...</td>\n",
       "      <td>Factory-Reconditioned DEWALT DW260KR Heavy-Dut...</td>\n",
       "      <td>Tools &amp; Home Improvement</td>\n",
       "    </tr>\n",
       "    <tr>\n",
       "      <th>4</th>\n",
       "      <td>Energizer 2 in 1 Light</td>\n",
       "      <td>This twoway light features a bright flashlight...</td>\n",
       "      <td>Health &amp; Personal Care</td>\n",
       "    </tr>\n",
       "    <tr>\n",
       "      <th>...</th>\n",
       "      <td>...</td>\n",
       "      <td>...</td>\n",
       "      <td>...</td>\n",
       "    </tr>\n",
       "    <tr>\n",
       "      <th>46224</th>\n",
       "      <td>Berkley Trilene XL 1000 - yard Fishing Line, C...</td>\n",
       "      <td>Smooth - casting Berkley Trilene XL Fishing Li...</td>\n",
       "      <td>Sports &amp; Outdoors</td>\n",
       "    </tr>\n",
       "    <tr>\n",
       "      <th>46225</th>\n",
       "      <td>Badger Air-Brush Company Basic Spray Gun Set</td>\n",
       "      <td>An easy to use, top quality spray gun for the ...</td>\n",
       "      <td>Arts, Crafts &amp; Sewing</td>\n",
       "    </tr>\n",
       "    <tr>\n",
       "      <th>46226</th>\n",
       "      <td>Fimo Soft Polymer Clay 2 Ounces-8020-53 Tropic...</td>\n",
       "      <td>Fimo Soft Polymer Clay is easier to use than b...</td>\n",
       "      <td>Arts, Crafts &amp; Sewing</td>\n",
       "    </tr>\n",
       "    <tr>\n",
       "      <th>46227</th>\n",
       "      <td>Wilton Icing Colors 1 Oz: Rose Petal</td>\n",
       "      <td>Icing Colors. This plastic bottle contains 1 o...</td>\n",
       "      <td>Grocery &amp; Gourmet Food</td>\n",
       "    </tr>\n",
       "    <tr>\n",
       "      <th>46228</th>\n",
       "      <td>Polyform Sculpey III Polymer Clay 2 Oz: French...</td>\n",
       "      <td>Sculpey 3 Polymer Clay is America's original o...</td>\n",
       "      <td>Arts, Crafts &amp; Sewing</td>\n",
       "    </tr>\n",
       "  </tbody>\n",
       "</table>\n",
       "<p>45187 rows × 3 columns</p>\n",
       "</div>"
      ],
      "text/plain": [
       "                                                    name  \\\n",
       "0                       TUNGSTEN SOLDER PICK WITH HANDLE   \n",
       "1      Write Right 98167 Screen Protector for Sony T615C   \n",
       "2      Casio Mens DBC310-1 Databank 300 Digital Watch...   \n",
       "3      Factory-Reconditioned DEWALT DW260KR Heavy-Dut...   \n",
       "4                                 Energizer 2 in 1 Light   \n",
       "...                                                  ...   \n",
       "46224  Berkley Trilene XL 1000 - yard Fishing Line, C...   \n",
       "46225       Badger Air-Brush Company Basic Spray Gun Set   \n",
       "46226  Fimo Soft Polymer Clay 2 Ounces-8020-53 Tropic...   \n",
       "46227               Wilton Icing Colors 1 Oz: Rose Petal   \n",
       "46228  Polyform Sculpey III Polymer Clay 2 Oz: French...   \n",
       "\n",
       "                                             description  \\\n",
       "0      Solder Pick for picking up molten solder when ...   \n",
       "1      We all screen. And we all need to protect thos...   \n",
       "2      Bringing you precision at a glance, the Casio ...   \n",
       "3      Factory-Reconditioned DEWALT DW260KR Heavy-Dut...   \n",
       "4      This twoway light features a bright flashlight...   \n",
       "...                                                  ...   \n",
       "46224  Smooth - casting Berkley Trilene XL Fishing Li...   \n",
       "46225  An easy to use, top quality spray gun for the ...   \n",
       "46226  Fimo Soft Polymer Clay is easier to use than b...   \n",
       "46227  Icing Colors. This plastic bottle contains 1 o...   \n",
       "46228  Sculpey 3 Polymer Clay is America's original o...   \n",
       "\n",
       "                      categories  \n",
       "0          Arts, Crafts & Sewing  \n",
       "1      Cell Phones & Accessories  \n",
       "2      Clothing, Shoes & Jewelry  \n",
       "3       Tools & Home Improvement  \n",
       "4         Health & Personal Care  \n",
       "...                          ...  \n",
       "46224          Sports & Outdoors  \n",
       "46225      Arts, Crafts & Sewing  \n",
       "46226      Arts, Crafts & Sewing  \n",
       "46227     Grocery & Gourmet Food  \n",
       "46228      Arts, Crafts & Sewing  \n",
       "\n",
       "[45187 rows x 3 columns]"
      ]
     },
     "execution_count": 102,
     "metadata": {},
     "output_type": "execute_result"
    }
   ],
   "source": [
    "products_data = products_data.dropna()\n",
    "products_data"
   ]
  },
  {
   "cell_type": "code",
   "execution_count": 103,
   "id": "f589fe64",
   "metadata": {},
   "outputs": [
    {
     "data": {
      "text/html": [
       "<div>\n",
       "<style scoped>\n",
       "    .dataframe tbody tr th:only-of-type {\n",
       "        vertical-align: middle;\n",
       "    }\n",
       "\n",
       "    .dataframe tbody tr th {\n",
       "        vertical-align: top;\n",
       "    }\n",
       "\n",
       "    .dataframe thead th {\n",
       "        text-align: right;\n",
       "    }\n",
       "</style>\n",
       "<table border=\"1\" class=\"dataframe\">\n",
       "  <thead>\n",
       "    <tr style=\"text-align: right;\">\n",
       "      <th></th>\n",
       "      <th>name</th>\n",
       "      <th>description</th>\n",
       "      <th>categories</th>\n",
       "    </tr>\n",
       "  </thead>\n",
       "  <tbody>\n",
       "  </tbody>\n",
       "</table>\n",
       "</div>"
      ],
      "text/plain": [
       "Empty DataFrame\n",
       "Columns: [name, description, categories]\n",
       "Index: []"
      ]
     },
     "execution_count": 103,
     "metadata": {},
     "output_type": "execute_result"
    }
   ],
   "source": [
    "# check if missing values is deleted in rows and columns \n",
    "products_data.isnull().sum().sort_values(ascending=False)\n",
    "products_data[products_data.isnull().any(axis=1)].head()"
   ]
  },
  {
   "cell_type": "code",
   "execution_count": 104,
   "id": "d02e5367",
   "metadata": {},
   "outputs": [
    {
     "data": {
      "text/plain": [
       "Grocery & Gourmet Food       2196\n",
       "Toys & Games                 2194\n",
       "All Beauty                   2190\n",
       "Cell Phones & Accessories    2188\n",
       "Electronics                  2187\n",
       "Tools & Home Improvement     2183\n",
       "Clothing, Shoes & Jewelry    2182\n",
       "Appliances                   2181\n",
       "Sports & Outdoors            2178\n",
       "Baby                         2177\n",
       "All Electronics              2176\n",
       "Arts, Crafts & Sewing        2175\n",
       "Patio, Lawn & Garden         2168\n",
       "Health & Personal Care       2154\n",
       "Beauty                       2149\n",
       "Office Products              2144\n",
       "Baby Products                2131\n",
       "Pet Supplies                 2124\n",
       "Musical Instruments          2095\n",
       "Industrial & Scientific      2016\n",
       "Automotive                   1999\n",
       "Name: categories, dtype: int64"
      ]
     },
     "execution_count": 104,
     "metadata": {},
     "output_type": "execute_result"
    }
   ],
   "source": [
    "products_data['categories'].value_counts()"
   ]
  },
  {
   "cell_type": "code",
   "execution_count": 105,
   "id": "a542dd4c",
   "metadata": {},
   "outputs": [
    {
     "data": {
      "text/plain": [
       "(45187, 3)"
      ]
     },
     "execution_count": 105,
     "metadata": {},
     "output_type": "execute_result"
    }
   ],
   "source": [
    "products_data.shape"
   ]
  },
  {
   "cell_type": "code",
   "execution_count": 106,
   "id": "8dbf47e6",
   "metadata": {},
   "outputs": [
    {
     "data": {
      "text/plain": [
       "224"
      ]
     },
     "execution_count": 106,
     "metadata": {},
     "output_type": "execute_result"
    }
   ],
   "source": [
    "# Check for duplicated data\n",
    "products_data.duplicated().sum()"
   ]
  },
  {
   "cell_type": "code",
   "execution_count": 107,
   "id": "c45e8cd3",
   "metadata": {},
   "outputs": [
    {
     "data": {
      "text/plain": [
       "0"
      ]
     },
     "execution_count": 107,
     "metadata": {},
     "output_type": "execute_result"
    }
   ],
   "source": [
    "# Delet duplicated data\n",
    "products_data.drop_duplicates(keep=False, inplace = True)\n",
    "products_data.duplicated().sum()"
   ]
  },
  {
   "cell_type": "code",
   "execution_count": 108,
   "id": "f6f7dc11",
   "metadata": {},
   "outputs": [
    {
     "data": {
      "text/plain": [
       "(44804, 3)"
      ]
     },
     "execution_count": 108,
     "metadata": {},
     "output_type": "execute_result"
    }
   ],
   "source": [
    "products_data.shape"
   ]
  },
  {
   "cell_type": "markdown",
   "id": "a83f98e2",
   "metadata": {},
   "source": [
    "Data still almost balanced, so we don't need to balance it"
   ]
  },
  {
   "cell_type": "markdown",
   "id": "3e3a668a",
   "metadata": {},
   "source": [
    "# Text preprocessing"
   ]
  },
  {
   "cell_type": "markdown",
   "id": "b855b1bf",
   "metadata": {},
   "source": [
    "### Remove punctuation "
   ]
  },
  {
   "cell_type": "code",
   "execution_count": 109,
   "id": "bc8901e6",
   "metadata": {},
   "outputs": [
    {
     "data": {
      "text/html": [
       "<div>\n",
       "<style scoped>\n",
       "    .dataframe tbody tr th:only-of-type {\n",
       "        vertical-align: middle;\n",
       "    }\n",
       "\n",
       "    .dataframe tbody tr th {\n",
       "        vertical-align: top;\n",
       "    }\n",
       "\n",
       "    .dataframe thead th {\n",
       "        text-align: right;\n",
       "    }\n",
       "</style>\n",
       "<table border=\"1\" class=\"dataframe\">\n",
       "  <thead>\n",
       "    <tr style=\"text-align: right;\">\n",
       "      <th></th>\n",
       "      <th>name</th>\n",
       "      <th>description</th>\n",
       "      <th>categories</th>\n",
       "    </tr>\n",
       "  </thead>\n",
       "  <tbody>\n",
       "    <tr>\n",
       "      <th>0</th>\n",
       "      <td>TUNGSTEN SOLDER PICK WITH HANDLE</td>\n",
       "      <td>Solder Pick for picking up molten solder when ...</td>\n",
       "      <td>Arts, Crafts &amp; Sewing</td>\n",
       "    </tr>\n",
       "    <tr>\n",
       "      <th>1</th>\n",
       "      <td>Write Right 98167 Screen Protector for Sony T615C</td>\n",
       "      <td>We all screen And we all need to protect those...</td>\n",
       "      <td>Cell Phones &amp; Accessories</td>\n",
       "    </tr>\n",
       "    <tr>\n",
       "      <th>2</th>\n",
       "      <td>Casio Mens DBC3101 Databank 300 Digital Watch ...</td>\n",
       "      <td>Bringing you precision at a glance the Casio M...</td>\n",
       "      <td>Clothing, Shoes &amp; Jewelry</td>\n",
       "    </tr>\n",
       "    <tr>\n",
       "      <th>3</th>\n",
       "      <td>FactoryReconditioned DEWALT DW260KR HeavyDuty ...</td>\n",
       "      <td>FactoryReconditioned DEWALT DW260KR HeavyDuty ...</td>\n",
       "      <td>Tools &amp; Home Improvement</td>\n",
       "    </tr>\n",
       "    <tr>\n",
       "      <th>4</th>\n",
       "      <td>Energizer 2 in 1 Light</td>\n",
       "      <td>This twoway light features a bright flashlight...</td>\n",
       "      <td>Health &amp; Personal Care</td>\n",
       "    </tr>\n",
       "  </tbody>\n",
       "</table>\n",
       "</div>"
      ],
      "text/plain": [
       "                                                name  \\\n",
       "0                   TUNGSTEN SOLDER PICK WITH HANDLE   \n",
       "1  Write Right 98167 Screen Protector for Sony T615C   \n",
       "2  Casio Mens DBC3101 Databank 300 Digital Watch ...   \n",
       "3  FactoryReconditioned DEWALT DW260KR HeavyDuty ...   \n",
       "4                             Energizer 2 in 1 Light   \n",
       "\n",
       "                                         description  \\\n",
       "0  Solder Pick for picking up molten solder when ...   \n",
       "1  We all screen And we all need to protect those...   \n",
       "2  Bringing you precision at a glance the Casio M...   \n",
       "3  FactoryReconditioned DEWALT DW260KR HeavyDuty ...   \n",
       "4  This twoway light features a bright flashlight...   \n",
       "\n",
       "                  categories  \n",
       "0      Arts, Crafts & Sewing  \n",
       "1  Cell Phones & Accessories  \n",
       "2  Clothing, Shoes & Jewelry  \n",
       "3   Tools & Home Improvement  \n",
       "4     Health & Personal Care  "
      ]
     },
     "execution_count": 109,
     "metadata": {},
     "output_type": "execute_result"
    }
   ],
   "source": [
    "import string\n",
    "PUNCT_TO_REMOVE = string.punctuation\n",
    "\n",
    "def remove_punctuation(text):\n",
    "    return text.translate(str.maketrans('', '', PUNCT_TO_REMOVE))\n",
    "\n",
    "\n",
    "products_data[\"name\"] = products_data[\"name\"].apply(lambda text: remove_punctuation(text))\n",
    "products_data[\"description\"] = products_data[\"description\"].apply(lambda text: remove_punctuation(text))\n",
    "products_data.head()"
   ]
  },
  {
   "cell_type": "markdown",
   "id": "50840b20",
   "metadata": {},
   "source": [
    "### Lower casing"
   ]
  },
  {
   "cell_type": "code",
   "execution_count": 110,
   "id": "3301b279",
   "metadata": {},
   "outputs": [
    {
     "data": {
      "text/html": [
       "<div>\n",
       "<style scoped>\n",
       "    .dataframe tbody tr th:only-of-type {\n",
       "        vertical-align: middle;\n",
       "    }\n",
       "\n",
       "    .dataframe tbody tr th {\n",
       "        vertical-align: top;\n",
       "    }\n",
       "\n",
       "    .dataframe thead th {\n",
       "        text-align: right;\n",
       "    }\n",
       "</style>\n",
       "<table border=\"1\" class=\"dataframe\">\n",
       "  <thead>\n",
       "    <tr style=\"text-align: right;\">\n",
       "      <th></th>\n",
       "      <th>name</th>\n",
       "      <th>description</th>\n",
       "      <th>categories</th>\n",
       "    </tr>\n",
       "  </thead>\n",
       "  <tbody>\n",
       "    <tr>\n",
       "      <th>0</th>\n",
       "      <td>tungsten solder pick with handle</td>\n",
       "      <td>solder pick for picking up molten solder when ...</td>\n",
       "      <td>Arts, Crafts &amp; Sewing</td>\n",
       "    </tr>\n",
       "    <tr>\n",
       "      <th>1</th>\n",
       "      <td>write right 98167 screen protector for sony t615c</td>\n",
       "      <td>we all screen and we all need to protect those...</td>\n",
       "      <td>Cell Phones &amp; Accessories</td>\n",
       "    </tr>\n",
       "    <tr>\n",
       "      <th>2</th>\n",
       "      <td>casio mens dbc3101 databank 300 digital watch ...</td>\n",
       "      <td>bringing you precision at a glance the casio m...</td>\n",
       "      <td>Clothing, Shoes &amp; Jewelry</td>\n",
       "    </tr>\n",
       "    <tr>\n",
       "      <th>3</th>\n",
       "      <td>factoryreconditioned dewalt dw260kr heavyduty ...</td>\n",
       "      <td>factoryreconditioned dewalt dw260kr heavyduty ...</td>\n",
       "      <td>Tools &amp; Home Improvement</td>\n",
       "    </tr>\n",
       "    <tr>\n",
       "      <th>4</th>\n",
       "      <td>energizer 2 in 1 light</td>\n",
       "      <td>this twoway light features a bright flashlight...</td>\n",
       "      <td>Health &amp; Personal Care</td>\n",
       "    </tr>\n",
       "  </tbody>\n",
       "</table>\n",
       "</div>"
      ],
      "text/plain": [
       "                                                name  \\\n",
       "0                   tungsten solder pick with handle   \n",
       "1  write right 98167 screen protector for sony t615c   \n",
       "2  casio mens dbc3101 databank 300 digital watch ...   \n",
       "3  factoryreconditioned dewalt dw260kr heavyduty ...   \n",
       "4                             energizer 2 in 1 light   \n",
       "\n",
       "                                         description  \\\n",
       "0  solder pick for picking up molten solder when ...   \n",
       "1  we all screen and we all need to protect those...   \n",
       "2  bringing you precision at a glance the casio m...   \n",
       "3  factoryreconditioned dewalt dw260kr heavyduty ...   \n",
       "4  this twoway light features a bright flashlight...   \n",
       "\n",
       "                  categories  \n",
       "0      Arts, Crafts & Sewing  \n",
       "1  Cell Phones & Accessories  \n",
       "2  Clothing, Shoes & Jewelry  \n",
       "3   Tools & Home Improvement  \n",
       "4     Health & Personal Care  "
      ]
     },
     "execution_count": 110,
     "metadata": {},
     "output_type": "execute_result"
    }
   ],
   "source": [
    "products_data[\"name\"] = products_data[\"name\"].str.lower()\n",
    "products_data[\"description\"] = products_data[\"description\"].str.lower()\n",
    "products_data.head()"
   ]
  },
  {
   "cell_type": "markdown",
   "id": "4ec0c209",
   "metadata": {},
   "source": [
    "### Remove stopwords"
   ]
  },
  {
   "cell_type": "code",
   "execution_count": 111,
   "id": "c8146b10",
   "metadata": {},
   "outputs": [
    {
     "data": {
      "text/plain": [
       "\"i me my myself we our ours ourselves you you're you've you'll you'd your yours yourself yourselves he him his himself she she's her hers herself it it's its itself they them their theirs themselves what which who whom this that that'll these those am is are was were be been being have has had having do does did doing a an the and but if or because as until while of at by for with about against between into through during before after above below to from up down in out on off over under again further then once here there when where why how all any both each few more most other some such no nor not only own same so than too very s t can will just don don't should should've now d ll m o re ve y ain aren aren't couldn couldn't didn didn't doesn doesn't hadn hadn't hasn hasn't haven haven't isn isn't ma mightn mightn't mustn mustn't needn needn't shan shan't shouldn shouldn't wasn wasn't weren weren't won won't wouldn wouldn't\""
      ]
     },
     "execution_count": 111,
     "metadata": {},
     "output_type": "execute_result"
    }
   ],
   "source": [
    "import nltk\n",
    "from nltk.corpus import stopwords\n",
    "\" \".join(stopwords.words('english'))"
   ]
  },
  {
   "cell_type": "code",
   "execution_count": 112,
   "id": "bfa93b3f",
   "metadata": {},
   "outputs": [
    {
     "data": {
      "text/html": [
       "<div>\n",
       "<style scoped>\n",
       "    .dataframe tbody tr th:only-of-type {\n",
       "        vertical-align: middle;\n",
       "    }\n",
       "\n",
       "    .dataframe tbody tr th {\n",
       "        vertical-align: top;\n",
       "    }\n",
       "\n",
       "    .dataframe thead th {\n",
       "        text-align: right;\n",
       "    }\n",
       "</style>\n",
       "<table border=\"1\" class=\"dataframe\">\n",
       "  <thead>\n",
       "    <tr style=\"text-align: right;\">\n",
       "      <th></th>\n",
       "      <th>name</th>\n",
       "      <th>description</th>\n",
       "      <th>categories</th>\n",
       "    </tr>\n",
       "  </thead>\n",
       "  <tbody>\n",
       "    <tr>\n",
       "      <th>0</th>\n",
       "      <td>[tungsten, solder, pick, handle]</td>\n",
       "      <td>[solder, pick, picking, molten, solder, making...</td>\n",
       "      <td>Arts, Crafts &amp; Sewing</td>\n",
       "    </tr>\n",
       "    <tr>\n",
       "      <th>1</th>\n",
       "      <td>[write, right, 98167, screen, protector, sony,...</td>\n",
       "      <td>[screen, need, protect, screens, expensive, li...</td>\n",
       "      <td>Cell Phones &amp; Accessories</td>\n",
       "    </tr>\n",
       "    <tr>\n",
       "      <th>2</th>\n",
       "      <td>[casio, mens, dbc3101, databank, 300, digital,...</td>\n",
       "      <td>[bringing, precision, glance, casio, mens, dat...</td>\n",
       "      <td>Clothing, Shoes &amp; Jewelry</td>\n",
       "    </tr>\n",
       "    <tr>\n",
       "      <th>3</th>\n",
       "      <td>[factoryreconditioned, dewalt, dw260kr, heavyd...</td>\n",
       "      <td>[factoryreconditioned, dewalt, dw260kr, heavyd...</td>\n",
       "      <td>Tools &amp; Home Improvement</td>\n",
       "    </tr>\n",
       "    <tr>\n",
       "      <th>4</th>\n",
       "      <td>[energizer, 2, 1, light]</td>\n",
       "      <td>[twoway, light, features, bright, flashlight, ...</td>\n",
       "      <td>Health &amp; Personal Care</td>\n",
       "    </tr>\n",
       "  </tbody>\n",
       "</table>\n",
       "</div>"
      ],
      "text/plain": [
       "                                                name  \\\n",
       "0                   [tungsten, solder, pick, handle]   \n",
       "1  [write, right, 98167, screen, protector, sony,...   \n",
       "2  [casio, mens, dbc3101, databank, 300, digital,...   \n",
       "3  [factoryreconditioned, dewalt, dw260kr, heavyd...   \n",
       "4                           [energizer, 2, 1, light]   \n",
       "\n",
       "                                         description  \\\n",
       "0  [solder, pick, picking, molten, solder, making...   \n",
       "1  [screen, need, protect, screens, expensive, li...   \n",
       "2  [bringing, precision, glance, casio, mens, dat...   \n",
       "3  [factoryreconditioned, dewalt, dw260kr, heavyd...   \n",
       "4  [twoway, light, features, bright, flashlight, ...   \n",
       "\n",
       "                  categories  \n",
       "0      Arts, Crafts & Sewing  \n",
       "1  Cell Phones & Accessories  \n",
       "2  Clothing, Shoes & Jewelry  \n",
       "3   Tools & Home Improvement  \n",
       "4     Health & Personal Care  "
      ]
     },
     "execution_count": 112,
     "metadata": {},
     "output_type": "execute_result"
    }
   ],
   "source": [
    "from nltk.corpus import stopwords\n",
    "from nltk.tokenize import word_tokenize\n",
    " \n",
    "# remove stopwords function\n",
    "def remove_stopwords(text):\n",
    "    stop_words = set(stopwords.words(\"english\"))\n",
    "    word_tokens = word_tokenize(text)\n",
    "    filtered_text = [word for word in word_tokens if word not in stop_words]\n",
    "    return filtered_text\n",
    " \n",
    "products_data[\"name\"] = products_data[\"name\"].apply(lambda text: remove_stopwords(text))\n",
    "products_data[\"description\"] = products_data[\"description\"].apply(lambda text: remove_stopwords(text))\n",
    "products_data.head()\n"
   ]
  },
  {
   "cell_type": "markdown",
   "id": "114c889f",
   "metadata": {},
   "source": [
    "### Stemming"
   ]
  },
  {
   "cell_type": "code",
   "execution_count": 113,
   "id": "19c63448",
   "metadata": {},
   "outputs": [
    {
     "data": {
      "text/html": [
       "<div>\n",
       "<style scoped>\n",
       "    .dataframe tbody tr th:only-of-type {\n",
       "        vertical-align: middle;\n",
       "    }\n",
       "\n",
       "    .dataframe tbody tr th {\n",
       "        vertical-align: top;\n",
       "    }\n",
       "\n",
       "    .dataframe thead th {\n",
       "        text-align: right;\n",
       "    }\n",
       "</style>\n",
       "<table border=\"1\" class=\"dataframe\">\n",
       "  <thead>\n",
       "    <tr style=\"text-align: right;\">\n",
       "      <th></th>\n",
       "      <th>name</th>\n",
       "      <th>description</th>\n",
       "      <th>categories</th>\n",
       "    </tr>\n",
       "  </thead>\n",
       "  <tbody>\n",
       "    <tr>\n",
       "      <th>0</th>\n",
       "      <td>[tungsten, solder, pick, handl]</td>\n",
       "      <td>[solder, pick, pick, molten, solder, make, jew...</td>\n",
       "      <td>Arts, Crafts &amp; Sewing</td>\n",
       "    </tr>\n",
       "    <tr>\n",
       "      <th>1</th>\n",
       "      <td>[write, right, 98167, screen, protector, soni,...</td>\n",
       "      <td>[screen, need, protect, screen, expens, littl,...</td>\n",
       "      <td>Cell Phones &amp; Accessories</td>\n",
       "    </tr>\n",
       "    <tr>\n",
       "      <th>2</th>\n",
       "      <td>[casio, men, dbc3101, databank, 300, digit, wa...</td>\n",
       "      <td>[bring, precis, glanc, casio, men, databank, d...</td>\n",
       "      <td>Clothing, Shoes &amp; Jewelry</td>\n",
       "    </tr>\n",
       "    <tr>\n",
       "      <th>3</th>\n",
       "      <td>[factoryrecondit, dewalt, dw260kr, heavyduti, ...</td>\n",
       "      <td>[factoryrecondit, dewalt, dw260kr, heavyduti, ...</td>\n",
       "      <td>Tools &amp; Home Improvement</td>\n",
       "    </tr>\n",
       "    <tr>\n",
       "      <th>4</th>\n",
       "      <td>[energ, 2, 1, light]</td>\n",
       "      <td>[twoway, light, featur, bright, flashlight, be...</td>\n",
       "      <td>Health &amp; Personal Care</td>\n",
       "    </tr>\n",
       "  </tbody>\n",
       "</table>\n",
       "</div>"
      ],
      "text/plain": [
       "                                                name  \\\n",
       "0                    [tungsten, solder, pick, handl]   \n",
       "1  [write, right, 98167, screen, protector, soni,...   \n",
       "2  [casio, men, dbc3101, databank, 300, digit, wa...   \n",
       "3  [factoryrecondit, dewalt, dw260kr, heavyduti, ...   \n",
       "4                               [energ, 2, 1, light]   \n",
       "\n",
       "                                         description  \\\n",
       "0  [solder, pick, pick, molten, solder, make, jew...   \n",
       "1  [screen, need, protect, screen, expens, littl,...   \n",
       "2  [bring, precis, glanc, casio, men, databank, d...   \n",
       "3  [factoryrecondit, dewalt, dw260kr, heavyduti, ...   \n",
       "4  [twoway, light, featur, bright, flashlight, be...   \n",
       "\n",
       "                  categories  \n",
       "0      Arts, Crafts & Sewing  \n",
       "1  Cell Phones & Accessories  \n",
       "2  Clothing, Shoes & Jewelry  \n",
       "3   Tools & Home Improvement  \n",
       "4     Health & Personal Care  "
      ]
     },
     "execution_count": 113,
     "metadata": {},
     "output_type": "execute_result"
    }
   ],
   "source": [
    "from nltk.stem import PorterStemmer\n",
    "\n",
    "def stemming(text):\n",
    "    porter = PorterStemmer()\n",
    "    \n",
    "    result=[]\n",
    "    for word in text:\n",
    "        result.append(porter.stem(word))\n",
    "    return result\n",
    "\n",
    "\n",
    "products_data['name']=products_data['name'].apply(stemming)\n",
    "products_data['description']=products_data['description'].apply(stemming)\n",
    "products_data.head()"
   ]
  },
  {
   "cell_type": "markdown",
   "id": "60a6c233",
   "metadata": {},
   "source": [
    "### The most frequenty words"
   ]
  },
  {
   "cell_type": "code",
   "execution_count": 114,
   "id": "99cec725",
   "metadata": {},
   "outputs": [
    {
     "data": {
      "text/plain": [
       "[('oz', 2758),\n",
       " ('black', 2059),\n",
       " ('pack', 1870),\n",
       " ('1', 1634),\n",
       " ('2', 1413),\n",
       " ('kit', 1384),\n",
       " ('set', 1366),\n",
       " ('manufactur', 1246),\n",
       " ('discontinu', 1232),\n",
       " ('phone', 1203)]"
      ]
     },
     "execution_count": 114,
     "metadata": {},
     "output_type": "execute_result"
    }
   ],
   "source": [
    "from nltk import FreqDist\n",
    "\n",
    "def frequent_words(df):\n",
    "    \n",
    "    lst=[]\n",
    "    for text in df.values:\n",
    "        lst+=text[0]\n",
    "    fdist=FreqDist(lst)\n",
    "    return fdist.most_common(10)\n",
    "\n",
    "\n",
    "frequent_words(products_data)"
   ]
  },
  {
   "cell_type": "markdown",
   "id": "82a5f72d",
   "metadata": {},
   "source": [
    "### Lemmatization "
   ]
  },
  {
   "cell_type": "code",
   "execution_count": 115,
   "id": "e9f14c32",
   "metadata": {},
   "outputs": [
    {
     "data": {
      "text/html": [
       "<div>\n",
       "<style scoped>\n",
       "    .dataframe tbody tr th:only-of-type {\n",
       "        vertical-align: middle;\n",
       "    }\n",
       "\n",
       "    .dataframe tbody tr th {\n",
       "        vertical-align: top;\n",
       "    }\n",
       "\n",
       "    .dataframe thead th {\n",
       "        text-align: right;\n",
       "    }\n",
       "</style>\n",
       "<table border=\"1\" class=\"dataframe\">\n",
       "  <thead>\n",
       "    <tr style=\"text-align: right;\">\n",
       "      <th></th>\n",
       "      <th>name</th>\n",
       "      <th>description</th>\n",
       "      <th>categories</th>\n",
       "    </tr>\n",
       "  </thead>\n",
       "  <tbody>\n",
       "    <tr>\n",
       "      <th>0</th>\n",
       "      <td>[tungsten, solder, pick, handl]</td>\n",
       "      <td>[solder, pick, pick, molten, solder, make, jew...</td>\n",
       "      <td>Arts, Crafts &amp; Sewing</td>\n",
       "    </tr>\n",
       "    <tr>\n",
       "      <th>1</th>\n",
       "      <td>[write, right, 98167, screen, protector, soni,...</td>\n",
       "      <td>[screen, need, protect, screen, expens, littl,...</td>\n",
       "      <td>Cell Phones &amp; Accessories</td>\n",
       "    </tr>\n",
       "    <tr>\n",
       "      <th>2</th>\n",
       "      <td>[casio, men, dbc3101, databank, 300, digit, wa...</td>\n",
       "      <td>[bring, precis, glanc, casio, men, databank, d...</td>\n",
       "      <td>Clothing, Shoes &amp; Jewelry</td>\n",
       "    </tr>\n",
       "    <tr>\n",
       "      <th>3</th>\n",
       "      <td>[factoryrecondit, dewalt, dw260kr, heavyduti, ...</td>\n",
       "      <td>[factoryrecondit, dewalt, dw260kr, heavyduti, ...</td>\n",
       "      <td>Tools &amp; Home Improvement</td>\n",
       "    </tr>\n",
       "    <tr>\n",
       "      <th>4</th>\n",
       "      <td>[energ, 2, 1, light]</td>\n",
       "      <td>[twoway, light, featur, bright, flashlight, be...</td>\n",
       "      <td>Health &amp; Personal Care</td>\n",
       "    </tr>\n",
       "  </tbody>\n",
       "</table>\n",
       "</div>"
      ],
      "text/plain": [
       "                                                name  \\\n",
       "0                    [tungsten, solder, pick, handl]   \n",
       "1  [write, right, 98167, screen, protector, soni,...   \n",
       "2  [casio, men, dbc3101, databank, 300, digit, wa...   \n",
       "3  [factoryrecondit, dewalt, dw260kr, heavyduti, ...   \n",
       "4                               [energ, 2, 1, light]   \n",
       "\n",
       "                                         description  \\\n",
       "0  [solder, pick, pick, molten, solder, make, jew...   \n",
       "1  [screen, need, protect, screen, expens, littl,...   \n",
       "2  [bring, precis, glanc, casio, men, databank, d...   \n",
       "3  [factoryrecondit, dewalt, dw260kr, heavyduti, ...   \n",
       "4  [twoway, light, featur, bright, flashlight, be...   \n",
       "\n",
       "                  categories  \n",
       "0      Arts, Crafts & Sewing  \n",
       "1  Cell Phones & Accessories  \n",
       "2  Clothing, Shoes & Jewelry  \n",
       "3   Tools & Home Improvement  \n",
       "4     Health & Personal Care  "
      ]
     },
     "execution_count": 115,
     "metadata": {},
     "output_type": "execute_result"
    }
   ],
   "source": [
    "from nltk.stem import WordNetLemmatizer\n",
    "from nltk import word_tokenize,pos_tag\n",
    "\n",
    "def lemmatization(text):\n",
    "    result=[]\n",
    "    wordnet = WordNetLemmatizer()\n",
    "    for token,tag in pos_tag(text):\n",
    "        pos=tag[0].lower()\n",
    "        \n",
    "        if pos not in ['a', 'r', 'n', 'v']:\n",
    "            pos='n'\n",
    "            \n",
    "        result.append(wordnet.lemmatize(token,pos))\n",
    "    \n",
    "    return result\n",
    "\n",
    "products_data['name']=products_data['name'].apply(lemmatization)\n",
    "products_data['description']=products_data['description'].apply(lemmatization)\n",
    "products_data.head()\n"
   ]
  },
  {
   "cell_type": "markdown",
   "id": "45503f80",
   "metadata": {},
   "source": [
    "### Removal of Tags"
   ]
  },
  {
   "cell_type": "code",
   "execution_count": 116,
   "id": "7ba65e6d",
   "metadata": {},
   "outputs": [
    {
     "data": {
      "text/html": [
       "<div>\n",
       "<style scoped>\n",
       "    .dataframe tbody tr th:only-of-type {\n",
       "        vertical-align: middle;\n",
       "    }\n",
       "\n",
       "    .dataframe tbody tr th {\n",
       "        vertical-align: top;\n",
       "    }\n",
       "\n",
       "    .dataframe thead th {\n",
       "        text-align: right;\n",
       "    }\n",
       "</style>\n",
       "<table border=\"1\" class=\"dataframe\">\n",
       "  <thead>\n",
       "    <tr style=\"text-align: right;\">\n",
       "      <th></th>\n",
       "      <th>name</th>\n",
       "      <th>description</th>\n",
       "      <th>categories</th>\n",
       "    </tr>\n",
       "  </thead>\n",
       "  <tbody>\n",
       "    <tr>\n",
       "      <th>0</th>\n",
       "      <td>tungsten solder pick handl</td>\n",
       "      <td>solder pick pick molten solder make jewelri</td>\n",
       "      <td>Arts, Crafts &amp; Sewing</td>\n",
       "    </tr>\n",
       "    <tr>\n",
       "      <th>1</th>\n",
       "      <td>write right 98167 screen protector soni t615c</td>\n",
       "      <td>screen need protect screen expens littl gadget...</td>\n",
       "      <td>Cell Phones &amp; Accessories</td>\n",
       "    </tr>\n",
       "    <tr>\n",
       "      <th>2</th>\n",
       "      <td>casio men dbc3101 databank 300 digit watch dis...</td>\n",
       "      <td>bring precis glanc casio men databank digit wa...</td>\n",
       "      <td>Clothing, Shoes &amp; Jewelry</td>\n",
       "    </tr>\n",
       "    <tr>\n",
       "      <th>3</th>\n",
       "      <td>factoryrecondit dewalt dw260kr heavyduti 62 am...</td>\n",
       "      <td>factoryrecondit dewalt dw260kr heavyduti 62 am...</td>\n",
       "      <td>Tools &amp; Home Improvement</td>\n",
       "    </tr>\n",
       "    <tr>\n",
       "      <th>4</th>\n",
       "      <td>energ 2 1 light</td>\n",
       "      <td>twoway light featur bright flashlight beam adj...</td>\n",
       "      <td>Health &amp; Personal Care</td>\n",
       "    </tr>\n",
       "  </tbody>\n",
       "</table>\n",
       "</div>"
      ],
      "text/plain": [
       "                                                name  \\\n",
       "0                         tungsten solder pick handl   \n",
       "1      write right 98167 screen protector soni t615c   \n",
       "2  casio men dbc3101 databank 300 digit watch dis...   \n",
       "3  factoryrecondit dewalt dw260kr heavyduti 62 am...   \n",
       "4                                    energ 2 1 light   \n",
       "\n",
       "                                         description  \\\n",
       "0        solder pick pick molten solder make jewelri   \n",
       "1  screen need protect screen expens littl gadget...   \n",
       "2  bring precis glanc casio men databank digit wa...   \n",
       "3  factoryrecondit dewalt dw260kr heavyduti 62 am...   \n",
       "4  twoway light featur bright flashlight beam adj...   \n",
       "\n",
       "                  categories  \n",
       "0      Arts, Crafts & Sewing  \n",
       "1  Cell Phones & Accessories  \n",
       "2  Clothing, Shoes & Jewelry  \n",
       "3   Tools & Home Improvement  \n",
       "4     Health & Personal Care  "
      ]
     },
     "execution_count": 116,
     "metadata": {},
     "output_type": "execute_result"
    }
   ],
   "source": [
    "import re\n",
    "\n",
    "def remove_tag(text):\n",
    "    text=' '.join(text)\n",
    "    html_pattern = re.compile('<.*?>')\n",
    "    return html_pattern.sub(r'', text)\n",
    "\n",
    "products_data['name']=products_data['name'].apply(remove_tag)\n",
    "products_data['description']=products_data['description'].apply(remove_tag)\n",
    "products_data.head()"
   ]
  },
  {
   "cell_type": "markdown",
   "id": "859e418e",
   "metadata": {},
   "source": [
    "### Removal of URLs"
   ]
  },
  {
   "cell_type": "code",
   "execution_count": 117,
   "id": "7beb554f",
   "metadata": {},
   "outputs": [
    {
     "data": {
      "text/html": [
       "<div>\n",
       "<style scoped>\n",
       "    .dataframe tbody tr th:only-of-type {\n",
       "        vertical-align: middle;\n",
       "    }\n",
       "\n",
       "    .dataframe tbody tr th {\n",
       "        vertical-align: top;\n",
       "    }\n",
       "\n",
       "    .dataframe thead th {\n",
       "        text-align: right;\n",
       "    }\n",
       "</style>\n",
       "<table border=\"1\" class=\"dataframe\">\n",
       "  <thead>\n",
       "    <tr style=\"text-align: right;\">\n",
       "      <th></th>\n",
       "      <th>name</th>\n",
       "      <th>description</th>\n",
       "      <th>categories</th>\n",
       "    </tr>\n",
       "  </thead>\n",
       "  <tbody>\n",
       "    <tr>\n",
       "      <th>0</th>\n",
       "      <td>tungsten solder pick handl</td>\n",
       "      <td>solder pick pick molten solder make jewelri</td>\n",
       "      <td>Arts, Crafts &amp; Sewing</td>\n",
       "    </tr>\n",
       "    <tr>\n",
       "      <th>1</th>\n",
       "      <td>write right 98167 screen protector soni t615c</td>\n",
       "      <td>screen need protect screen expens littl gadget...</td>\n",
       "      <td>Cell Phones &amp; Accessories</td>\n",
       "    </tr>\n",
       "    <tr>\n",
       "      <th>2</th>\n",
       "      <td>casio men dbc3101 databank 300 digit watch dis...</td>\n",
       "      <td>bring precis glanc casio men databank digit wa...</td>\n",
       "      <td>Clothing, Shoes &amp; Jewelry</td>\n",
       "    </tr>\n",
       "    <tr>\n",
       "      <th>3</th>\n",
       "      <td>factoryrecondit dewalt dw260kr heavyduti 62 am...</td>\n",
       "      <td>factoryrecondit dewalt dw260kr heavyduti 62 am...</td>\n",
       "      <td>Tools &amp; Home Improvement</td>\n",
       "    </tr>\n",
       "    <tr>\n",
       "      <th>4</th>\n",
       "      <td>energ 2 1 light</td>\n",
       "      <td>twoway light featur bright flashlight beam adj...</td>\n",
       "      <td>Health &amp; Personal Care</td>\n",
       "    </tr>\n",
       "  </tbody>\n",
       "</table>\n",
       "</div>"
      ],
      "text/plain": [
       "                                                name  \\\n",
       "0                         tungsten solder pick handl   \n",
       "1      write right 98167 screen protector soni t615c   \n",
       "2  casio men dbc3101 databank 300 digit watch dis...   \n",
       "3  factoryrecondit dewalt dw260kr heavyduti 62 am...   \n",
       "4                                    energ 2 1 light   \n",
       "\n",
       "                                         description  \\\n",
       "0        solder pick pick molten solder make jewelri   \n",
       "1  screen need protect screen expens littl gadget...   \n",
       "2  bring precis glanc casio men databank digit wa...   \n",
       "3  factoryrecondit dewalt dw260kr heavyduti 62 am...   \n",
       "4  twoway light featur bright flashlight beam adj...   \n",
       "\n",
       "                  categories  \n",
       "0      Arts, Crafts & Sewing  \n",
       "1  Cell Phones & Accessories  \n",
       "2  Clothing, Shoes & Jewelry  \n",
       "3   Tools & Home Improvement  \n",
       "4     Health & Personal Care  "
      ]
     },
     "execution_count": 117,
     "metadata": {},
     "output_type": "execute_result"
    }
   ],
   "source": [
    "def remove_urls(text):\n",
    "    url_pattern = re.compile(r'https?://\\S+|www\\.\\S+')\n",
    "    return url_pattern.sub(r'', text)\n",
    "\n",
    "products_data['name']=products_data['name'].apply(remove_urls)\n",
    "products_data['description']=products_data['description'].apply(remove_urls)\n",
    "products_data.head()"
   ]
  },
  {
   "cell_type": "markdown",
   "id": "bf32e9aa",
   "metadata": {},
   "source": [
    "### Tokenization"
   ]
  },
  {
   "cell_type": "code",
   "execution_count": 118,
   "id": "727be9dc",
   "metadata": {},
   "outputs": [
    {
     "data": {
      "text/html": [
       "<div>\n",
       "<style scoped>\n",
       "    .dataframe tbody tr th:only-of-type {\n",
       "        vertical-align: middle;\n",
       "    }\n",
       "\n",
       "    .dataframe tbody tr th {\n",
       "        vertical-align: top;\n",
       "    }\n",
       "\n",
       "    .dataframe thead th {\n",
       "        text-align: right;\n",
       "    }\n",
       "</style>\n",
       "<table border=\"1\" class=\"dataframe\">\n",
       "  <thead>\n",
       "    <tr style=\"text-align: right;\">\n",
       "      <th></th>\n",
       "      <th>name</th>\n",
       "      <th>description</th>\n",
       "      <th>categories</th>\n",
       "    </tr>\n",
       "  </thead>\n",
       "  <tbody>\n",
       "    <tr>\n",
       "      <th>0</th>\n",
       "      <td>[tungsten, solder, pick, handl]</td>\n",
       "      <td>[solder, pick, pick, molten, solder, make, jew...</td>\n",
       "      <td>Arts, Crafts &amp; Sewing</td>\n",
       "    </tr>\n",
       "    <tr>\n",
       "      <th>1</th>\n",
       "      <td>[write, right, 98167, screen, protector, soni,...</td>\n",
       "      <td>[screen, need, protect, screen, expens, littl,...</td>\n",
       "      <td>Cell Phones &amp; Accessories</td>\n",
       "    </tr>\n",
       "    <tr>\n",
       "      <th>2</th>\n",
       "      <td>[casio, men, dbc3101, databank, 300, digit, wa...</td>\n",
       "      <td>[bring, precis, glanc, casio, men, databank, d...</td>\n",
       "      <td>Clothing, Shoes &amp; Jewelry</td>\n",
       "    </tr>\n",
       "    <tr>\n",
       "      <th>3</th>\n",
       "      <td>[factoryrecondit, dewalt, dw260kr, heavyduti, ...</td>\n",
       "      <td>[factoryrecondit, dewalt, dw260kr, heavyduti, ...</td>\n",
       "      <td>Tools &amp; Home Improvement</td>\n",
       "    </tr>\n",
       "    <tr>\n",
       "      <th>4</th>\n",
       "      <td>[energ, 2, 1, light]</td>\n",
       "      <td>[twoway, light, featur, bright, flashlight, be...</td>\n",
       "      <td>Health &amp; Personal Care</td>\n",
       "    </tr>\n",
       "  </tbody>\n",
       "</table>\n",
       "</div>"
      ],
      "text/plain": [
       "                                                name  \\\n",
       "0                    [tungsten, solder, pick, handl]   \n",
       "1  [write, right, 98167, screen, protector, soni,...   \n",
       "2  [casio, men, dbc3101, databank, 300, digit, wa...   \n",
       "3  [factoryrecondit, dewalt, dw260kr, heavyduti, ...   \n",
       "4                               [energ, 2, 1, light]   \n",
       "\n",
       "                                         description  \\\n",
       "0  [solder, pick, pick, molten, solder, make, jew...   \n",
       "1  [screen, need, protect, screen, expens, littl,...   \n",
       "2  [bring, precis, glanc, casio, men, databank, d...   \n",
       "3  [factoryrecondit, dewalt, dw260kr, heavyduti, ...   \n",
       "4  [twoway, light, featur, bright, flashlight, be...   \n",
       "\n",
       "                  categories  \n",
       "0      Arts, Crafts & Sewing  \n",
       "1  Cell Phones & Accessories  \n",
       "2  Clothing, Shoes & Jewelry  \n",
       "3   Tools & Home Improvement  \n",
       "4     Health & Personal Care  "
      ]
     },
     "execution_count": 118,
     "metadata": {},
     "output_type": "execute_result"
    }
   ],
   "source": [
    "from nltk import word_tokenize\n",
    "products_data['name']=products_data['name'].apply(lambda X: word_tokenize(X))\n",
    "products_data['description']=products_data['description'].apply(lambda X: word_tokenize(X))\n",
    "products_data.head()"
   ]
  },
  {
   "cell_type": "code",
   "execution_count": 119,
   "id": "9ee346b9",
   "metadata": {},
   "outputs": [],
   "source": [
    "products_data.to_csv('preprocessed data.csv',index=False)"
   ]
  },
  {
   "cell_type": "markdown",
   "id": "c0bc6d6b",
   "metadata": {},
   "source": [
    "# Data visualisation befor numerisation"
   ]
  },
  {
   "cell_type": "code",
   "execution_count": 120,
   "id": "f5b158c2",
   "metadata": {},
   "outputs": [
    {
     "data": {
      "text/html": [
       "<div>\n",
       "<style scoped>\n",
       "    .dataframe tbody tr th:only-of-type {\n",
       "        vertical-align: middle;\n",
       "    }\n",
       "\n",
       "    .dataframe tbody tr th {\n",
       "        vertical-align: top;\n",
       "    }\n",
       "\n",
       "    .dataframe thead th {\n",
       "        text-align: right;\n",
       "    }\n",
       "</style>\n",
       "<table border=\"1\" class=\"dataframe\">\n",
       "  <thead>\n",
       "    <tr style=\"text-align: right;\">\n",
       "      <th></th>\n",
       "      <th>name</th>\n",
       "      <th>description</th>\n",
       "      <th>categories</th>\n",
       "    </tr>\n",
       "  </thead>\n",
       "  <tbody>\n",
       "    <tr>\n",
       "      <th>0</th>\n",
       "      <td>['tungsten', 'solder', 'pick', 'handl']</td>\n",
       "      <td>['solder', 'pick', 'pick', 'molten', 'solder',...</td>\n",
       "      <td>Arts, Crafts &amp; Sewing</td>\n",
       "    </tr>\n",
       "    <tr>\n",
       "      <th>1</th>\n",
       "      <td>['write', 'right', '98167', 'screen', 'protect...</td>\n",
       "      <td>['screen', 'need', 'protect', 'screen', 'expen...</td>\n",
       "      <td>Cell Phones &amp; Accessories</td>\n",
       "    </tr>\n",
       "    <tr>\n",
       "      <th>2</th>\n",
       "      <td>['casio', 'men', 'dbc3101', 'databank', '300',...</td>\n",
       "      <td>['bring', 'precis', 'glanc', 'casio', 'men', '...</td>\n",
       "      <td>Clothing, Shoes &amp; Jewelry</td>\n",
       "    </tr>\n",
       "    <tr>\n",
       "      <th>3</th>\n",
       "      <td>['factoryrecondit', 'dewalt', 'dw260kr', 'heav...</td>\n",
       "      <td>['factoryrecondit', 'dewalt', 'dw260kr', 'heav...</td>\n",
       "      <td>Tools &amp; Home Improvement</td>\n",
       "    </tr>\n",
       "    <tr>\n",
       "      <th>4</th>\n",
       "      <td>['energ', '2', '1', 'light']</td>\n",
       "      <td>['twoway', 'light', 'featur', 'bright', 'flash...</td>\n",
       "      <td>Health &amp; Personal Care</td>\n",
       "    </tr>\n",
       "    <tr>\n",
       "      <th>...</th>\n",
       "      <td>...</td>\n",
       "      <td>...</td>\n",
       "      <td>...</td>\n",
       "    </tr>\n",
       "    <tr>\n",
       "      <th>44799</th>\n",
       "      <td>['berkley', 'trilen', 'xl', '1000', 'yard', 'f...</td>\n",
       "      <td>['smooth', 'cast', 'berkley', 'trilen', 'xl', ...</td>\n",
       "      <td>Sports &amp; Outdoors</td>\n",
       "    </tr>\n",
       "    <tr>\n",
       "      <th>44800</th>\n",
       "      <td>['badger', 'airbrush', 'compani', 'basic', 'sp...</td>\n",
       "      <td>['easi', 'use', 'top', 'qualiti', 'spray', 'gu...</td>\n",
       "      <td>Arts, Crafts &amp; Sewing</td>\n",
       "    </tr>\n",
       "    <tr>\n",
       "      <th>44801</th>\n",
       "      <td>['fimo', 'soft', 'polym', 'clay', '2', 'ounces...</td>\n",
       "      <td>['fimo', 'soft', 'polym', 'clay', 'easier', 'u...</td>\n",
       "      <td>Arts, Crafts &amp; Sewing</td>\n",
       "    </tr>\n",
       "    <tr>\n",
       "      <th>44802</th>\n",
       "      <td>['wilton', 'ice', 'color', '1', 'oz', 'rise', ...</td>\n",
       "      <td>['ice', 'color', 'plastic', 'bottl', 'contain'...</td>\n",
       "      <td>Grocery &amp; Gourmet Food</td>\n",
       "    </tr>\n",
       "    <tr>\n",
       "      <th>44803</th>\n",
       "      <td>['polyform', 'sculpey', 'iii', 'polym', 'clay'...</td>\n",
       "      <td>['sculpey', '3', 'polym', 'clay', 'america', '...</td>\n",
       "      <td>Arts, Crafts &amp; Sewing</td>\n",
       "    </tr>\n",
       "  </tbody>\n",
       "</table>\n",
       "<p>44804 rows × 3 columns</p>\n",
       "</div>"
      ],
      "text/plain": [
       "                                                    name  \\\n",
       "0                ['tungsten', 'solder', 'pick', 'handl']   \n",
       "1      ['write', 'right', '98167', 'screen', 'protect...   \n",
       "2      ['casio', 'men', 'dbc3101', 'databank', '300',...   \n",
       "3      ['factoryrecondit', 'dewalt', 'dw260kr', 'heav...   \n",
       "4                           ['energ', '2', '1', 'light']   \n",
       "...                                                  ...   \n",
       "44799  ['berkley', 'trilen', 'xl', '1000', 'yard', 'f...   \n",
       "44800  ['badger', 'airbrush', 'compani', 'basic', 'sp...   \n",
       "44801  ['fimo', 'soft', 'polym', 'clay', '2', 'ounces...   \n",
       "44802  ['wilton', 'ice', 'color', '1', 'oz', 'rise', ...   \n",
       "44803  ['polyform', 'sculpey', 'iii', 'polym', 'clay'...   \n",
       "\n",
       "                                             description  \\\n",
       "0      ['solder', 'pick', 'pick', 'molten', 'solder',...   \n",
       "1      ['screen', 'need', 'protect', 'screen', 'expen...   \n",
       "2      ['bring', 'precis', 'glanc', 'casio', 'men', '...   \n",
       "3      ['factoryrecondit', 'dewalt', 'dw260kr', 'heav...   \n",
       "4      ['twoway', 'light', 'featur', 'bright', 'flash...   \n",
       "...                                                  ...   \n",
       "44799  ['smooth', 'cast', 'berkley', 'trilen', 'xl', ...   \n",
       "44800  ['easi', 'use', 'top', 'qualiti', 'spray', 'gu...   \n",
       "44801  ['fimo', 'soft', 'polym', 'clay', 'easier', 'u...   \n",
       "44802  ['ice', 'color', 'plastic', 'bottl', 'contain'...   \n",
       "44803  ['sculpey', '3', 'polym', 'clay', 'america', '...   \n",
       "\n",
       "                      categories  \n",
       "0          Arts, Crafts & Sewing  \n",
       "1      Cell Phones & Accessories  \n",
       "2      Clothing, Shoes & Jewelry  \n",
       "3       Tools & Home Improvement  \n",
       "4         Health & Personal Care  \n",
       "...                          ...  \n",
       "44799          Sports & Outdoors  \n",
       "44800      Arts, Crafts & Sewing  \n",
       "44801      Arts, Crafts & Sewing  \n",
       "44802     Grocery & Gourmet Food  \n",
       "44803      Arts, Crafts & Sewing  \n",
       "\n",
       "[44804 rows x 3 columns]"
      ]
     },
     "execution_count": 120,
     "metadata": {},
     "output_type": "execute_result"
    }
   ],
   "source": [
    "products_data = pd.read_csv('preprocessed data.csv')\n",
    "products_data"
   ]
  },
  {
   "cell_type": "code",
   "execution_count": 121,
   "id": "856e9824",
   "metadata": {},
   "outputs": [
    {
     "data": {
      "image/png": "[encoded data removed]",
      "text/plain": [
       "<Figure size 864x576 with 1 Axes>"
      ]
     },
     "metadata": {
      "needs_background": "light"
     },
     "output_type": "display_data"
    }
   ],
   "source": [
    "import matplotlib.pyplot as plt\n",
    "import seaborn as sns\n",
    "\n",
    "cnt_pro = df['categories'].value_counts()\n",
    "plt.figure(figsize=(12,8))\n",
    "sns.barplot(cnt_pro.index, cnt_pro.values, alpha=0.8)\n",
    "plt.ylabel('Number of Occurrences', fontsize=12)\n",
    "plt.xlabel('categories', fontsize=12)\n",
    "plt.xticks(rotation=90)\n",
    "plt.show();"
   ]
  },
  {
   "cell_type": "markdown",
   "id": "44bbf6c8",
   "metadata": {},
   "source": [
    "### Distributions"
   ]
  },
  {
   "cell_type": "code",
   "execution_count": 122,
   "id": "688169d6",
   "metadata": {},
   "outputs": [
    {
     "data": {
      "text/plain": [
       "<AxesSubplot:>"
      ]
     },
     "execution_count": 122,
     "metadata": {},
     "output_type": "execute_result"
    },
    {
     "data": {
      "image/png": "[encoded data removed]",
      "text/plain": [
       "<Figure size 432x288 with 1 Axes>"
      ]
     },
     "metadata": {
      "needs_background": "light"
     },
     "output_type": "display_data"
    }
   ],
   "source": [
    "products_data.description.str.len().hist()"
   ]
  },
  {
   "cell_type": "markdown",
   "id": "1d93a5ef",
   "metadata": {},
   "source": [
    "We can see that most of the description have a range of 0 to a proximately 180 characters, while very few description have 180 or more characters."
   ]
  },
  {
   "cell_type": "code",
   "execution_count": 123,
   "id": "72b9aafd",
   "metadata": {},
   "outputs": [
    {
     "data": {
      "text/plain": [
       "<AxesSubplot:>"
      ]
     },
     "execution_count": 123,
     "metadata": {},
     "output_type": "execute_result"
    },
    {
     "data": {
      "image/png": "[encoded data removed]",
      "text/plain": [
       "<Figure size 432x288 with 1 Axes>"
      ]
     },
     "metadata": {
      "needs_background": "light"
     },
     "output_type": "display_data"
    }
   ],
   "source": [
    "products_data.name.str.len().hist()"
   ]
  },
  {
   "cell_type": "markdown",
   "id": "0cf4beea",
   "metadata": {},
   "source": [
    "We can see that most of the description have a range of 0 to a proximately 15 characters, while very few description have 25 or more characters."
   ]
  },
  {
   "cell_type": "code",
   "execution_count": null,
   "id": "cc7b3418",
   "metadata": {},
   "outputs": [],
   "source": []
  }
 ],
 "metadata": {
  "kernelspec": {
   "display_name": "Python 3 (ipykernel)",
   "language": "python",
   "name": "python3"
  },
  "language_info": {
   "codemirror_mode": {
    "name": "ipython",
    "version": 3
   },
   "file_extension": ".py",
   "mimetype": "text/x-python",
   "name": "python",
   "nbconvert_exporter": "python",
   "pygments_lexer": "ipython3",
   "version": "3.9.12"
  }
 },
 "nbformat": 4,
 "nbformat_minor": 5
}
