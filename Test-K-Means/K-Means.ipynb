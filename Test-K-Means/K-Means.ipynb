{
 "cells": [
  {
   "cell_type": "code",
   "execution_count": 29,
   "id": "5a156401",
   "metadata": {},
   "outputs": [],
   "source": [
    "import numpy as np\n",
    "import pandas as pd\n",
    "import time\n",
    "from sklearn.datasets import load_digits\n",
    "from sklearn.model_selection import train_test_split\n",
    "from sklearn.linear_model import LogisticRegression\n",
    "from sklearn.cluster import KMeans\n",
    "from sklearn.svm import SVC\n",
    "from sklearn.metrics import accuracy_score\n",
    "from keras.utils.np_utils import to_categorical\n",
    "from keras.preprocessing.text import Tokenizer\n",
    "from keras.utils import pad_sequences\n"
   ]
  },
  {
   "cell_type": "code",
   "execution_count": null,
   "id": "8015d836",
   "metadata": {},
   "outputs": [],
   "source": []
  },
  {
   "cell_type": "code",
   "execution_count": 15,
   "id": "52043ec8",
   "metadata": {},
   "outputs": [],
   "source": [
    "def timeit(method):\n",
    "    def timed(*args, **kw):\n",
    "        ts = time.time()\n",
    "        result = method(*args, **kw)\n",
    "        te = time.time()\n",
    "        if 'log_time' in kw:\n",
    "            name = kw.get('log_name', method.__name__.upper())\n",
    "            kw['log_time'][name] = int((te - ts) * 1000)\n",
    "        else:\n",
    "            print('%r  %2.2f ms' % \\\n",
    "                  (method.__name__, (te - ts) * 1000))\n",
    "        return result\n",
    "    return timed"
   ]
  },
  {
   "cell_type": "code",
   "execution_count": 109,
   "id": "9ac7f926",
   "metadata": {},
   "outputs": [],
   "source": [
    "df=pd.read_csv('../../Product-Classification-tests/LSTM/products-data-minimised.csv')"
   ]
  },
  {
   "cell_type": "code",
   "execution_count": 110,
   "id": "12693ca1",
   "metadata": {},
   "outputs": [
    {
     "data": {
      "text/html": [
       "<div>\n",
       "<style scoped>\n",
       "    .dataframe tbody tr th:only-of-type {\n",
       "        vertical-align: middle;\n",
       "    }\n",
       "\n",
       "    .dataframe tbody tr th {\n",
       "        vertical-align: top;\n",
       "    }\n",
       "\n",
       "    .dataframe thead th {\n",
       "        text-align: right;\n",
       "    }\n",
       "</style>\n",
       "<table border=\"1\" class=\"dataframe\">\n",
       "  <thead>\n",
       "    <tr style=\"text-align: right;\">\n",
       "      <th></th>\n",
       "      <th>NameDescription</th>\n",
       "      <th>categories</th>\n",
       "    </tr>\n",
       "  </thead>\n",
       "  <tbody>\n",
       "    <tr>\n",
       "      <th>0</th>\n",
       "      <td>tungsten solder pick handle solder pick pickin...</td>\n",
       "      <td>Arts, Crafts &amp; Sewing</td>\n",
       "    </tr>\n",
       "    <tr>\n",
       "      <th>1</th>\n",
       "      <td>write right  screen protector sony tc screen n...</td>\n",
       "      <td>Cell Phones &amp; Accessories</td>\n",
       "    </tr>\n",
       "    <tr>\n",
       "      <th>2</th>\n",
       "      <td>casio men dbc databank  digital watch disconti...</td>\n",
       "      <td>Clothing, Shoes &amp; Jewelry</td>\n",
       "    </tr>\n",
       "    <tr>\n",
       "      <th>3</th>\n",
       "      <td>factoryreconditioned dewalt dwkr heavyduty  am...</td>\n",
       "      <td>Tools &amp; Home Improvement</td>\n",
       "    </tr>\n",
       "    <tr>\n",
       "      <th>4</th>\n",
       "      <td>energizer   light twoway light feature bright ...</td>\n",
       "      <td>Health &amp; Personal Care</td>\n",
       "    </tr>\n",
       "    <tr>\n",
       "      <th>...</th>\n",
       "      <td>...</td>\n",
       "      <td>...</td>\n",
       "    </tr>\n",
       "    <tr>\n",
       "      <th>44799</th>\n",
       "      <td>berkley trilene xl  yard fishing line clear  l...</td>\n",
       "      <td>Sports &amp; Outdoors</td>\n",
       "    </tr>\n",
       "    <tr>\n",
       "      <th>44800</th>\n",
       "      <td>badger airbrush company basic spray gun set ea...</td>\n",
       "      <td>Arts, Crafts &amp; Sewing</td>\n",
       "    </tr>\n",
       "    <tr>\n",
       "      <th>44801</th>\n",
       "      <td>fimo soft polymer clay  ounces tropical green ...</td>\n",
       "      <td>Arts, Crafts &amp; Sewing</td>\n",
       "    </tr>\n",
       "    <tr>\n",
       "      <th>44802</th>\n",
       "      <td>wilton icing color  oz rose petal icing color ...</td>\n",
       "      <td>Grocery &amp; Gourmet Food</td>\n",
       "    </tr>\n",
       "    <tr>\n",
       "      <th>44803</th>\n",
       "      <td>polyform sculpey iii polymer clay  oz french b...</td>\n",
       "      <td>Arts, Crafts &amp; Sewing</td>\n",
       "    </tr>\n",
       "  </tbody>\n",
       "</table>\n",
       "<p>44804 rows × 2 columns</p>\n",
       "</div>"
      ],
      "text/plain": [
       "                                         NameDescription  \\\n",
       "0      tungsten solder pick handle solder pick pickin...   \n",
       "1      write right  screen protector sony tc screen n...   \n",
       "2      casio men dbc databank  digital watch disconti...   \n",
       "3      factoryreconditioned dewalt dwkr heavyduty  am...   \n",
       "4      energizer   light twoway light feature bright ...   \n",
       "...                                                  ...   \n",
       "44799  berkley trilene xl  yard fishing line clear  l...   \n",
       "44800  badger airbrush company basic spray gun set ea...   \n",
       "44801  fimo soft polymer clay  ounces tropical green ...   \n",
       "44802  wilton icing color  oz rose petal icing color ...   \n",
       "44803  polyform sculpey iii polymer clay  oz french b...   \n",
       "\n",
       "                      categories  \n",
       "0          Arts, Crafts & Sewing  \n",
       "1      Cell Phones & Accessories  \n",
       "2      Clothing, Shoes & Jewelry  \n",
       "3       Tools & Home Improvement  \n",
       "4         Health & Personal Care  \n",
       "...                          ...  \n",
       "44799          Sports & Outdoors  \n",
       "44800      Arts, Crafts & Sewing  \n",
       "44801      Arts, Crafts & Sewing  \n",
       "44802     Grocery & Gourmet Food  \n",
       "44803      Arts, Crafts & Sewing  \n",
       "\n",
       "[44804 rows x 2 columns]"
      ]
     },
     "execution_count": 110,
     "metadata": {},
     "output_type": "execute_result"
    }
   ],
   "source": [
    "df"
   ]
  },
  {
   "cell_type": "code",
   "execution_count": 113,
   "id": "09bc392d",
   "metadata": {},
   "outputs": [
    {
     "data": {
      "text/plain": [
       "array([0, 1, 2, 3, 4, 5, 6, 7, 8, 9, 10, 11, 12, 13, 14, 15, 16, 17],\n",
       "      dtype=object)"
      ]
     },
     "execution_count": 113,
     "metadata": {},
     "output_type": "execute_result"
    }
   ],
   "source": [
    "df.categories.unique()"
   ]
  },
  {
   "cell_type": "code",
   "execution_count": 112,
   "id": "a56a60b8",
   "metadata": {},
   "outputs": [],
   "source": [
    "l=[]\n",
    "for text in df.categories.unique():\n",
    "    l.append(text)\n",
    "\n",
    "for i in range(df['categories'].size):\n",
    "    for j in range(18):\n",
    "        if df[\"categories\"][i]==l[j]:\n",
    "            df[\"categories\"][i]=j"
   ]
  },
  {
   "cell_type": "code",
   "execution_count": 88,
   "id": "ab8ec355",
   "metadata": {},
   "outputs": [],
   "source": [
    "catList=df['categories'].unique().tolist()"
   ]
  },
  {
   "cell_type": "code",
   "execution_count": 21,
   "id": "fc48cf65",
   "metadata": {},
   "outputs": [],
   "source": [
    "#I do aspire here to have balanced classes\n",
    "num_of_categories = 1987\n",
    "shuffledList=[None]*len(catList)\n",
    "    \n",
    "shuffled = df.reindex(np.random.permutation(df.index))\n",
    "for cat in catList:\n",
    "    shuffledList[catList.index(cat)] = shuffled[shuffled['categories'] == cat][:num_of_categories]\n",
    "\n",
    "#e = shuffled[shuffled['categories'] == 'e'][:num_of_categories]\n",
    "#b = shuffled[shuffled['categories'] == 'b'][:num_of_categories]\n",
    "#t = shuffled[shuffled['categories'] == 't'][:num_of_categories]\n",
    "#m = shuffled[shuffled['categories'] == 'm'][:num_of_categories]\n",
    "concated = pd.concat(shuffledList, ignore_index=True)\n",
    "#Shuffle the dataset\n",
    "concated = concated.reindex(np.random.permutation(concated.index))\n",
    "concated['LABEL'] = 0"
   ]
  },
  {
   "cell_type": "code",
   "execution_count": 65,
   "id": "2d00c047",
   "metadata": {},
   "outputs": [
    {
     "name": "stdout",
     "output_type": "stream",
     "text": [
      "23581    11\n",
      "21435    10\n",
      "18899     9\n",
      "26917    13\n",
      "16626     8\n",
      "1228      0\n",
      "24593    12\n",
      "30625    15\n",
      "898       0\n",
      "28662    14\n",
      "Name: LABEL, dtype: int64\n",
      "[[0. 0. 0. 0. 0. 0. 0. 0. 0. 0. 0. 1. 0. 0. 0. 0. 0. 0.]\n",
      " [0. 0. 0. 0. 0. 0. 0. 0. 0. 0. 1. 0. 0. 0. 0. 0. 0. 0.]\n",
      " [0. 0. 0. 0. 0. 0. 0. 0. 0. 1. 0. 0. 0. 0. 0. 0. 0. 0.]\n",
      " [0. 0. 0. 0. 0. 0. 0. 0. 0. 0. 0. 0. 0. 1. 0. 0. 0. 0.]\n",
      " [0. 0. 0. 0. 0. 0. 0. 0. 1. 0. 0. 0. 0. 0. 0. 0. 0. 0.]\n",
      " [1. 0. 0. 0. 0. 0. 0. 0. 0. 0. 0. 0. 0. 0. 0. 0. 0. 0.]\n",
      " [0. 0. 0. 0. 0. 0. 0. 0. 0. 0. 0. 0. 1. 0. 0. 0. 0. 0.]\n",
      " [0. 0. 0. 0. 0. 0. 0. 0. 0. 0. 0. 0. 0. 0. 0. 1. 0. 0.]\n",
      " [1. 0. 0. 0. 0. 0. 0. 0. 0. 0. 0. 0. 0. 0. 0. 0. 0. 0.]\n",
      " [0. 0. 0. 0. 0. 0. 0. 0. 0. 0. 0. 0. 0. 0. 1. 0. 0. 0.]]\n"
     ]
    }
   ],
   "source": [
    "#One-hot encode the lab\n",
    "\n",
    "for cat in catList:\n",
    "    concated.loc[concated['categories'] == cat, 'LABEL'] = catList.index(cat)\n",
    "\n",
    "print(concated['LABEL'][:10])\n",
    "labels = to_categorical(concated['LABEL'], num_classes=18)\n",
    "print(labels[:10])\n",
    "if 'categories' in concated.keys():\n",
    "    concated.drop(['categories'], axis=1)"
   ]
  },
  {
   "cell_type": "code",
   "execution_count": 66,
   "id": "624cbca1",
   "metadata": {},
   "outputs": [
    {
     "data": {
      "text/html": [
       "<div>\n",
       "<style scoped>\n",
       "    .dataframe tbody tr th:only-of-type {\n",
       "        vertical-align: middle;\n",
       "    }\n",
       "\n",
       "    .dataframe tbody tr th {\n",
       "        vertical-align: top;\n",
       "    }\n",
       "\n",
       "    .dataframe thead th {\n",
       "        text-align: right;\n",
       "    }\n",
       "</style>\n",
       "<table border=\"1\" class=\"dataframe\">\n",
       "  <thead>\n",
       "    <tr style=\"text-align: right;\">\n",
       "      <th></th>\n",
       "      <th>NameDescription</th>\n",
       "      <th>categories</th>\n",
       "      <th>LABEL</th>\n",
       "    </tr>\n",
       "  </thead>\n",
       "  <tbody>\n",
       "    <tr>\n",
       "      <th>23581</th>\n",
       "      <td>mother goose nursery rhyme block humpty dumpty...</td>\n",
       "      <td>Toys &amp; Games</td>\n",
       "      <td>11</td>\n",
       "    </tr>\n",
       "    <tr>\n",
       "      <th>21435</th>\n",
       "      <td>hella h  series amber fog lamp kit passenger c...</td>\n",
       "      <td>Automotive</td>\n",
       "      <td>10</td>\n",
       "    </tr>\n",
       "    <tr>\n",
       "      <th>18899</th>\n",
       "      <td>monoprice  cat punch keystone jack yellow high...</td>\n",
       "      <td>Electronics</td>\n",
       "      <td>9</td>\n",
       "    </tr>\n",
       "    <tr>\n",
       "      <th>26917</th>\n",
       "      <td>broannutone b contempora sliding door surface ...</td>\n",
       "      <td>Appliances</td>\n",
       "      <td>13</td>\n",
       "    </tr>\n",
       "    <tr>\n",
       "      <th>16626</th>\n",
       "      <td>keltec belt clip s p mm keltec belt clip s p m...</td>\n",
       "      <td>Sports &amp; Outdoors</td>\n",
       "      <td>8</td>\n",
       "    </tr>\n",
       "    <tr>\n",
       "      <th>...</th>\n",
       "      <td>...</td>\n",
       "      <td>...</td>\n",
       "      <td>...</td>\n",
       "    </tr>\n",
       "    <tr>\n",
       "      <th>30820</th>\n",
       "      <td>pasco  pressure guage  psi part precision made...</td>\n",
       "      <td>Industrial &amp; Scientific</td>\n",
       "      <td>15</td>\n",
       "    </tr>\n",
       "    <tr>\n",
       "      <th>7204</th>\n",
       "      <td>dewalt dw inch  amp reversing end handle drill...</td>\n",
       "      <td>Tools &amp; Home Improvement</td>\n",
       "      <td>3</td>\n",
       "    </tr>\n",
       "    <tr>\n",
       "      <th>3084</th>\n",
       "      <td>tekkeon eztalker et mini bluetooth headset inn...</td>\n",
       "      <td>Cell Phones &amp; Accessories</td>\n",
       "      <td>1</td>\n",
       "    </tr>\n",
       "    <tr>\n",
       "      <th>4568</th>\n",
       "      <td>doodlebops deedee costume toddler size t doodl...</td>\n",
       "      <td>Clothing, Shoes &amp; Jewelry</td>\n",
       "      <td>2</td>\n",
       "    </tr>\n",
       "    <tr>\n",
       "      <th>32850</th>\n",
       "      <td>alaskan seafood sampler giant king crab wild a...</td>\n",
       "      <td>Grocery &amp; Gourmet Food</td>\n",
       "      <td>16</td>\n",
       "    </tr>\n",
       "  </tbody>\n",
       "</table>\n",
       "<p>35766 rows × 3 columns</p>\n",
       "</div>"
      ],
      "text/plain": [
       "                                         NameDescription  \\\n",
       "23581  mother goose nursery rhyme block humpty dumpty...   \n",
       "21435  hella h  series amber fog lamp kit passenger c...   \n",
       "18899  monoprice  cat punch keystone jack yellow high...   \n",
       "26917  broannutone b contempora sliding door surface ...   \n",
       "16626  keltec belt clip s p mm keltec belt clip s p m...   \n",
       "...                                                  ...   \n",
       "30820  pasco  pressure guage  psi part precision made...   \n",
       "7204   dewalt dw inch  amp reversing end handle drill...   \n",
       "3084   tekkeon eztalker et mini bluetooth headset inn...   \n",
       "4568   doodlebops deedee costume toddler size t doodl...   \n",
       "32850  alaskan seafood sampler giant king crab wild a...   \n",
       "\n",
       "                      categories  LABEL  \n",
       "23581               Toys & Games     11  \n",
       "21435                 Automotive     10  \n",
       "18899                Electronics      9  \n",
       "26917                 Appliances     13  \n",
       "16626          Sports & Outdoors      8  \n",
       "...                          ...    ...  \n",
       "30820    Industrial & Scientific     15  \n",
       "7204    Tools & Home Improvement      3  \n",
       "3084   Cell Phones & Accessories      1  \n",
       "4568   Clothing, Shoes & Jewelry      2  \n",
       "32850     Grocery & Gourmet Food     16  \n",
       "\n",
       "[35766 rows x 3 columns]"
      ]
     },
     "execution_count": 66,
     "metadata": {},
     "output_type": "execute_result"
    }
   ],
   "source": []
  },
  {
   "cell_type": "code",
   "execution_count": 127,
   "id": "ccebe1b3",
   "metadata": {},
   "outputs": [],
   "source": [
    "X_train = df.loc[:21999, 'NameDescription'].values\n",
    "y_train = df.loc[:21999, 'categories'].values\n",
    "X_test = df.loc[22000:, 'NameDescription'].values\n",
    "y_test = df.loc[22000:, 'categories'].values\n",
    "\n",
    "from keras.preprocessing.text import Tokenizer\n",
    " \n",
    "# create the tokenizer\n",
    "tokenizer = Tokenizer()\n",
    "tokenizer.fit_on_texts(df['NameDescription'])\n",
    "\n",
    "# sequence encode\n",
    "encoded_docs = tokenizer.texts_to_sequences(X_train)\n",
    "encoded_docs_test = tokenizer.texts_to_sequences(X_test)\n",
    "\n",
    "from keras.utils import pad_sequences\n",
    "# pad sequences\n",
    "max_length = max([len(s.split()) for s in X_train])\n",
    "X_train = pad_sequences(encoded_docs, maxlen=max_length, padding='post')\n",
    "X_test = pad_sequences(encoded_docs_test, maxlen=max_length, padding='post')\n",
    "\n",
    "y_test=y_test.astype('int')\n",
    "y_train=y_train.astype('int')"
   ]
  },
  {
   "cell_type": "code",
   "execution_count": null,
   "id": "4081703f",
   "metadata": {},
   "outputs": [],
   "source": [
    "X_train, X_test, y_train, y_test = train_test_split(X , labels, test_size=0.25, random_state=42)"
   ]
  },
  {
   "cell_type": "code",
   "execution_count": 121,
   "id": "f13328f8",
   "metadata": {},
   "outputs": [
    {
     "data": {
      "text/plain": [
       "array([0, 1, 2, ..., 15, 0, 0], dtype=object)"
      ]
     },
     "execution_count": 121,
     "metadata": {},
     "output_type": "execute_result"
    }
   ],
   "source": [
    "y_train"
   ]
  },
  {
   "cell_type": "code",
   "execution_count": 119,
   "id": "54ec95ad",
   "metadata": {},
   "outputs": [
    {
     "data": {
      "text/plain": [
       "(35766, 130)"
      ]
     },
     "execution_count": 119,
     "metadata": {},
     "output_type": "execute_result"
    }
   ],
   "source": [
    "X.shape"
   ]
  },
  {
   "cell_type": "code",
   "execution_count": 64,
   "id": "b1a64672",
   "metadata": {},
   "outputs": [
    {
     "data": {
      "text/plain": [
       "array([[0., 0., 0., ..., 0., 0., 0.],\n",
       "       [0., 0., 0., ..., 0., 0., 0.],\n",
       "       [0., 0., 0., ..., 0., 0., 0.],\n",
       "       ...,\n",
       "       [0., 1., 0., ..., 0., 0., 0.],\n",
       "       [0., 0., 1., ..., 0., 0., 0.],\n",
       "       [0., 0., 0., ..., 0., 1., 0.]], dtype=float32)"
      ]
     },
     "execution_count": 64,
     "metadata": {},
     "output_type": "execute_result"
    }
   ],
   "source": [
    "labels"
   ]
  },
  {
   "cell_type": "code",
   "execution_count": 85,
   "id": "071ca536",
   "metadata": {},
   "outputs": [
    {
     "data": {
      "text/plain": [
       "(6091,)"
      ]
     },
     "execution_count": 85,
     "metadata": {},
     "output_type": "execute_result"
    }
   ],
   "source": [
    "concated.loc[:21999,'LABEL'].values.shape"
   ]
  },
  {
   "cell_type": "code",
   "execution_count": 117,
   "id": "4f3284be",
   "metadata": {},
   "outputs": [
    {
     "name": "stdout",
     "output_type": "stream",
     "text": [
      "((21999, 130), (22000,), (13765, 130), (22803,))\n"
     ]
    }
   ],
   "source": [
    "X_train = X[:21999]\n",
    "y_train = df.loc[:21999,'categories'].values\n",
    "X_test  = X[22000:]\n",
    "y_test  = df.loc[22000:,'categories'].values\n",
    "print((X_train.shape, y_train.shape, X_test.shape, y_test.shape))  \n"
   ]
  },
  {
   "cell_type": "code",
   "execution_count": 122,
   "id": "6779fedc",
   "metadata": {},
   "outputs": [
    {
     "name": "stdout",
     "output_type": "stream",
     "text": [
      "((22000, 1239), (22000,), (22804, 1239), (22804,))\n"
     ]
    }
   ],
   "source": [
    "print((X_train.shape, y_train.shape, X_test.shape, y_test.shape))  "
   ]
  },
  {
   "cell_type": "code",
   "execution_count": 128,
   "id": "2944d0c5",
   "metadata": {},
   "outputs": [],
   "source": [
    "class clust():\n",
    "    #def _load_data(self, sklearn_load_ds):\n",
    "    def _load_data(self):\n",
    "        #data = sklearn_load_ds\n",
    "        #X = pd.DataFrame(data.data)\n",
    "        self.X_train=X_train\n",
    "        self.X_test=X_test\n",
    "        self.y_train=y_train\n",
    "        self.y_test=y_test\n",
    "        #self.X_train, self.X_test, self.y_train, self.y_test = train_test_split(X, labels, test_size=0.3, random_state=42)\n",
    "\n",
    "    def __init__(self):\n",
    "        self._load_data()\n",
    "    \n",
    "    @timeit\n",
    "    def classify(self, model=LogisticRegression(random_state=42)):\n",
    "        model.fit(self.X_train, self.y_train)\n",
    "        y_pred = model.predict(self.X_test)\n",
    "        print('Accuracy: {}'.format(accuracy_score(self.y_test, y_pred)))\n",
    "\n",
    "    @timeit\n",
    "    def Kmeans(self, output='add'):\n",
    "        n_clusters = len(np.unique(self.y_train))\n",
    "        clf = KMeans(n_clusters = n_clusters, random_state=42)\n",
    "        clf.fit(self.X_train)\n",
    "        y_labels_train = clf.labels_\n",
    "        y_labels_test = clf.predict(self.X_test)\n",
    "        if output == 'add':\n",
    "            self.X_train['km_clust'] = y_labels_train\n",
    "            self.X_test['km_clust'] = y_labels_test\n",
    "        elif output == 'replace':\n",
    "            self.X_train = y_labels_train[:, np.newaxis]\n",
    "            self.X_test = y_labels_test[:, np.newaxis]\n",
    "        else:\n",
    "            raise ValueError('output should be either add or replace')\n",
    "        \n",
    "        print((X_train.shape, y_train.shape, X_test.shape, y_test.shape))  \n",
    "        return self"
   ]
  },
  {
   "cell_type": "code",
   "execution_count": 129,
   "id": "683fdb91",
   "metadata": {
    "scrolled": true
   },
   "outputs": [
    {
     "name": "stdout",
     "output_type": "stream",
     "text": [
      "((22000, 1239), (22000,), (22804, 1239), (22804,))\n",
      "'Kmeans'  8349.11 ms\n",
      "Accuracy: 0.12028591475179792\n",
      "'classify'  79375.21 ms\n"
     ]
    }
   ],
   "source": [
    "clust().Kmeans(output='replace').classify(model=SVC())"
   ]
  },
  {
   "cell_type": "code",
   "execution_count": 130,
   "id": "78ab5cfb",
   "metadata": {
    "scrolled": true
   },
   "outputs": [
    {
     "name": "stdout",
     "output_type": "stream",
     "text": [
      "Accuracy: 0.11230485879670234\n",
      "'classify'  4097.40 ms\n"
     ]
    },
    {
     "name": "stderr",
     "output_type": "stream",
     "text": [
      "/Users/mouadlaayouni/opt/anaconda3/lib/python3.9/site-packages/sklearn/linear_model/_logistic.py:814: ConvergenceWarning: lbfgs failed to converge (status=1):\n",
      "STOP: TOTAL NO. of ITERATIONS REACHED LIMIT.\n",
      "\n",
      "Increase the number of iterations (max_iter) or scale the data as shown in:\n",
      "    https://scikit-learn.org/stable/modules/preprocessing.html\n",
      "Please also refer to the documentation for alternative solver options:\n",
      "    https://scikit-learn.org/stable/modules/linear_model.html#logistic-regression\n",
      "  n_iter_i = _check_optimize_result(\n"
     ]
    }
   ],
   "source": [
    "clust().classify()"
   ]
  },
  {
   "cell_type": "code",
   "execution_count": 131,
   "id": "0538a353",
   "metadata": {},
   "outputs": [
    {
     "ename": "IndexError",
     "evalue": "only integers, slices (`:`), ellipsis (`...`), numpy.newaxis (`None`) and integer or boolean arrays are valid indices",
     "output_type": "error",
     "traceback": [
      "\u001b[0;31m---------------------------------------------------------------------------\u001b[0m",
      "\u001b[0;31mIndexError\u001b[0m                                Traceback (most recent call last)",
      "Input \u001b[0;32mIn [131]\u001b[0m, in \u001b[0;36m<cell line: 1>\u001b[0;34m()\u001b[0m\n\u001b[0;32m----> 1\u001b[0m \u001b[43mclust\u001b[49m\u001b[43m(\u001b[49m\u001b[43m)\u001b[49m\u001b[38;5;241;43m.\u001b[39;49m\u001b[43mKmeans\u001b[49m\u001b[43m(\u001b[49m\u001b[43moutput\u001b[49m\u001b[38;5;241;43m=\u001b[39;49m\u001b[38;5;124;43m'\u001b[39;49m\u001b[38;5;124;43madd\u001b[39;49m\u001b[38;5;124;43m'\u001b[39;49m\u001b[43m)\u001b[49m\u001b[38;5;241m.\u001b[39mclassify()\n",
      "Input \u001b[0;32mIn [15]\u001b[0m, in \u001b[0;36mtimeit.<locals>.timed\u001b[0;34m(*args, **kw)\u001b[0m\n\u001b[1;32m      2\u001b[0m \u001b[38;5;28;01mdef\u001b[39;00m \u001b[38;5;21mtimed\u001b[39m(\u001b[38;5;241m*\u001b[39margs, \u001b[38;5;241m*\u001b[39m\u001b[38;5;241m*\u001b[39mkw):\n\u001b[1;32m      3\u001b[0m     ts \u001b[38;5;241m=\u001b[39m time\u001b[38;5;241m.\u001b[39mtime()\n\u001b[0;32m----> 4\u001b[0m     result \u001b[38;5;241m=\u001b[39m \u001b[43mmethod\u001b[49m\u001b[43m(\u001b[49m\u001b[38;5;241;43m*\u001b[39;49m\u001b[43margs\u001b[49m\u001b[43m,\u001b[49m\u001b[43m \u001b[49m\u001b[38;5;241;43m*\u001b[39;49m\u001b[38;5;241;43m*\u001b[39;49m\u001b[43mkw\u001b[49m\u001b[43m)\u001b[49m\n\u001b[1;32m      5\u001b[0m     te \u001b[38;5;241m=\u001b[39m time\u001b[38;5;241m.\u001b[39mtime()\n\u001b[1;32m      6\u001b[0m     \u001b[38;5;28;01mif\u001b[39;00m \u001b[38;5;124m'\u001b[39m\u001b[38;5;124mlog_time\u001b[39m\u001b[38;5;124m'\u001b[39m \u001b[38;5;129;01min\u001b[39;00m kw:\n",
      "Input \u001b[0;32mIn [128]\u001b[0m, in \u001b[0;36mclust.Kmeans\u001b[0;34m(self, output)\u001b[0m\n\u001b[1;32m     27\u001b[0m y_labels_test \u001b[38;5;241m=\u001b[39m clf\u001b[38;5;241m.\u001b[39mpredict(\u001b[38;5;28mself\u001b[39m\u001b[38;5;241m.\u001b[39mX_test)\n\u001b[1;32m     28\u001b[0m \u001b[38;5;28;01mif\u001b[39;00m output \u001b[38;5;241m==\u001b[39m \u001b[38;5;124m'\u001b[39m\u001b[38;5;124madd\u001b[39m\u001b[38;5;124m'\u001b[39m:\n\u001b[0;32m---> 29\u001b[0m     \u001b[38;5;28mself\u001b[39m\u001b[38;5;241m.\u001b[39mX_train[\u001b[38;5;124m'\u001b[39m\u001b[38;5;124mkm_clust\u001b[39m\u001b[38;5;124m'\u001b[39m] \u001b[38;5;241m=\u001b[39m y_labels_train\n\u001b[1;32m     30\u001b[0m     \u001b[38;5;28mself\u001b[39m\u001b[38;5;241m.\u001b[39mX_test[\u001b[38;5;124m'\u001b[39m\u001b[38;5;124mkm_clust\u001b[39m\u001b[38;5;124m'\u001b[39m] \u001b[38;5;241m=\u001b[39m y_labels_test\n\u001b[1;32m     31\u001b[0m \u001b[38;5;28;01melif\u001b[39;00m output \u001b[38;5;241m==\u001b[39m \u001b[38;5;124m'\u001b[39m\u001b[38;5;124mreplace\u001b[39m\u001b[38;5;124m'\u001b[39m:\n",
      "\u001b[0;31mIndexError\u001b[0m: only integers, slices (`:`), ellipsis (`...`), numpy.newaxis (`None`) and integer or boolean arrays are valid indices"
     ]
    }
   ],
   "source": [
    "clust().Kmeans(output='add').classify()"
   ]
  },
  {
   "cell_type": "code",
   "execution_count": null,
   "id": "db1903dd",
   "metadata": {},
   "outputs": [],
   "source": []
  }
 ],
 "metadata": {
  "kernelspec": {
   "display_name": "Python 3 (ipykernel)",
   "language": "python",
   "name": "python3"
  },
  "language_info": {
   "codemirror_mode": {
    "name": "ipython",
    "version": 3
   },
   "file_extension": ".py",
   "mimetype": "text/x-python",
   "name": "python",
   "nbconvert_exporter": "python",
   "pygments_lexer": "ipython3",
   "version": "3.9.12"
  }
 },
 "nbformat": 4,
 "nbformat_minor": 5
}
