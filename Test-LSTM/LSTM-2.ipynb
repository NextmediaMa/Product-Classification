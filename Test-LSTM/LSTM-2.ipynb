{
 "cells": [
  {
   "cell_type": "code",
   "execution_count": 1,
   "id": "3bca7a4c",
   "metadata": {},
   "outputs": [],
   "source": [
    "# This Python 3 environment comes with many helpful analytics libraries installed\n",
    "# It is defined by the kaggle/python docker image: https://github.com/kaggle/docker-python\n",
    "# For example, here's several helpful packages to load in \n",
    "\n",
    "import numpy as np # linear algebra\n",
    "import pandas as pd # data processing, CSV file I/O (e.g. pd.read_csv)\n",
    "from keras.layers import Dense, Embedding, LSTM, SpatialDropout1D\n",
    "from keras.models import Sequential\n",
    "from sklearn.feature_extraction.text import CountVectorizer\n",
    "from keras.preprocessing.text import Tokenizer\n",
    "from keras.utils import pad_sequences\n",
    "from sklearn.model_selection import train_test_split\n",
    "from keras.utils.np_utils import to_categorical\n",
    "from keras.callbacks import EarlyStopping"
   ]
  },
  {
   "cell_type": "code",
   "execution_count": 2,
   "id": "305dbd08",
   "metadata": {},
   "outputs": [],
   "source": [
    "df=pd.read_csv('products-data-minimised.csv')"
   ]
  },
  {
   "cell_type": "code",
   "execution_count": 3,
   "id": "9a75f052",
   "metadata": {},
   "outputs": [
    {
     "data": {
      "text/html": [
       "<div>\n",
       "<style scoped>\n",
       "    .dataframe tbody tr th:only-of-type {\n",
       "        vertical-align: middle;\n",
       "    }\n",
       "\n",
       "    .dataframe tbody tr th {\n",
       "        vertical-align: top;\n",
       "    }\n",
       "\n",
       "    .dataframe thead th {\n",
       "        text-align: right;\n",
       "    }\n",
       "</style>\n",
       "<table border=\"1\" class=\"dataframe\">\n",
       "  <thead>\n",
       "    <tr style=\"text-align: right;\">\n",
       "      <th></th>\n",
       "      <th>NameDescription</th>\n",
       "      <th>categories</th>\n",
       "    </tr>\n",
       "  </thead>\n",
       "  <tbody>\n",
       "    <tr>\n",
       "      <th>0</th>\n",
       "      <td>tungsten solder pick handle solder pick pickin...</td>\n",
       "      <td>Arts, Crafts &amp; Sewing</td>\n",
       "    </tr>\n",
       "    <tr>\n",
       "      <th>1</th>\n",
       "      <td>write right  screen protector sony tc screen n...</td>\n",
       "      <td>Cell Phones &amp; Accessories</td>\n",
       "    </tr>\n",
       "    <tr>\n",
       "      <th>2</th>\n",
       "      <td>casio men dbc databank  digital watch disconti...</td>\n",
       "      <td>Clothing, Shoes &amp; Jewelry</td>\n",
       "    </tr>\n",
       "    <tr>\n",
       "      <th>3</th>\n",
       "      <td>factoryreconditioned dewalt dwkr heavyduty  am...</td>\n",
       "      <td>Tools &amp; Home Improvement</td>\n",
       "    </tr>\n",
       "    <tr>\n",
       "      <th>4</th>\n",
       "      <td>energizer   light twoway light feature bright ...</td>\n",
       "      <td>Health &amp; Personal Care</td>\n",
       "    </tr>\n",
       "    <tr>\n",
       "      <th>...</th>\n",
       "      <td>...</td>\n",
       "      <td>...</td>\n",
       "    </tr>\n",
       "    <tr>\n",
       "      <th>44799</th>\n",
       "      <td>berkley trilene xl  yard fishing line clear  l...</td>\n",
       "      <td>Sports &amp; Outdoors</td>\n",
       "    </tr>\n",
       "    <tr>\n",
       "      <th>44800</th>\n",
       "      <td>badger airbrush company basic spray gun set ea...</td>\n",
       "      <td>Arts, Crafts &amp; Sewing</td>\n",
       "    </tr>\n",
       "    <tr>\n",
       "      <th>44801</th>\n",
       "      <td>fimo soft polymer clay  ounces tropical green ...</td>\n",
       "      <td>Arts, Crafts &amp; Sewing</td>\n",
       "    </tr>\n",
       "    <tr>\n",
       "      <th>44802</th>\n",
       "      <td>wilton icing color  oz rose petal icing color ...</td>\n",
       "      <td>Grocery &amp; Gourmet Food</td>\n",
       "    </tr>\n",
       "    <tr>\n",
       "      <th>44803</th>\n",
       "      <td>polyform sculpey iii polymer clay  oz french b...</td>\n",
       "      <td>Arts, Crafts &amp; Sewing</td>\n",
       "    </tr>\n",
       "  </tbody>\n",
       "</table>\n",
       "<p>44804 rows × 2 columns</p>\n",
       "</div>"
      ],
      "text/plain": [
       "                                         NameDescription  \\\n",
       "0      tungsten solder pick handle solder pick pickin...   \n",
       "1      write right  screen protector sony tc screen n...   \n",
       "2      casio men dbc databank  digital watch disconti...   \n",
       "3      factoryreconditioned dewalt dwkr heavyduty  am...   \n",
       "4      energizer   light twoway light feature bright ...   \n",
       "...                                                  ...   \n",
       "44799  berkley trilene xl  yard fishing line clear  l...   \n",
       "44800  badger airbrush company basic spray gun set ea...   \n",
       "44801  fimo soft polymer clay  ounces tropical green ...   \n",
       "44802  wilton icing color  oz rose petal icing color ...   \n",
       "44803  polyform sculpey iii polymer clay  oz french b...   \n",
       "\n",
       "                      categories  \n",
       "0          Arts, Crafts & Sewing  \n",
       "1      Cell Phones & Accessories  \n",
       "2      Clothing, Shoes & Jewelry  \n",
       "3       Tools & Home Improvement  \n",
       "4         Health & Personal Care  \n",
       "...                          ...  \n",
       "44799          Sports & Outdoors  \n",
       "44800      Arts, Crafts & Sewing  \n",
       "44801      Arts, Crafts & Sewing  \n",
       "44802     Grocery & Gourmet Food  \n",
       "44803      Arts, Crafts & Sewing  \n",
       "\n",
       "[44804 rows x 2 columns]"
      ]
     },
     "execution_count": 3,
     "metadata": {},
     "output_type": "execute_result"
    }
   ],
   "source": [
    "df"
   ]
  },
  {
   "cell_type": "code",
   "execution_count": 4,
   "id": "d7b4fd8b",
   "metadata": {},
   "outputs": [
    {
     "data": {
      "text/plain": [
       "(18,)"
      ]
     },
     "execution_count": 4,
     "metadata": {},
     "output_type": "execute_result"
    }
   ],
   "source": [
    "df['categories'].unique().shape"
   ]
  },
  {
   "cell_type": "code",
   "execution_count": 5,
   "id": "8cdd225b",
   "metadata": {},
   "outputs": [
    {
     "data": {
      "text/plain": [
       "Electronics                  4349\n",
       "Beauty                       4327\n",
       "Baby Products                4205\n",
       "Grocery & Gourmet Food       2196\n",
       "Toys & Games                 2192\n",
       "Cell Phones & Accessories    2185\n",
       "Tools & Home Improvement     2178\n",
       "Appliances                   2177\n",
       "Arts, Crafts & Sewing        2171\n",
       "Patio, Lawn & Garden         2163\n",
       "Office Products              2144\n",
       "Health & Personal Care       2141\n",
       "Sports & Outdoors            2120\n",
       "Musical Instruments          2093\n",
       "Clothing, Shoes & Jewelry    2087\n",
       "Pet Supplies                 2073\n",
       "Industrial & Scientific      2016\n",
       "Automotive                   1987\n",
       "Name: categories, dtype: int64"
      ]
     },
     "execution_count": 5,
     "metadata": {},
     "output_type": "execute_result"
    }
   ],
   "source": [
    "#M class has way less data than the orthers, thus the classes are unbalanced.\n",
    "df.categories.value_counts()"
   ]
  },
  {
   "cell_type": "code",
   "execution_count": 6,
   "id": "395fa853",
   "metadata": {},
   "outputs": [],
   "source": [
    "catList=df['categories'].unique().tolist()"
   ]
  },
  {
   "cell_type": "code",
   "execution_count": 7,
   "id": "7682765d",
   "metadata": {},
   "outputs": [
    {
     "data": {
      "text/plain": [
       "['Arts, Crafts & Sewing',\n",
       " 'Cell Phones & Accessories',\n",
       " 'Clothing, Shoes & Jewelry',\n",
       " 'Tools & Home Improvement',\n",
       " 'Health & Personal Care',\n",
       " 'Baby Products',\n",
       " 'Patio, Lawn & Garden',\n",
       " 'Beauty',\n",
       " 'Sports & Outdoors',\n",
       " 'Electronics',\n",
       " 'Automotive',\n",
       " 'Toys & Games',\n",
       " 'Office Products',\n",
       " 'Appliances',\n",
       " 'Musical Instruments',\n",
       " 'Industrial & Scientific',\n",
       " 'Grocery & Gourmet Food',\n",
       " 'Pet Supplies']"
      ]
     },
     "execution_count": 7,
     "metadata": {},
     "output_type": "execute_result"
    }
   ],
   "source": [
    "catList"
   ]
  },
  {
   "cell_type": "code",
   "execution_count": 24,
   "id": "d2b1550e",
   "metadata": {},
   "outputs": [
    {
     "data": {
      "text/plain": [
       "<function ndarray.tolist>"
      ]
     },
     "execution_count": 24,
     "metadata": {},
     "output_type": "execute_result"
    }
   ],
   "source": []
  },
  {
   "cell_type": "code",
   "execution_count": null,
   "id": "09994dbd",
   "metadata": {},
   "outputs": [],
   "source": []
  },
  {
   "cell_type": "code",
   "execution_count": null,
   "id": "6aaaefc2",
   "metadata": {},
   "outputs": [],
   "source": []
  },
  {
   "cell_type": "code",
   "execution_count": 8,
   "id": "80be92b1",
   "metadata": {},
   "outputs": [],
   "source": [
    "#I do aspire here to have balanced classes\n",
    "num_of_categories = 1987\n",
    "shuffledList=[None]*len(catList)\n",
    "    \n",
    "shuffled = df.reindex(np.random.permutation(df.index))\n",
    "for cat in catList:\n",
    "    shuffledList[catList.index(cat)] = shuffled[shuffled['categories'] == cat][:num_of_categories]\n",
    "\n",
    "#e = shuffled[shuffled['categories'] == 'e'][:num_of_categories]\n",
    "#b = shuffled[shuffled['categories'] == 'b'][:num_of_categories]\n",
    "#t = shuffled[shuffled['categories'] == 't'][:num_of_categories]\n",
    "#m = shuffled[shuffled['categories'] == 'm'][:num_of_categories]\n",
    "concated = pd.concat(shuffledList, ignore_index=True)\n",
    "#Shuffle the dataset\n",
    "concated = concated.reindex(np.random.permutation(concated.index))\n",
    "concated['LABEL'] = 0"
   ]
  },
  {
   "cell_type": "code",
   "execution_count": 9,
   "id": "459e24b6",
   "metadata": {},
   "outputs": [
    {
     "data": {
      "text/html": [
       "<div>\n",
       "<style scoped>\n",
       "    .dataframe tbody tr th:only-of-type {\n",
       "        vertical-align: middle;\n",
       "    }\n",
       "\n",
       "    .dataframe tbody tr th {\n",
       "        vertical-align: top;\n",
       "    }\n",
       "\n",
       "    .dataframe thead th {\n",
       "        text-align: right;\n",
       "    }\n",
       "</style>\n",
       "<table border=\"1\" class=\"dataframe\">\n",
       "  <thead>\n",
       "    <tr style=\"text-align: right;\">\n",
       "      <th></th>\n",
       "      <th>NameDescription</th>\n",
       "      <th>categories</th>\n",
       "      <th>LABEL</th>\n",
       "    </tr>\n",
       "  </thead>\n",
       "  <tbody>\n",
       "    <tr>\n",
       "      <th>32441</th>\n",
       "      <td>sprout house certified organic nongmo sproutin...</td>\n",
       "      <td>Grocery &amp; Gourmet Food</td>\n",
       "      <td>0</td>\n",
       "    </tr>\n",
       "    <tr>\n",
       "      <th>29469</th>\n",
       "      <td>american dj snapshot ii  watt variable speed s...</td>\n",
       "      <td>Musical Instruments</td>\n",
       "      <td>0</td>\n",
       "    </tr>\n",
       "    <tr>\n",
       "      <th>16971</th>\n",
       "      <td>winning move ttc predator deadliest efficient ...</td>\n",
       "      <td>Sports &amp; Outdoors</td>\n",
       "      <td>0</td>\n",
       "    </tr>\n",
       "    <tr>\n",
       "      <th>35381</th>\n",
       "      <td>zoo med screen cover door   gallon tank zoo me...</td>\n",
       "      <td>Pet Supplies</td>\n",
       "      <td>0</td>\n",
       "    </tr>\n",
       "    <tr>\n",
       "      <th>2933</th>\n",
       "      <td>lg vortex phone standard red led wall ac home ...</td>\n",
       "      <td>Cell Phones &amp; Accessories</td>\n",
       "      <td>0</td>\n",
       "    </tr>\n",
       "    <tr>\n",
       "      <th>...</th>\n",
       "      <td>...</td>\n",
       "      <td>...</td>\n",
       "      <td>...</td>\n",
       "    </tr>\n",
       "    <tr>\n",
       "      <th>27483</th>\n",
       "      <td>whirlpool  hose washer whirlpool  hose washer ...</td>\n",
       "      <td>Appliances</td>\n",
       "      <td>0</td>\n",
       "    </tr>\n",
       "    <tr>\n",
       "      <th>2970</th>\n",
       "      <td>motorola slvr l unlocked phone camera mpvideo ...</td>\n",
       "      <td>Cell Phones &amp; Accessories</td>\n",
       "      <td>0</td>\n",
       "    </tr>\n",
       "    <tr>\n",
       "      <th>23644</th>\n",
       "      <td>falling goblin edition celebrate th anniversar...</td>\n",
       "      <td>Toys &amp; Games</td>\n",
       "      <td>0</td>\n",
       "    </tr>\n",
       "    <tr>\n",
       "      <th>1419</th>\n",
       "      <td>oz heavy body acrylic color paint color magen...</td>\n",
       "      <td>Arts, Crafts &amp; Sewing</td>\n",
       "      <td>0</td>\n",
       "    </tr>\n",
       "    <tr>\n",
       "      <th>31096</th>\n",
       "      <td>dubro  way socket wrench xl since  broberg fam...</td>\n",
       "      <td>Industrial &amp; Scientific</td>\n",
       "      <td>0</td>\n",
       "    </tr>\n",
       "  </tbody>\n",
       "</table>\n",
       "<p>35766 rows × 3 columns</p>\n",
       "</div>"
      ],
      "text/plain": [
       "                                         NameDescription  \\\n",
       "32441  sprout house certified organic nongmo sproutin...   \n",
       "29469  american dj snapshot ii  watt variable speed s...   \n",
       "16971  winning move ttc predator deadliest efficient ...   \n",
       "35381  zoo med screen cover door   gallon tank zoo me...   \n",
       "2933   lg vortex phone standard red led wall ac home ...   \n",
       "...                                                  ...   \n",
       "27483  whirlpool  hose washer whirlpool  hose washer ...   \n",
       "2970   motorola slvr l unlocked phone camera mpvideo ...   \n",
       "23644  falling goblin edition celebrate th anniversar...   \n",
       "1419    oz heavy body acrylic color paint color magen...   \n",
       "31096  dubro  way socket wrench xl since  broberg fam...   \n",
       "\n",
       "                      categories  LABEL  \n",
       "32441     Grocery & Gourmet Food      0  \n",
       "29469        Musical Instruments      0  \n",
       "16971          Sports & Outdoors      0  \n",
       "35381               Pet Supplies      0  \n",
       "2933   Cell Phones & Accessories      0  \n",
       "...                          ...    ...  \n",
       "27483                 Appliances      0  \n",
       "2970   Cell Phones & Accessories      0  \n",
       "23644               Toys & Games      0  \n",
       "1419       Arts, Crafts & Sewing      0  \n",
       "31096    Industrial & Scientific      0  \n",
       "\n",
       "[35766 rows x 3 columns]"
      ]
     },
     "execution_count": 9,
     "metadata": {},
     "output_type": "execute_result"
    }
   ],
   "source": [
    "concated"
   ]
  },
  {
   "cell_type": "code",
   "execution_count": 10,
   "id": "132bfdad",
   "metadata": {},
   "outputs": [
    {
     "data": {
      "text/plain": [
       "Grocery & Gourmet Food       1987\n",
       "Musical Instruments          1987\n",
       "Office Products              1987\n",
       "Toys & Games                 1987\n",
       "Automotive                   1987\n",
       "Tools & Home Improvement     1987\n",
       "Arts, Crafts & Sewing        1987\n",
       "Appliances                   1987\n",
       "Health & Personal Care       1987\n",
       "Baby Products                1987\n",
       "Electronics                  1987\n",
       "Patio, Lawn & Garden         1987\n",
       "Clothing, Shoes & Jewelry    1987\n",
       "Industrial & Scientific      1987\n",
       "Cell Phones & Accessories    1987\n",
       "Pet Supplies                 1987\n",
       "Sports & Outdoors            1987\n",
       "Beauty                       1987\n",
       "Name: categories, dtype: int64"
      ]
     },
     "execution_count": 10,
     "metadata": {},
     "output_type": "execute_result"
    }
   ],
   "source": [
    "pd.DataFrame(concated).categories.value_counts()"
   ]
  },
  {
   "cell_type": "code",
   "execution_count": 11,
   "id": "ce096eed",
   "metadata": {},
   "outputs": [
    {
     "name": "stdout",
     "output_type": "stream",
     "text": [
      "32441    16\n",
      "29469    14\n",
      "16971     8\n",
      "35381    17\n",
      "2933      1\n",
      "29907    15\n",
      "5629      2\n",
      "12872     6\n",
      "19394     9\n",
      "5701      2\n",
      "Name: LABEL, dtype: int64\n",
      "[[0. 0. 0. 0. 0. 0. 0. 0. 0. 0. 0. 0. 0. 0. 0. 0. 1. 0.]\n",
      " [0. 0. 0. 0. 0. 0. 0. 0. 0. 0. 0. 0. 0. 0. 1. 0. 0. 0.]\n",
      " [0. 0. 0. 0. 0. 0. 0. 0. 1. 0. 0. 0. 0. 0. 0. 0. 0. 0.]\n",
      " [0. 0. 0. 0. 0. 0. 0. 0. 0. 0. 0. 0. 0. 0. 0. 0. 0. 1.]\n",
      " [0. 1. 0. 0. 0. 0. 0. 0. 0. 0. 0. 0. 0. 0. 0. 0. 0. 0.]\n",
      " [0. 0. 0. 0. 0. 0. 0. 0. 0. 0. 0. 0. 0. 0. 0. 1. 0. 0.]\n",
      " [0. 0. 1. 0. 0. 0. 0. 0. 0. 0. 0. 0. 0. 0. 0. 0. 0. 0.]\n",
      " [0. 0. 0. 0. 0. 0. 1. 0. 0. 0. 0. 0. 0. 0. 0. 0. 0. 0.]\n",
      " [0. 0. 0. 0. 0. 0. 0. 0. 0. 1. 0. 0. 0. 0. 0. 0. 0. 0.]\n",
      " [0. 0. 1. 0. 0. 0. 0. 0. 0. 0. 0. 0. 0. 0. 0. 0. 0. 0.]]\n"
     ]
    }
   ],
   "source": [
    "#One-hot encode the lab\n",
    "\n",
    "for cat in catList:\n",
    "    concated.loc[concated['categories'] == cat, 'LABEL'] = catList.index(cat)\n",
    "\n",
    "print(concated['LABEL'][:10])\n",
    "labels = to_categorical(concated['LABEL'], num_classes=18)\n",
    "print(labels[:10])\n",
    "if 'categories' in concated.keys():\n",
    "    concated.drop(['categories'], axis=1)"
   ]
  },
  {
   "cell_type": "code",
   "execution_count": null,
   "id": "486f4e91",
   "metadata": {},
   "outputs": [],
   "source": []
  },
  {
   "cell_type": "code",
   "execution_count": 12,
   "id": "59c788a7",
   "metadata": {},
   "outputs": [
    {
     "name": "stdout",
     "output_type": "stream",
     "text": [
      "Found 99207 unique tokens.\n"
     ]
    }
   ],
   "source": [
    "n_most_common_words = 8000\n",
    "max_len = 130\n",
    "tokenizer = Tokenizer(num_words=n_most_common_words, filters='!\"#$%&()*+,-./:;<=>?@[\\]^_`{|}~', lower=True)\n",
    "tokenizer.fit_on_texts(concated['NameDescription'].values)\n",
    "sequences = tokenizer.texts_to_sequences(concated['NameDescription'].values)\n",
    "word_index = tokenizer.word_index\n",
    "print('Found %s unique tokens.' % len(word_index))\n",
    "\n",
    "X = pad_sequences(sequences, maxlen=max_len)"
   ]
  },
  {
   "cell_type": "code",
   "execution_count": 13,
   "id": "ec6f9669",
   "metadata": {},
   "outputs": [],
   "source": [
    "X_train, X_test, y_train, y_test = train_test_split(X , labels, test_size=0.25, random_state=42)"
   ]
  },
  {
   "cell_type": "code",
   "execution_count": 16,
   "id": "3e6020aa",
   "metadata": {},
   "outputs": [
    {
     "data": {
      "text/plain": [
       "array([[0., 0., 0., 0., 0., 0., 0., 0., 0., 0., 0., 0., 0., 0., 0., 0.,\n",
       "        1., 0.],\n",
       "       [0., 0., 0., 0., 0., 0., 0., 0., 0., 0., 0., 0., 0., 0., 1., 0.,\n",
       "        0., 0.]], dtype=float32)"
      ]
     },
     "execution_count": 16,
     "metadata": {},
     "output_type": "execute_result"
    }
   ],
   "source": [
    "epochs = 25\n",
    "emb_dim = 128\n",
    "batch_size = 256\n",
    "labels[:2]"
   ]
  },
  {
   "cell_type": "code",
   "execution_count": 85,
   "id": "9eb7de04",
   "metadata": {},
   "outputs": [
    {
     "name": "stdout",
     "output_type": "stream",
     "text": [
      "((26824, 130), (26824, 18), (8942, 130), (8942, 18))\n",
      "Model: \"sequential_5\"\n",
      "_________________________________________________________________\n",
      " Layer (type)                Output Shape              Param #   \n",
      "=================================================================\n",
      " embedding_5 (Embedding)     (None, 130, 128)          1024000   \n",
      "                                                                 \n",
      " spatial_dropout1d_5 (Spatia  (None, 130, 128)         0         \n",
      " lDropout1D)                                                     \n",
      "                                                                 \n",
      " lstm_5 (LSTM)               (None, 64)                49408     \n",
      "                                                                 \n",
      " dense_5 (Dense)             (None, 18)                1170      \n",
      "                                                                 \n",
      "=================================================================\n",
      "Total params: 1,074,578\n",
      "Trainable params: 1,074,578\n",
      "Non-trainable params: 0\n",
      "_________________________________________________________________\n",
      "None\n",
      "Epoch 1/25\n",
      "84/84 [==============================] - 20s 220ms/step - loss: 2.8209 - acc: 0.1180 - val_loss: 2.5172 - val_acc: 0.1909\n",
      "Epoch 2/25\n",
      "84/84 [==============================] - 18s 218ms/step - loss: 2.3308 - acc: 0.2635 - val_loss: 1.9312 - val_acc: 0.3679\n",
      "Epoch 3/25\n",
      "84/84 [==============================] - 18s 209ms/step - loss: 1.9198 - acc: 0.3852 - val_loss: 1.6030 - val_acc: 0.4911\n",
      "Epoch 4/25\n",
      "84/84 [==============================] - 18s 214ms/step - loss: 1.6449 - acc: 0.4881 - val_loss: 1.3379 - val_acc: 0.5786\n",
      "Epoch 5/25\n",
      "84/84 [==============================] - 22s 258ms/step - loss: 1.4346 - acc: 0.5609 - val_loss: 1.1713 - val_acc: 0.6712\n",
      "Epoch 6/25\n",
      "84/84 [==============================] - 24s 288ms/step - loss: 1.2785 - acc: 0.6101 - val_loss: 1.0841 - val_acc: 0.7042\n",
      "Epoch 7/25\n",
      "84/84 [==============================] - 24s 284ms/step - loss: 1.1566 - acc: 0.6484 - val_loss: 1.0056 - val_acc: 0.7294\n",
      "Epoch 8/25\n",
      "84/84 [==============================] - 26s 305ms/step - loss: 1.0702 - acc: 0.6805 - val_loss: 0.9802 - val_acc: 0.7404\n",
      "Epoch 9/25\n",
      "84/84 [==============================] - 25s 296ms/step - loss: 1.0023 - acc: 0.6994 - val_loss: 0.9020 - val_acc: 0.7603\n",
      "Epoch 10/25\n",
      "84/84 [==============================] - 22s 261ms/step - loss: 0.9356 - acc: 0.7204 - val_loss: 0.8939 - val_acc: 0.7650\n",
      "Epoch 11/25\n",
      "84/84 [==============================] - 19s 225ms/step - loss: 0.8742 - acc: 0.7373 - val_loss: 0.8325 - val_acc: 0.7836\n",
      "Epoch 12/25\n",
      "84/84 [==============================] - 19s 230ms/step - loss: 0.8286 - acc: 0.7534 - val_loss: 0.8305 - val_acc: 0.7849\n",
      "Epoch 13/25\n",
      "84/84 [==============================] - 22s 262ms/step - loss: 0.7831 - acc: 0.7688 - val_loss: 0.8164 - val_acc: 0.7931\n",
      "Epoch 14/25\n",
      "84/84 [==============================] - 22s 259ms/step - loss: 0.7502 - acc: 0.7804 - val_loss: 0.8159 - val_acc: 0.7957\n",
      "Epoch 15/25\n",
      "84/84 [==============================] - 20s 235ms/step - loss: 0.7241 - acc: 0.7895 - val_loss: 0.8110 - val_acc: 0.7979\n",
      "Epoch 16/25\n",
      "84/84 [==============================] - 18s 220ms/step - loss: 0.6979 - acc: 0.7936 - val_loss: 0.7970 - val_acc: 0.8000\n",
      "Epoch 17/25\n",
      "84/84 [==============================] - 20s 242ms/step - loss: 0.6670 - acc: 0.8036 - val_loss: 0.7845 - val_acc: 0.8063\n",
      "Epoch 18/25\n",
      "84/84 [==============================] - 23s 279ms/step - loss: 0.6470 - acc: 0.8108 - val_loss: 0.7709 - val_acc: 0.8084\n",
      "Epoch 19/25\n",
      "84/84 [==============================] - 22s 257ms/step - loss: 0.6225 - acc: 0.8158 - val_loss: 0.7793 - val_acc: 0.8123\n",
      "Epoch 20/25\n",
      "84/84 [==============================] - 22s 264ms/step - loss: 0.5889 - acc: 0.8253 - val_loss: 0.7585 - val_acc: 0.8132\n",
      "Epoch 21/25\n",
      "84/84 [==============================] - 24s 280ms/step - loss: 0.5777 - acc: 0.8300 - val_loss: 0.7708 - val_acc: 0.8112\n",
      "Epoch 22/25\n",
      "84/84 [==============================] - 22s 261ms/step - loss: 0.5651 - acc: 0.8343 - val_loss: 0.7519 - val_acc: 0.8181\n",
      "Epoch 23/25\n",
      "84/84 [==============================] - 22s 263ms/step - loss: 0.5542 - acc: 0.8369 - val_loss: 0.7782 - val_acc: 0.8168\n",
      "Epoch 24/25\n",
      "84/84 [==============================] - 25s 296ms/step - loss: 0.5332 - acc: 0.8428 - val_loss: 0.7526 - val_acc: 0.8201\n",
      "Epoch 25/25\n",
      "84/84 [==============================] - 21s 254ms/step - loss: 0.5093 - acc: 0.8499 - val_loss: 0.7636 - val_acc: 0.8188\n"
     ]
    }
   ],
   "source": [
    "print((X_train.shape, y_train.shape, X_test.shape, y_test.shape))\n",
    "\n",
    "model = Sequential()\n",
    "model.add(Embedding(n_most_common_words, emb_dim, input_length=X.shape[1]))\n",
    "model.add(SpatialDropout1D(0.7))\n",
    "model.add(LSTM(64, dropout=0.7, recurrent_dropout=0.7))\n",
    "model.add(Dense(18, activation='softmax'))\n",
    "model.compile(optimizer='adam', loss='categorical_crossentropy', metrics=['acc'])\n",
    "print(model.summary())\n",
    "history = model.fit(X_train, y_train, epochs=epochs, batch_size=batch_size,validation_split=0.2,callbacks=[EarlyStopping(monitor='val_loss',patience=7, min_delta=0.0001)])\n"
   ]
  },
  {
   "cell_type": "code",
   "execution_count": 79,
   "id": "f2a031da",
   "metadata": {},
   "outputs": [
    {
     "name": "stdout",
     "output_type": "stream",
     "text": [
      "280/280 [==============================] - 4s 12ms/step - loss: 0.7929 - acc: 0.8018\n",
      "Test set\n",
      "  Loss: 0.793\n",
      "  Accuracy: 0.802\n"
     ]
    }
   ],
   "source": [
    "accr = model.evaluate(X_test,y_test)\n",
    "print('Test set\\n  Loss: {:0.3f}\\n  Accuracy: {:0.3f}'.format(accr[0],accr[1]))"
   ]
  },
  {
   "cell_type": "code",
   "execution_count": 80,
   "id": "d564161b",
   "metadata": {},
   "outputs": [
    {
     "data": {
      "image/png": "[encoded data removed]",
      "text/plain": [
       "<Figure size 432x288 with 1 Axes>"
      ]
     },
     "metadata": {
      "needs_background": "light"
     },
     "output_type": "display_data"
    },
    {
     "data": {
      "image/png": "[encoded data removed]",
      "text/plain": [
       "<Figure size 432x288 with 1 Axes>"
      ]
     },
     "metadata": {
      "needs_background": "light"
     },
     "output_type": "display_data"
    }
   ],
   "source": [
    "import matplotlib.pyplot as plt\n",
    "\n",
    "acc = history.history['acc']\n",
    "val_acc = history.history['val_acc']\n",
    "loss = history.history['loss']\n",
    "val_loss = history.history['val_loss']\n",
    "\n",
    "epochs = range(1, len(acc) + 1)\n",
    "\n",
    "plt.plot(epochs, acc, 'bo', label='Training acc')\n",
    "plt.plot(epochs, val_acc, 'b', label='Validation acc')\n",
    "plt.title('Training and validation accuracy')\n",
    "plt.legend()\n",
    "\n",
    "plt.figure()\n",
    "\n",
    "plt.plot(epochs, loss, 'bo', label='Training loss')\n",
    "plt.plot(epochs, val_loss, 'b', label='Validation loss')\n",
    "plt.title('Training and validation loss')\n",
    "plt.legend()\n",
    "\n",
    "plt.show()"
   ]
  },
  {
   "cell_type": "code",
   "execution_count": 82,
   "id": "42893ece",
   "metadata": {},
   "outputs": [
    {
     "name": "stdout",
     "output_type": "stream",
     "text": [
      "1/1 [==============================] - 0s 28ms/step\n",
      "[[0.05847999 0.04876118 0.03196033 0.04748031 0.05265407 0.04897525\n",
      "  0.04689274 0.02672727 0.07578155 0.08305548 0.03652868 0.08696165\n",
      "  0.06606714 0.02550324 0.04012725 0.09008887 0.09049667 0.04345827]] Grocery & Gourmet Food\n"
     ]
    }
   ],
   "source": [
    "txt = [\"Our Class is a Family\"]\n",
    "seq = tokenizer.texts_to_sequences(txt)\n",
    "padded = pad_sequences(seq, maxlen=max_len)\n",
    "pred = model.predict(padded)\n",
    "#labels = ['entertainment', 'bussiness', 'science/tech', 'health']\n",
    "print(pred, catList[np.argmax(pred)])"
   ]
  },
  {
   "cell_type": "code",
   "execution_count": 83,
   "id": "7992aaf6",
   "metadata": {},
   "outputs": [
    {
     "data": {
      "text/plain": [
       "['Arts, Crafts & Sewing',\n",
       " 'Cell Phones & Accessories',\n",
       " 'Clothing, Shoes & Jewelry',\n",
       " 'Tools & Home Improvement',\n",
       " 'Health & Personal Care',\n",
       " 'Baby Products',\n",
       " 'Patio, Lawn & Garden',\n",
       " 'Beauty',\n",
       " 'Sports & Outdoors',\n",
       " 'Electronics',\n",
       " 'Automotive',\n",
       " 'Toys & Games',\n",
       " 'Office Products',\n",
       " 'Appliances',\n",
       " 'Musical Instruments',\n",
       " 'Industrial & Scientific',\n",
       " 'Grocery & Gourmet Food',\n",
       " 'Pet Supplies']"
      ]
     },
     "execution_count": 83,
     "metadata": {},
     "output_type": "execute_result"
    }
   ],
   "source": [
    "catList"
   ]
  },
  {
   "cell_type": "code",
   "execution_count": null,
   "id": "5d5e6140",
   "metadata": {},
   "outputs": [],
   "source": []
  }
 ],
 "metadata": {
  "kernelspec": {
   "display_name": "Python 3 (ipykernel)",
   "language": "python",
   "name": "python3"
  },
  "language_info": {
   "codemirror_mode": {
    "name": "ipython",
    "version": 3
   },
   "file_extension": ".py",
   "mimetype": "text/x-python",
   "name": "python",
   "nbconvert_exporter": "python",
   "pygments_lexer": "ipython3",
   "version": "3.9.12"
  }
 },
 "nbformat": 4,
 "nbformat_minor": 5
}
