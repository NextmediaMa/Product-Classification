{
 "cells": [
  {
   "cell_type": "code",
   "execution_count": 1,
   "id": "ecd3b083",
   "metadata": {
    "id": "ecd3b083"
   },
   "outputs": [],
   "source": [
    "import warnings\n",
    "warnings.filterwarnings(\"ignore\")\n",
    "import pandas as pd\n",
    "import numpy as np"
   ]
  },
  {
   "cell_type": "code",
   "execution_count": 2,
   "id": "4040e4d2",
   "metadata": {
    "colab": {
     "base_uri": "https://localhost:8080/",
     "height": 424
    },
    "id": "4040e4d2",
    "outputId": "6d924dd0-7994-4b41-9353-0391956f737a"
   },
   "outputs": [
    {
     "data": {
      "text/html": [
       "\n",
       "  <div id=\"df-3b9ec7ff-d689-4e66-866a-daa77ecae674\">\n",
       "    <div class=\"colab-df-container\">\n",
       "      <div>\n",
       "<style scoped>\n",
       "    .dataframe tbody tr th:only-of-type {\n",
       "        vertical-align: middle;\n",
       "    }\n",
       "\n",
       "    .dataframe tbody tr th {\n",
       "        vertical-align: top;\n",
       "    }\n",
       "\n",
       "    .dataframe thead th {\n",
       "        text-align: right;\n",
       "    }\n",
       "</style>\n",
       "<table border=\"1\" class=\"dataframe\">\n",
       "  <thead>\n",
       "    <tr style=\"text-align: right;\">\n",
       "      <th></th>\n",
       "      <th>Title</th>\n",
       "      <th>category</th>\n",
       "    </tr>\n",
       "  </thead>\n",
       "  <tbody>\n",
       "    <tr>\n",
       "      <th>0</th>\n",
       "      <td>campbell natural light italianstyle vegetable ...</td>\n",
       "      <td>Grocery and Gourmet Food</td>\n",
       "    </tr>\n",
       "    <tr>\n",
       "      <th>1</th>\n",
       "      <td>hawaiian sun strawberry guava jam large</td>\n",
       "      <td>Grocery and Gourmet Food</td>\n",
       "    </tr>\n",
       "    <tr>\n",
       "      <th>2</th>\n",
       "      <td>beef flat iron natural angus choice xoz</td>\n",
       "      <td>Grocery and Gourmet Food</td>\n",
       "    </tr>\n",
       "    <tr>\n",
       "      <th>3</th>\n",
       "      <td>k coffee company sierra madre central american...</td>\n",
       "      <td>Grocery and Gourmet Food</td>\n",
       "    </tr>\n",
       "    <tr>\n",
       "      <th>4</th>\n",
       "      <td>cafix coffee substitute ounce per case</td>\n",
       "      <td>Grocery and Gourmet Food</td>\n",
       "    </tr>\n",
       "    <tr>\n",
       "      <th>...</th>\n",
       "      <td>...</td>\n",
       "      <td>...</td>\n",
       "    </tr>\n",
       "    <tr>\n",
       "      <th>79995</th>\n",
       "      <td>pleaser woman kissuvwsanw platform dress sandal</td>\n",
       "      <td>Clothing Shoes and Jewelry</td>\n",
       "    </tr>\n",
       "    <tr>\n",
       "      <th>79996</th>\n",
       "      <td>mordenmiss woman autumn casual dress travel ho...</td>\n",
       "      <td>Clothing Shoes and Jewelry</td>\n",
       "    </tr>\n",
       "    <tr>\n",
       "      <th>79997</th>\n",
       "      <td>friendshop sheer back slim clubwear cocktail h...</td>\n",
       "      <td>Clothing Shoes and Jewelry</td>\n",
       "    </tr>\n",
       "    <tr>\n",
       "      <th>79998</th>\n",
       "      <td>seya twotone modern jewelry box organizer</td>\n",
       "      <td>Clothing Shoes and Jewelry</td>\n",
       "    </tr>\n",
       "    <tr>\n",
       "      <th>79999</th>\n",
       "      <td>surgical steel pink double gem bottom ball bel...</td>\n",
       "      <td>Clothing Shoes and Jewelry</td>\n",
       "    </tr>\n",
       "  </tbody>\n",
       "</table>\n",
       "<p>80000 rows × 2 columns</p>\n",
       "</div>\n",
       "      <button class=\"colab-df-convert\" onclick=\"convertToInteractive('df-3b9ec7ff-d689-4e66-866a-daa77ecae674')\"\n",
       "              title=\"Convert this dataframe to an interactive table.\"\n",
       "              style=\"display:none;\">\n",
       "        \n",
       "  <svg xmlns=\"http://www.w3.org/2000/svg\" height=\"24px\"viewBox=\"0 0 24 24\"\n",
       "       width=\"24px\">\n",
       "    <path d=\"M0 0h24v24H0V0z\" fill=\"none\"/>\n",
       "    <path d=\"M18.56 5.44l.94 2.06.94-2.06 2.06-.94-2.06-.94-.94-2.06-.94 2.06-2.06.94zm-11 1L8.5 8.5l.94-2.06 2.06-.94-2.06-.94L8.5 2.5l-.94 2.06-2.06.94zm10 10l.94 2.06.94-2.06 2.06-.94-2.06-.94-.94-2.06-.94 2.06-2.06.94z\"/><path d=\"M17.41 7.96l-1.37-1.37c-.4-.4-.92-.59-1.43-.59-.52 0-1.04.2-1.43.59L10.3 9.45l-7.72 7.72c-.78.78-.78 2.05 0 2.83L4 21.41c.39.39.9.59 1.41.59.51 0 1.02-.2 1.41-.59l7.78-7.78 2.81-2.81c.8-.78.8-2.07 0-2.86zM5.41 20L4 18.59l7.72-7.72 1.47 1.35L5.41 20z\"/>\n",
       "  </svg>\n",
       "      </button>\n",
       "      \n",
       "  <style>\n",
       "    .colab-df-container {\n",
       "      display:flex;\n",
       "      flex-wrap:wrap;\n",
       "      gap: 12px;\n",
       "    }\n",
       "\n",
       "    .colab-df-convert {\n",
       "      background-color: #E8F0FE;\n",
       "      border: none;\n",
       "      border-radius: 50%;\n",
       "      cursor: pointer;\n",
       "      display: none;\n",
       "      fill: #1967D2;\n",
       "      height: 32px;\n",
       "      padding: 0 0 0 0;\n",
       "      width: 32px;\n",
       "    }\n",
       "\n",
       "    .colab-df-convert:hover {\n",
       "      background-color: #E2EBFA;\n",
       "      box-shadow: 0px 1px 2px rgba(60, 64, 67, 0.3), 0px 1px 3px 1px rgba(60, 64, 67, 0.15);\n",
       "      fill: #174EA6;\n",
       "    }\n",
       "\n",
       "    [theme=dark] .colab-df-convert {\n",
       "      background-color: #3B4455;\n",
       "      fill: #D2E3FC;\n",
       "    }\n",
       "\n",
       "    [theme=dark] .colab-df-convert:hover {\n",
       "      background-color: #434B5C;\n",
       "      box-shadow: 0px 1px 3px 1px rgba(0, 0, 0, 0.15);\n",
       "      filter: drop-shadow(0px 1px 2px rgba(0, 0, 0, 0.3));\n",
       "      fill: #FFFFFF;\n",
       "    }\n",
       "  </style>\n",
       "\n",
       "      <script>\n",
       "        const buttonEl =\n",
       "          document.querySelector('#df-3b9ec7ff-d689-4e66-866a-daa77ecae674 button.colab-df-convert');\n",
       "        buttonEl.style.display =\n",
       "          google.colab.kernel.accessAllowed ? 'block' : 'none';\n",
       "\n",
       "        async function convertToInteractive(key) {\n",
       "          const element = document.querySelector('#df-3b9ec7ff-d689-4e66-866a-daa77ecae674');\n",
       "          const dataTable =\n",
       "            await google.colab.kernel.invokeFunction('convertToInteractive',\n",
       "                                                     [key], {});\n",
       "          if (!dataTable) return;\n",
       "\n",
       "          const docLinkHtml = 'Like what you see? Visit the ' +\n",
       "            '<a target=\"_blank\" href=https://colab.research.google.com/notebooks/data_table.ipynb>data table notebook</a>'\n",
       "            + ' to learn more about interactive tables.';\n",
       "          element.innerHTML = '';\n",
       "          dataTable['output_type'] = 'display_data';\n",
       "          await google.colab.output.renderOutput(dataTable, element);\n",
       "          const docLink = document.createElement('div');\n",
       "          docLink.innerHTML = docLinkHtml;\n",
       "          element.appendChild(docLink);\n",
       "        }\n",
       "      </script>\n",
       "    </div>\n",
       "  </div>\n",
       "  "
      ],
      "text/plain": [
       "                                                   Title  \\\n",
       "0      campbell natural light italianstyle vegetable ...   \n",
       "1                hawaiian sun strawberry guava jam large   \n",
       "2                beef flat iron natural angus choice xoz   \n",
       "3      k coffee company sierra madre central american...   \n",
       "4                 cafix coffee substitute ounce per case   \n",
       "...                                                  ...   \n",
       "79995    pleaser woman kissuvwsanw platform dress sandal   \n",
       "79996  mordenmiss woman autumn casual dress travel ho...   \n",
       "79997  friendshop sheer back slim clubwear cocktail h...   \n",
       "79998          seya twotone modern jewelry box organizer   \n",
       "79999  surgical steel pink double gem bottom ball bel...   \n",
       "\n",
       "                         category  \n",
       "0        Grocery and Gourmet Food  \n",
       "1        Grocery and Gourmet Food  \n",
       "2        Grocery and Gourmet Food  \n",
       "3        Grocery and Gourmet Food  \n",
       "4        Grocery and Gourmet Food  \n",
       "...                           ...  \n",
       "79995  Clothing Shoes and Jewelry  \n",
       "79996  Clothing Shoes and Jewelry  \n",
       "79997  Clothing Shoes and Jewelry  \n",
       "79998  Clothing Shoes and Jewelry  \n",
       "79999  Clothing Shoes and Jewelry  \n",
       "\n",
       "[80000 rows x 2 columns]"
      ]
     },
     "execution_count": 2,
     "metadata": {},
     "output_type": "execute_result"
    }
   ],
   "source": [
    "products_data=pd.read_csv('Preprocessed_data.csv')\n",
    "products_data"
   ]
  },
  {
   "cell_type": "code",
   "execution_count": 3,
   "id": "fa4a617c",
   "metadata": {
    "colab": {
     "base_uri": "https://localhost:8080/",
     "height": 424
    },
    "id": "fa4a617c",
    "outputId": "25cf3d2a-de66-4b98-f257-1644d1936064"
   },
   "outputs": [
    {
     "data": {
      "text/html": [
       "\n",
       "  <div id=\"df-ecd12d10-376b-465d-918c-9581cbea907d\">\n",
       "    <div class=\"colab-df-container\">\n",
       "      <div>\n",
       "<style scoped>\n",
       "    .dataframe tbody tr th:only-of-type {\n",
       "        vertical-align: middle;\n",
       "    }\n",
       "\n",
       "    .dataframe tbody tr th {\n",
       "        vertical-align: top;\n",
       "    }\n",
       "\n",
       "    .dataframe thead th {\n",
       "        text-align: right;\n",
       "    }\n",
       "</style>\n",
       "<table border=\"1\" class=\"dataframe\">\n",
       "  <thead>\n",
       "    <tr style=\"text-align: right;\">\n",
       "      <th></th>\n",
       "      <th>index</th>\n",
       "      <th>Title</th>\n",
       "      <th>category</th>\n",
       "    </tr>\n",
       "  </thead>\n",
       "  <tbody>\n",
       "    <tr>\n",
       "      <th>0</th>\n",
       "      <td>27274</td>\n",
       "      <td>head case design sun wood art protective snapo...</td>\n",
       "      <td>Electronics</td>\n",
       "    </tr>\n",
       "    <tr>\n",
       "      <th>1</th>\n",
       "      <td>62557</td>\n",
       "      <td>ich esse gerne obst und gemuse love eat fruit ...</td>\n",
       "      <td>Books</td>\n",
       "    </tr>\n",
       "    <tr>\n",
       "      <th>2</th>\n",
       "      <td>71058</td>\n",
       "      <td>kung fu adult youth cotton ringer tshirt color</td>\n",
       "      <td>Clothing Shoes and Jewelry</td>\n",
       "    </tr>\n",
       "    <tr>\n",
       "      <th>3</th>\n",
       "      <td>63586</td>\n",
       "      <td>lovis corinth california study history art</td>\n",
       "      <td>Books</td>\n",
       "    </tr>\n",
       "    <tr>\n",
       "      <th>4</th>\n",
       "      <td>53967</td>\n",
       "      <td>sequin beaded trim yard osb</td>\n",
       "      <td>Arts Crafts and Sewing</td>\n",
       "    </tr>\n",
       "    <tr>\n",
       "      <th>...</th>\n",
       "      <td>...</td>\n",
       "      <td>...</td>\n",
       "      <td>...</td>\n",
       "    </tr>\n",
       "    <tr>\n",
       "      <th>79995</th>\n",
       "      <td>12896</td>\n",
       "      <td>ultra pet clumping crystal cat litter white cr...</td>\n",
       "      <td>Others</td>\n",
       "    </tr>\n",
       "    <tr>\n",
       "      <th>79996</th>\n",
       "      <td>62012</td>\n",
       "      <td>technical bulletin dianetics scientology vol vi</td>\n",
       "      <td>Books</td>\n",
       "    </tr>\n",
       "    <tr>\n",
       "      <th>79997</th>\n",
       "      <td>13001</td>\n",
       "      <td>willow tree musical courage</td>\n",
       "      <td>Others</td>\n",
       "    </tr>\n",
       "    <tr>\n",
       "      <th>79998</th>\n",
       "      <td>43872</td>\n",
       "      <td>mini furniture flower sofa couch cushion kit s...</td>\n",
       "      <td>Beauty</td>\n",
       "    </tr>\n",
       "    <tr>\n",
       "      <th>79999</th>\n",
       "      <td>22755</td>\n",
       "      <td>hde black camera case sony cybershot h w wx hx...</td>\n",
       "      <td>Electronics</td>\n",
       "    </tr>\n",
       "  </tbody>\n",
       "</table>\n",
       "<p>80000 rows × 3 columns</p>\n",
       "</div>\n",
       "      <button class=\"colab-df-convert\" onclick=\"convertToInteractive('df-ecd12d10-376b-465d-918c-9581cbea907d')\"\n",
       "              title=\"Convert this dataframe to an interactive table.\"\n",
       "              style=\"display:none;\">\n",
       "        \n",
       "  <svg xmlns=\"http://www.w3.org/2000/svg\" height=\"24px\"viewBox=\"0 0 24 24\"\n",
       "       width=\"24px\">\n",
       "    <path d=\"M0 0h24v24H0V0z\" fill=\"none\"/>\n",
       "    <path d=\"M18.56 5.44l.94 2.06.94-2.06 2.06-.94-2.06-.94-.94-2.06-.94 2.06-2.06.94zm-11 1L8.5 8.5l.94-2.06 2.06-.94-2.06-.94L8.5 2.5l-.94 2.06-2.06.94zm10 10l.94 2.06.94-2.06 2.06-.94-2.06-.94-.94-2.06-.94 2.06-2.06.94z\"/><path d=\"M17.41 7.96l-1.37-1.37c-.4-.4-.92-.59-1.43-.59-.52 0-1.04.2-1.43.59L10.3 9.45l-7.72 7.72c-.78.78-.78 2.05 0 2.83L4 21.41c.39.39.9.59 1.41.59.51 0 1.02-.2 1.41-.59l7.78-7.78 2.81-2.81c.8-.78.8-2.07 0-2.86zM5.41 20L4 18.59l7.72-7.72 1.47 1.35L5.41 20z\"/>\n",
       "  </svg>\n",
       "      </button>\n",
       "      \n",
       "  <style>\n",
       "    .colab-df-container {\n",
       "      display:flex;\n",
       "      flex-wrap:wrap;\n",
       "      gap: 12px;\n",
       "    }\n",
       "\n",
       "    .colab-df-convert {\n",
       "      background-color: #E8F0FE;\n",
       "      border: none;\n",
       "      border-radius: 50%;\n",
       "      cursor: pointer;\n",
       "      display: none;\n",
       "      fill: #1967D2;\n",
       "      height: 32px;\n",
       "      padding: 0 0 0 0;\n",
       "      width: 32px;\n",
       "    }\n",
       "\n",
       "    .colab-df-convert:hover {\n",
       "      background-color: #E2EBFA;\n",
       "      box-shadow: 0px 1px 2px rgba(60, 64, 67, 0.3), 0px 1px 3px 1px rgba(60, 64, 67, 0.15);\n",
       "      fill: #174EA6;\n",
       "    }\n",
       "\n",
       "    [theme=dark] .colab-df-convert {\n",
       "      background-color: #3B4455;\n",
       "      fill: #D2E3FC;\n",
       "    }\n",
       "\n",
       "    [theme=dark] .colab-df-convert:hover {\n",
       "      background-color: #434B5C;\n",
       "      box-shadow: 0px 1px 3px 1px rgba(0, 0, 0, 0.15);\n",
       "      filter: drop-shadow(0px 1px 2px rgba(0, 0, 0, 0.3));\n",
       "      fill: #FFFFFF;\n",
       "    }\n",
       "  </style>\n",
       "\n",
       "      <script>\n",
       "        const buttonEl =\n",
       "          document.querySelector('#df-ecd12d10-376b-465d-918c-9581cbea907d button.colab-df-convert');\n",
       "        buttonEl.style.display =\n",
       "          google.colab.kernel.accessAllowed ? 'block' : 'none';\n",
       "\n",
       "        async function convertToInteractive(key) {\n",
       "          const element = document.querySelector('#df-ecd12d10-376b-465d-918c-9581cbea907d');\n",
       "          const dataTable =\n",
       "            await google.colab.kernel.invokeFunction('convertToInteractive',\n",
       "                                                     [key], {});\n",
       "          if (!dataTable) return;\n",
       "\n",
       "          const docLinkHtml = 'Like what you see? Visit the ' +\n",
       "            '<a target=\"_blank\" href=https://colab.research.google.com/notebooks/data_table.ipynb>data table notebook</a>'\n",
       "            + ' to learn more about interactive tables.';\n",
       "          element.innerHTML = '';\n",
       "          dataTable['output_type'] = 'display_data';\n",
       "          await google.colab.output.renderOutput(dataTable, element);\n",
       "          const docLink = document.createElement('div');\n",
       "          docLink.innerHTML = docLinkHtml;\n",
       "          element.appendChild(docLink);\n",
       "        }\n",
       "      </script>\n",
       "    </div>\n",
       "  </div>\n",
       "  "
      ],
      "text/plain": [
       "       index                                              Title  \\\n",
       "0      27274  head case design sun wood art protective snapo...   \n",
       "1      62557  ich esse gerne obst und gemuse love eat fruit ...   \n",
       "2      71058     kung fu adult youth cotton ringer tshirt color   \n",
       "3      63586         lovis corinth california study history art   \n",
       "4      53967                        sequin beaded trim yard osb   \n",
       "...      ...                                                ...   \n",
       "79995  12896  ultra pet clumping crystal cat litter white cr...   \n",
       "79996  62012    technical bulletin dianetics scientology vol vi   \n",
       "79997  13001                        willow tree musical courage   \n",
       "79998  43872  mini furniture flower sofa couch cushion kit s...   \n",
       "79999  22755  hde black camera case sony cybershot h w wx hx...   \n",
       "\n",
       "                         category  \n",
       "0                     Electronics  \n",
       "1                           Books  \n",
       "2      Clothing Shoes and Jewelry  \n",
       "3                           Books  \n",
       "4          Arts Crafts and Sewing  \n",
       "...                           ...  \n",
       "79995                      Others  \n",
       "79996                       Books  \n",
       "79997                      Others  \n",
       "79998                      Beauty  \n",
       "79999                 Electronics  \n",
       "\n",
       "[80000 rows x 3 columns]"
      ]
     },
     "execution_count": 3,
     "metadata": {},
     "output_type": "execute_result"
    }
   ],
   "source": [
    "# Shuffling a Pandas dataframe with .shuffle()\n",
    "products_data = products_data.sample(frac=1).reset_index()\n",
    "products_data"
   ]
  },
  {
   "cell_type": "markdown",
   "id": "e36b03a6",
   "metadata": {
    "id": "e36b03a6"
   },
   "source": [
    "# Rendre label numerique"
   ]
  },
  {
   "cell_type": "code",
   "execution_count": 5,
   "id": "tcbhC19EjjCG",
   "metadata": {
    "colab": {
     "base_uri": "https://localhost:8080/"
    },
    "id": "tcbhC19EjjCG",
    "outputId": "0d24157e-e332-49d8-9ee7-28fe5135b321"
   },
   "outputs": [
    {
     "data": {
      "text/plain": [
       "0        0\n",
       "1        1\n",
       "2        2\n",
       "3        1\n",
       "4        3\n",
       "        ..\n",
       "79995    4\n",
       "79996    1\n",
       "79997    4\n",
       "79998    7\n",
       "79999    0\n",
       "Length: 80000, dtype: int64"
      ]
     },
     "execution_count": 5,
     "metadata": {},
     "output_type": "execute_result"
    }
   ],
   "source": [
    "l=[]\n",
    "for text in products_data[\"category\"].unique():\n",
    "    l.append(text)\n",
    "\n",
    "\n",
    "y = []\n",
    "\n",
    "for text in products_data[\"category\"]:\n",
    "    for j in range(8):\n",
    "        if text==l[j]:\n",
    "            y.append(j)\n",
    "    \n",
    "y = np.asarray(y)\n",
    "\n",
    "yy = pd.Series(y)\n",
    "yy"
   ]
  },
  {
   "cell_type": "markdown",
   "id": "01bd1b67",
   "metadata": {
    "id": "01bd1b67"
   },
   "source": [
    "# Extracting Features From TextData using TF-IDF"
   ]
  },
  {
   "cell_type": "code",
   "execution_count": 6,
   "id": "31e8489b",
   "metadata": {
    "id": "31e8489b"
   },
   "outputs": [],
   "source": [
    "from sklearn import feature_extraction, model_selection, naive_bayes, pipeline, manifold, preprocessing"
   ]
  },
  {
   "cell_type": "code",
   "execution_count": 7,
   "id": "33fd39ad",
   "metadata": {
    "id": "33fd39ad"
   },
   "outputs": [],
   "source": [
    "textList=[]\n",
    "for text in products_data[\"Title\"]:\n",
    "    textList.append(text)"
   ]
  },
  {
   "cell_type": "code",
   "execution_count": 8,
   "id": "0d4080fe",
   "metadata": {
    "id": "0d4080fe"
   },
   "outputs": [],
   "source": [
    "from sklearn.feature_extraction.text import TfidfVectorizer\n",
    "from sklearn.model_selection import train_test_split\n",
    "\n",
    "#preparing x for ANN\n",
    "tfidv = TfidfVectorizer()\n",
    "x = tfidv.fit_transform(textList)\n",
    "x.sort_indices()\n",
    "\n",
    "\n",
    "x_train,x_test,y_train,y_test = train_test_split(x,y,test_size=0.33,random_state=42)"
   ]
  },
  {
   "cell_type": "markdown",
   "id": "691d92b7",
   "metadata": {
    "id": "691d92b7"
   },
   "source": [
    "# Linear Support Vector Classification"
   ]
  },
  {
   "cell_type": "code",
   "execution_count": 9,
   "id": "51f76cf1",
   "metadata": {
    "id": "51f76cf1"
   },
   "outputs": [],
   "source": [
    "from keras.models import Sequential\n",
    "from keras.layers import Dense, Dropout, Activation\n",
    "from keras.layers import Embedding\n",
    "from keras.layers import Conv1D, GlobalMaxPooling1D"
   ]
  },
  {
   "cell_type": "code",
   "execution_count": 10,
   "id": "600058ef",
   "metadata": {
    "colab": {
     "base_uri": "https://localhost:8080/"
    },
    "id": "600058ef",
    "outputId": "6e6db86e-0f03-4ef3-eab6-071cf29e4fe5"
   },
   "outputs": [
    {
     "name": "stdout",
     "output_type": "stream",
     "text": [
      "RandomForestClassifier\n",
      "LinearSVC\n",
      "MultinomialNB\n",
      "LogisticRegression\n",
      "model_name\n"
     ]
    }
   ],
   "source": [
    "from sklearn.linear_model import LogisticRegression\n",
    "from sklearn.ensemble import RandomForestClassifier\n",
    "from sklearn.svm import LinearSVC\n",
    "from sklearn.naive_bayes import MultinomialNB\n",
    "from sklearn.model_selection import cross_val_score\n",
    "\n",
    "# Test of 4 models\n",
    "models = [\n",
    "    RandomForestClassifier(n_estimators=200, max_depth=3, random_state=0),\n",
    "    LinearSVC(),\n",
    "    MultinomialNB(),\n",
    "    LogisticRegression(random_state=0),\n",
    "]\n",
    "CV = 5\n",
    "cv_df = pd.DataFrame(index=range(CV * len(models)))\n",
    "entries = []\n",
    "for model in models:\n",
    "    model_name = model.__class__.__name__\n",
    "    print(model_name)\n",
    "    accuracies = cross_val_score(model, x, y, scoring='accuracy', cv=CV)\n",
    "    for fold_idx, accuracy in enumerate(accuracies):\n",
    "        entries.append((model_name, fold_idx, accuracy))\n",
    "print('model_name')\n",
    "cv_df = pd.DataFrame(entries, columns=['model_name', 'fold_idx', 'accuracy'])"
   ]
  },
  {
   "cell_type": "code",
   "execution_count": 11,
   "id": "358167e1",
   "metadata": {
    "colab": {
     "base_uri": "https://localhost:8080/"
    },
    "id": "358167e1",
    "outputId": "1b6c99c0-ad86-4ba6-d6ae-8f2eb6585729"
   },
   "outputs": [
    {
     "data": {
      "text/plain": [
       "model_name\n",
       "LinearSVC                 0.895575\n",
       "LogisticRegression        0.869275\n",
       "MultinomialNB             0.856875\n",
       "RandomForestClassifier    0.649850\n",
       "Name: accuracy, dtype: float64"
      ]
     },
     "execution_count": 11,
     "metadata": {},
     "output_type": "execute_result"
    }
   ],
   "source": [
    "cv_df.groupby('model_name').accuracy.mean()"
   ]
  },
  {
   "cell_type": "code",
   "execution_count": 12,
   "id": "147a40cc",
   "metadata": {
    "id": "147a40cc"
   },
   "outputs": [],
   "source": [
    "# test of Linear svc only"
   ]
  },
  {
   "cell_type": "code",
   "execution_count": 19,
   "id": "7867b188",
   "metadata": {
    "id": "7867b188"
   },
   "outputs": [],
   "source": [
    "linear_svc = LinearSVC()\n",
    "classifier = linear_svc.fit(x_train,y_train)"
   ]
  },
  {
   "cell_type": "code",
   "execution_count": 20,
   "id": "236c788c",
   "metadata": {
    "id": "236c788c"
   },
   "outputs": [],
   "source": [
    "y_pred = classifier.predict(x_test)"
   ]
  },
  {
   "cell_type": "code",
   "execution_count": 21,
   "id": "f1b363d7",
   "metadata": {
    "colab": {
     "base_uri": "https://localhost:8080/"
    },
    "id": "f1b363d7",
    "outputId": "cae21092-0e2e-4028-8205-cbfa06728e87"
   },
   "outputs": [
    {
     "name": "stdout",
     "output_type": "stream",
     "text": [
      "Number of features is 59088\n",
      "Test set accuracy of SVC Classifier is 88.55\n"
     ]
    }
   ],
   "source": [
    "from sklearn.metrics import accuracy_score\n",
    "print(\"Number of features is\", x_train.shape[1])\n",
    "print(\"Test set accuracy of SVC Classifier is {}\".format(round(accuracy_score(y_pred,y_test)*100,2)))"
   ]
  },
  {
   "cell_type": "code",
   "execution_count": 22,
   "id": "fcde47d3",
   "metadata": {
    "id": "fcde47d3"
   },
   "outputs": [],
   "source": [
    "import pickle\n",
    "pickle.dump(classifier, open('svc-totalF-88.55.pkl', 'wb'))"
   ]
  },
  {
   "cell_type": "code",
   "execution_count": 25,
   "id": "3c097e07",
   "metadata": {
    "colab": {
     "base_uri": "https://localhost:8080/"
    },
    "id": "3c097e07",
    "outputId": "ffa989a3-b02a-41a2-e07d-d4a07bb49aab"
   },
   "outputs": [
    {
     "name": "stdout",
     "output_type": "stream",
     "text": [
      "0.885530303030303\n"
     ]
    }
   ],
   "source": [
    "loaded_model = pickle.load(open('svc-totalF-88.55.pkl', 'rb'))\n",
    "result = loaded_model.score(x_test, y_test)\n",
    "print(result)"
   ]
  },
  {
   "cell_type": "markdown",
   "id": "MV8C1s2dqzGn",
   "metadata": {
    "id": "MV8C1s2dqzGn"
   },
   "source": [
    "# After feature selection"
   ]
  },
  {
   "cell_type": "code",
   "execution_count": 26,
   "id": "by7wb5HfrNOa",
   "metadata": {
    "colab": {
     "base_uri": "https://localhost:8080/"
    },
    "id": "by7wb5HfrNOa",
    "outputId": "ccb77ad5-8a53-42a0-da49-8a297b9a5a3f"
   },
   "outputs": [
    {
     "name": "stdout",
     "output_type": "stream",
     "text": [
      "Percentage of features is: 5\n",
      "Number of features is: 2955\n",
      "Accuracy for the 2955 best features is: 83.62%\n",
      "Percentage of features is: 10\n",
      "Number of features is: 5908\n",
      "Accuracy for the 5908 best features is: 85.61%\n",
      "Percentage of features is: 15\n",
      "Number of features is: 8864\n",
      "Accuracy for the 8864 best features is: 86.66%\n",
      "Percentage of features is: 20\n",
      "Number of features is: 11818\n",
      "Accuracy for the 11818 best features is: 87.12%\n",
      "Percentage of features is: 25\n",
      "Number of features is: 14772\n",
      "Accuracy for the 14772 best features is: 87.55%\n",
      "Percentage of features is: 30\n",
      "Number of features is: 17727\n",
      "Accuracy for the 17727 best features is: 87.81%\n",
      "Percentage of features is: 35\n",
      "Number of features is: 20681\n",
      "Accuracy for the 20681 best features is: 87.9%\n",
      "Percentage of features is: 40\n",
      "Number of features is: 23635\n",
      "Accuracy for the 23635 best features is: 88.05%\n",
      "Percentage of features is: 45\n",
      "Number of features is: 26589\n",
      "Accuracy for the 26589 best features is: 88.16%\n",
      "Percentage of features is: 50\n",
      "Number of features is: 29544\n",
      "Accuracy for the 29544 best features is: 88.25%\n",
      "Percentage of features is: 55\n",
      "Number of features is: 32498\n",
      "Accuracy for the 32498 best features is: 88.26%\n",
      "Percentage of features is: 60\n",
      "Number of features is: 35453\n",
      "Accuracy for the 35453 best features is: 88.3%\n",
      "Percentage of features is: 65\n",
      "Number of features is: 38407\n",
      "Accuracy for the 38407 best features is: 88.38%\n",
      "Percentage of features is: 70\n",
      "Number of features is: 41361\n",
      "Accuracy for the 41361 best features is: 88.43%\n",
      "Percentage of features is: 75\n",
      "Number of features is: 44316\n",
      "Accuracy for the 44316 best features is: 88.49%\n",
      "Percentage of features is: 80\n",
      "Number of features is: 47270\n",
      "Accuracy for the 47270 best features is: 88.53%\n",
      "Percentage of features is: 85\n",
      "Number of features is: 50224\n",
      "Accuracy for the 50224 best features is: 88.55%\n",
      "Percentage of features is: 90\n",
      "Number of features is: 53179\n",
      "Accuracy for the 53179 best features is: 88.55%\n",
      "Percentage of features is: 95\n",
      "Number of features is: 56133\n",
      "Accuracy for the 56133 best features is: 88.55%\n",
      "Percentage of features is: 100\n",
      "Number of features is: 59088\n",
      "Accuracy for the 59088 best features is: 88.55%\n"
     ]
    }
   ],
   "source": [
    "from sklearn.feature_selection import SelectPercentile, chi2\n",
    "from sklearn.metrics import accuracy_score\n",
    "import pickle\n",
    "from sklearn.neural_network import MLPClassifier\n",
    "\n",
    "\n",
    "def select_features_CH2(p,x_train, y_train, x_test):\n",
    "    CH2 = SelectPercentile(chi2, percentile=p)\n",
    "    CH2.fit(x_train, y_train)\n",
    "    x_train_CH2 = CH2.transform(x_train)\n",
    "    x_test_CH2 = CH2.transform(x_test)\n",
    "    return x_train_CH2, x_test_CH2, CH2\n",
    "\n",
    "accuracies = {}\n",
    "\n",
    "for p in range(5, 105, 5):\n",
    "    print(\"Percentage of features is:\", p)\n",
    "    x_train_CH2, x_test_CH2, CH2 = select_features_CH2(p,x_train, y_train, x_test)\n",
    "    n = x_train_CH2.shape[1]\n",
    "    print(\"Number of features is:\", n)\n",
    "    classifier = LinearSVC().fit(x_train_CH2,y_train)\n",
    "    classifier.fit(x_train_CH2, y_train)\n",
    "    y_pred = classifier.predict(x_test_CH2)\n",
    "    accuracy = round(accuracy_score(y_pred,y_test)*100,2)\n",
    "    print(\"Accuracy for the {} best features is: {}%\".format(n, accuracy))\n",
    "    ss = \"LSVC_p-\"+str(p)+\"_n-\"+str(n)+\"_acc-\"+str(accuracy)+\".pickle\"\n",
    "    pickle.dump(classifier, open(ss, \"wb\"))\n",
    "    accuracies[p] = [n, accuracy, ss]"
   ]
  },
  {
   "cell_type": "code",
   "execution_count": 28,
   "id": "3ef77cc8",
   "metadata": {
    "colab": {
     "base_uri": "https://localhost:8080/"
    },
    "id": "3ef77cc8",
    "outputId": "ace950b6-26cf-4467-af48-fbd1e8c59443"
   },
   "outputs": [
    {
     "name": "stdout",
     "output_type": "stream",
     "text": [
      "The best accuracy after feature selection is 88.55\n"
     ]
    }
   ],
   "source": [
    "# Load model already saved\n",
    "import pickle\n",
    "\n",
    "classifier = pickle.load(open(\"LSVC_p-85_n-50224_acc-88.55.pickle\",\"rb\"))\n",
    "CH2 = SelectPercentile(chi2, percentile=85)\n",
    "CH2.fit(x_train, y_train)\n",
    "x_test_CH2 = CH2.transform(x_test)\n",
    "y_pred = classifier.predict(x_test_CH2)\n",
    "\n",
    "print(\"The best accuracy after feature selection is\" ,round(accuracy_score(y_pred,y_test)*100,2))"
   ]
  },
  {
   "cell_type": "code",
   "execution_count": 29,
   "id": "2c4e5dd9",
   "metadata": {
    "id": "2c4e5dd9"
   },
   "outputs": [],
   "source": [
    "from sklearn.metrics import confusion_matrix\n",
    "import matplotlib.pyplot as plt\n",
    "import matplotlib.patches as mpatches\n",
    "import seaborn as sns\n",
    "%matplotlib inline\n",
    "\n",
    "#Function to plot confusion matrix for the passed model and the data\n",
    "def plot_confusion_matrix(model, X_test, y_test):\n",
    "    \n",
    "    classes = products_data.category.unique()\n",
    "    # use model to do the prediction\n",
    "    y_pred = model.predict(x_test_CH2)\n",
    "    # compute confusion matrix\n",
    "    cm = confusion_matrix(y_test,y_pred)\n",
    "    # plot confusion matrix\n",
    "    plt.figure(figsize=(12,10))\n",
    "    sns.heatmap(cm, cmap=plt.cm.Blues, annot=True, fmt='d', \n",
    "                xticklabels=classes,\n",
    "                yticklabels=classes)\n",
    "    plt.title('Confusion matrix', fontsize=16)\n",
    "    plt.xlabel('Predicted label', fontsize=12)\n",
    "    plt.ylabel('Actual label', fontsize=12)"
   ]
  },
  {
   "cell_type": "code",
   "execution_count": 30,
   "id": "d2a1f51d",
   "metadata": {
    "colab": {
     "base_uri": "https://localhost:8080/",
     "height": 753
    },
    "id": "d2a1f51d",
    "outputId": "117d86f5-b189-484d-929b-1741f2af84ea"
   },
   "outputs": [
    {
     "data": {
      "image/png": "[encoded data removed]",
      "text/plain": [
       "<Figure size 864x720 with 2 Axes>"
      ]
     },
     "metadata": {
      "needs_background": "light"
     },
     "output_type": "display_data"
    }
   ],
   "source": [
    "plot_confusion_matrix(classifier, x_test, y_test)"
   ]
  },
  {
   "cell_type": "code",
   "execution_count": null,
   "id": "gMuPzYDAew19",
   "metadata": {
    "id": "gMuPzYDAew19"
   },
   "outputs": [],
   "source": []
  },
  {
   "cell_type": "markdown",
   "id": "EtYymxXxexmf",
   "metadata": {
    "id": "EtYymxXxexmf"
   },
   "source": [
    "# True Positive, True Negative, False Positive and False Negative"
   ]
  },
  {
   "cell_type": "code",
   "execution_count": 45,
   "id": "e9f2a7b4",
   "metadata": {
    "colab": {
     "base_uri": "https://localhost:8080/"
    },
    "id": "e9f2a7b4",
    "outputId": "e0d4326b-5f09-48e2-c3e8-b2fc1d2ba7ef"
   },
   "outputs": [
    {
     "name": "stdout",
     "output_type": "stream",
     "text": [
      "True positive rate [0.93519927 0.91461159 0.89143866 0.89717378 0.77892499 0.84032599\n",
      " 0.95628079 0.87173252]\n",
      "True negative rate [0.98931337 0.97901192 0.98126168 0.9831412  0.97394729 0.98371378\n",
      " 0.99101589 0.98775422]\n",
      "False positive rate [0.01068663 0.02098808 0.01873832 0.0168588  0.02605271 0.01628622\n",
      " 0.00898411 0.01224578]\n",
      "False negative rate [0.06480073 0.08538841 0.10856134 0.10282622 0.22107501 0.15967401\n",
      " 0.04371921 0.12826748]\n",
      "ACC [0.98257576 0.97109848 0.96969697 0.97231061 0.94962121 0.9657197\n",
      " 0.98674242 0.97329545]\n",
      "**********************************\n",
      "acc 0.885530303030303\n"
     ]
    }
   ],
   "source": [
    "cm=confusion_matrix(y_test,y_pred)\n",
    "\n",
    "FP = cm.sum(axis=0) - np.diag(cm)  \n",
    "FN = cm.sum(axis=1) - np.diag(cm)\n",
    "TP = np.diag(cm)\n",
    "TN = cm.sum() - (FP + FN + TP)\n",
    "\n",
    "# Sensitivity, hit rate, recall, or true positive rate\n",
    "TPR = TP/(TP+FN)\n",
    "print('True positive rate',TPR)\n",
    "# Specificity or true negative rate\n",
    "TNR = TN/(TN+FP) \n",
    "print('True negative rate',TNR)\n",
    "# Precision or positive predictive value\n",
    "PPV = TP/(TP+FP)\n",
    "# Negative predictive value\n",
    "NPV = TN/(TN+FN)\n",
    "# Fall out or false positive rate\n",
    "FPR = FP/(FP+TN)\n",
    "print('False positive rate',FPR)\n",
    "# False negative rate\n",
    "FNR = FN/(TP+FN)\n",
    "print('False negative rate',FNR)\n",
    "# False discovery rate\n",
    "FDR = FP/(TP+FP)\n",
    "\n",
    "# Overall accuracy\n",
    "ACC = (TP+TN)/(TP+FP+FN+TN)\n",
    "print('ACC',ACC)\n",
    "print('**********************************')\n",
    "acc = np.diag(cm).sum() / cm.sum()\n",
    "print('acc',acc)\n"
   ]
  }
 ],
 "metadata": {
  "accelerator": "GPU",
  "colab": {
   "collapsed_sections": [],
   "name": "Linear_SVC_With&Without_Feature_Selection.ipynb",
   "provenance": []
  },
  "gpuClass": "standard",
  "kernelspec": {
   "display_name": "Python 3 (ipykernel)",
   "language": "python",
   "name": "python3"
  },
  "language_info": {
   "codemirror_mode": {
    "name": "ipython",
    "version": 3
   },
   "file_extension": ".py",
   "mimetype": "text/x-python",
   "name": "python",
   "nbconvert_exporter": "python",
   "pygments_lexer": "ipython3",
   "version": "3.9.12"
  }
 },
 "nbformat": 4,
 "nbformat_minor": 5
}
